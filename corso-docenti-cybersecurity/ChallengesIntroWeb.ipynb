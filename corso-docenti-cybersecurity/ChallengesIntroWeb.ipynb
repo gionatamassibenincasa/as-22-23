{
 "cells": [
  {
   "cell_type": "markdown",
   "id": "f8e066a8-3cde-424f-94e9-00326a357e30",
   "metadata": {},
   "source": [
    "# Challenge relative al Web\n"
   ]
  },
  {
   "cell_type": "markdown",
   "id": "5452c8e0-938c-4c17-b9bc-c35d129dc46d",
   "metadata": {},
   "source": [
    "<div class=\"modal-content\"><div class=\"modal-header\"><div class=\"text-center modal-title h4\">Web 01 - HTTP: una semplice richiesta GET</div><button type=\"button\" class=\"btn-close\" aria-label=\"Close\"></button></div><div class=\"modal-body\"><div class=\"text-center\"><span class=\"badge bg-primary\"><svg aria-hidden=\"true\" focusable=\"false\" data-prefix=\"fas\" data-icon=\"globe\" class=\"svg-inline--fa fa-globe fa-w-16 fa-fw \" role=\"img\" xmlns=\"http://www.w3.org/2000/svg\" viewBox=\"0 0 496 512\"><path fill=\"currentColor\" d=\"M336.5 160C322 70.7 287.8 8 248 8s-74 62.7-88.5 152h177zM152 256c0 22.2 1.2 43.5 3.3 64h185.3c2.1-20.5 3.3-41.8 3.3-64s-1.2-43.5-3.3-64H155.3c-2.1 20.5-3.3 41.8-3.3 64zm324.7-96c-28.6-67.9-86.5-120.4-158-141.6 24.4 33.8 41.2 84.7 50 141.6h108zM177.2 18.4C105.8 39.6 47.8 92.1 19.3 160h108c8.7-56.9 25.5-107.8 49.9-141.6zM487.4 192H372.7c2.1 21 3.3 42.5 3.3 64s-1.2 43-3.3 64h114.6c5.5-20.5 8.6-41.8 8.6-64s-3.1-43.5-8.5-64zM120 256c0-21.5 1.2-43 3.3-64H8.6C3.2 212.5 0 233.8 0 256s3.2 43.5 8.6 64h114.6c-2-21-3.2-42.5-3.2-64zm39.5 96c14.5 89.3 48.7 152 88.5 152s74-62.7 88.5-152h-177zm159.3 141.6c71.4-21.2 129.4-73.7 158-141.6h-108c-8.8 56.9-25.6 107.8-50 141.6zM19.3 352c28.6 67.9 86.5 120.4 158 141.6-24.4-33.8-41.2-84.7-50-141.6h-108z\"></path></svg> 164 <svg aria-hidden=\"true\" focusable=\"false\" data-prefix=\"fas\" data-icon=\"flag\" class=\"svg-inline--fa fa-flag fa-w-16 fa-fw \" role=\"img\" xmlns=\"http://www.w3.org/2000/svg\" viewBox=\"0 0 512 512\"><path fill=\"currentColor\" d=\"M349.565 98.783C295.978 98.783 251.721 64 184.348 64c-24.955 0-47.309 4.384-68.045 12.013a55.947 55.947 0 0 0 3.586-23.562C118.117 24.015 94.806 1.206 66.338.048 34.345-1.254 8 24.296 8 56c0 19.026 9.497 35.825 24 45.945V488c0 13.255 10.745 24 24 24h16c13.255 0 24-10.745 24-24v-94.4c28.311-12.064 63.582-22.122 114.435-22.122 53.588 0 97.844 34.783 165.217 34.783 48.169 0 86.667-16.294 122.505-40.858C506.84 359.452 512 349.571 512 339.045v-243.1c0-23.393-24.269-38.87-45.485-29.016-34.338 15.948-76.454 31.854-116.95 31.854z\"></path></svg></span> <span class=\"badge bg-danger\"><svg aria-hidden=\"true\" focusable=\"false\" data-prefix=\"fas\" data-icon=\"trophy\" class=\"svg-inline--fa fa-trophy fa-w-18 fa-fw \" role=\"img\" xmlns=\"http://www.w3.org/2000/svg\" viewBox=\"0 0 576 512\"><path fill=\"currentColor\" d=\"M552 64H448V24c0-13.3-10.7-24-24-24H152c-13.3 0-24 10.7-24 24v40H24C10.7 64 0 74.7 0 88v56c0 35.7 22.5 72.4 61.9 100.7 31.5 22.7 69.8 37.1 110 41.7C203.3 338.5 240 360 240 360v72h-48c-35.3 0-64 20.7-64 56v12c0 6.6 5.4 12 12 12h296c6.6 0 12-5.4 12-12v-12c0-35.3-28.7-56-64-56h-48v-72s36.7-21.5 68.1-73.6c40.3-4.6 78.6-19 110-41.7 39.3-28.3 61.9-65 61.9-100.7V88c0-13.3-10.7-24-24-24zM99.3 192.8C74.9 175.2 64 155.6 64 144v-16h64.2c1 32.6 5.8 61.2 12.8 86.2-15.1-5.2-29.2-12.4-41.7-21.4zM512 144c0 16.1-17.7 36.1-35.3 48.8-12.5 9-26.7 16.2-41.8 21.4 7-25 11.8-53.6 12.8-86.2H512v16z\"></path></svg> 50</span></div><div class=\"text-center mt-3\"><span><svg aria-hidden=\"true\" focusable=\"false\" data-prefix=\"fas\" data-icon=\"tags\" class=\"svg-inline--fa fa-tags fa-w-20 fa-fw d-inline-block\" role=\"img\" xmlns=\"http://www.w3.org/2000/svg\" viewBox=\"0 0 640 512\"><path fill=\"currentColor\" d=\"M497.941 225.941L286.059 14.059A48 48 0 0 0 252.118 0H48C21.49 0 0 21.49 0 48v204.118a48 48 0 0 0 14.059 33.941l211.882 211.882c18.744 18.745 49.136 18.746 67.882 0l204.118-204.118c18.745-18.745 18.745-49.137 0-67.882zM112 160c-26.51 0-48-21.49-48-48s21.49-48 48-48 48 21.49 48 48-21.49 48-48 48zm513.941 133.823L421.823 497.941c-18.745 18.745-49.137 18.745-67.882 0l-.36-.36L527.64 323.522c16.999-16.999 26.36-39.6 26.36-63.64s-9.362-46.641-26.36-63.64L331.397 0h48.721a48 48 0 0 1 33.941 14.059l211.882 211.882c18.745 18.745 18.745 49.137 0 67.882z\"></path></svg></span> <span class=\"badge text-dark bg-warning\">web</span> </div><div><div class=\"markdown bg-light p-3 mt-3\"><p>In questa serie di challenge introduttive per la web security saranno presentati il protocollo HTTP e le\n",
    "principali tecnologie web ad esso comunemente associate, e alcuni\n",
    "semplici strumenti per interagirvi.\n",
    "<br><br>\n",
    "Le singole challenge seguiranno il modello <em>jeopardy</em>, concentrandosi\n",
    "quindi sull'ottenimento di <em>flag</em>.\n",
    "<br><br>\n",
    "Gli esempi e le spiegazioni proposti faranno riferimento al linguaggio\n",
    "Python e alla sua libreria standard, nonché alle librerie <code class=\"code\">requests</code> e\n",
    "<code class=\"code\">BeautifulSoup</code>, che si consiglia quindi di installare per seguire al\n",
    "meglio questo percorso.\n",
    "<br><br>\n",
    "Installazione delle librerie consigliate su Debian e Ubuntu Linux:</p>\n",
    "<pre><code class=\"code language-sh\">sudo apt install python3-requests python3-bs4\n",
    "</code></pre>\n",
    "<p>Sui sistemi Windows, installare manualmente l'interprete Python\n",
    "ottenibile dal <a href=\"https://www.python.org/downloads/windows/\" target=\"_blank\">sito ufficiale</a>\n",
    "del progetto Python ed eseguire nel prompt dei comandi</p>\n",
    "<pre><code class=\"code\">pip install requests bs4\n",
    "</code></pre>\n",
    "<p>Concepito per facilitare l'accesso a documenti ipertestuali, lo\n",
    "HyperText Transfer Protocol HTTP è oggi utilizzato per trasferire\n",
    "informazioni di ogni tipo da e verso server remoti attraverso la rete.\n",
    "Queste informazioni sono organizzate in <em>risorse</em>, identificate da\n",
    "stringhe di indirizzo dette <em>URL</em> (Unified Resource Locators), e le\n",
    "operazioni fondamentali eseguibili su queste risorse sono dette <em>verbi\n",
    "HTTP</em>.\n",
    "<br><br>\n",
    "Il più semplice di questi verbi, <code class=\"code\">GET</code>, è utilizzato per <em>ottenere</em> una\n",
    "una risorsa da un server remoto. L'obiettivo di questa challenge è\n",
    "ottenere il testo della risorsa radice del server\n",
    "web-01.challs.olicyber.it, identificata dall'URL\n",
    "<code class=\"code\">http://web-01.challs.olicyber.it/</code>\n",
    "<br><br>\n",
    "Si consiglia di utilizzare la funzione\n",
    "<a href=\"https://requests.readthedocs.io/en/latest/user/quickstart/#make-a-request\" target=\"_blank\">get</a>\n",
    "della libreria <code class=\"code\">requests</code>.\n",
    "<br><br>\n",
    "<em>Approfondimento:</em> è possibile osservare che un URL è generalmente\n",
    "composto da uno <em>schema</em> (in questo caso <code class=\"code\">http</code>) che identifica il\n",
    "meccanismo di accesso alla risorsa, un indirizzo internet opzionalmente\n",
    "comprensivo di porta (<code class=\"code\">web-01.challs.olicyber.it</code>) e un <em>percorso</em>\n",
    "(in questo caso <code class=\"code\">/</code> che identifica la risorsa radice). Le risorse sono\n",
    "organizzate in una struttura ad albero che ricorda quella di un file\n",
    "system, in cui <code class=\"code\">/</code> è la risorsa principale, mentre le risorse figlie\n",
    "sono identificate come <code class=\"code\">/risorsa1</code>, <code class=\"code\">/risorsa2</code>,\n",
    "<code class=\"code\">/super-risorsa/sotto-risorsa</code>, <code class=\"code\">/risorsa/annidata/su/cinque/livelli</code>.\n",
    "Questo rende possibile rappresentare facilmente risorse decomponibili in\n",
    "parti più piccole (p.e. <code class=\"code\">/utenti</code> la risorsa che rappresenta tutti gli\n",
    "utenti di un sito, mentre <code class=\"code\">/utenti/luca</code> rappresenta un unico utente,\n",
    "Luca).</p></div></div><hr><div><h5 class=\"text-center\"><svg aria-hidden=\"true\" focusable=\"false\" data-prefix=\"fas\" data-icon=\"file\" class=\"svg-inline--fa fa-file fa-w-12 fa-fw \" role=\"img\" xmlns=\"http://www.w3.org/2000/svg\" viewBox=\"0 0 384 512\"><path fill=\"currentColor\" d=\"M224 136V0H24C10.7 0 0 10.7 0 24v464c0 13.3 10.7 24 24 24h336c13.3 0 24-10.7 24-24V160H248c-13.2 0-24-10.8-24-24zm160-14.1v6.1H256V0h6.1c6.4 0 12.5 2.5 17 7l97.9 98c4.5 4.5 7 10.6 7 16.9z\"></path></svg> Attachments</h5><div class=\"mt-2\"><a href=\"/api/file/b1306bb5-1ef5-4f2e-97c3-d77fb88fdcb4/challenge.py?download\" target=\"_blank\" rel=\"noopener noreferrer\"><button type=\"button\" class=\"btn btn-primary\"><svg aria-hidden=\"true\" focusable=\"false\" data-prefix=\"fas\" data-icon=\"download\" class=\"svg-inline--fa fa-download fa-w-16 fa-fw \" role=\"img\" xmlns=\"http://www.w3.org/2000/svg\" viewBox=\"0 0 512 512\"><path fill=\"currentColor\" d=\"M216 0h80c13.3 0 24 10.7 24 24v168h87.7c17.8 0 26.7 21.5 14.1 34.1L269.7 378.3c-7.5 7.5-19.8 7.5-27.3 0L90.1 226.1c-12.6-12.6-3.7-34.1 14.1-34.1H192V24c0-13.3 10.7-24 24-24zm296 376v112c0 13.3-10.7 24-24 24H24c-13.3 0-24-10.7-24-24V376c0-13.3 10.7-24 24-24h146.7l49 49c20.1 20.1 52.5 20.1 72.6 0l49-49H488c13.3 0 24 10.7 24 24zm-124 88c0-11-9-20-20-20s-20 9-20 20 9 20 20 20 20-9 20-20zm64 0c0-11-9-20-20-20s-20 9-20 20 9 20 20 20 20-9 20-20z\"></path></svg> challenge.py</button> </a></div></div><hr><div class=\"input-group\"><input placeholder=\"flag{...}\" type=\"text\" class=\"form-control\" value=\"\"><button type=\"button\" class=\"btn btn-success\">Submit <svg aria-hidden=\"true\" focusable=\"false\" data-prefix=\"fas\" data-icon=\"arrow-right\" class=\"svg-inline--fa fa-arrow-right fa-w-14 fa-fw \" role=\"img\" xmlns=\"http://www.w3.org/2000/svg\" viewBox=\"0 0 448 512\"><path fill=\"currentColor\" d=\"M190.5 66.9l22.2-22.2c9.4-9.4 24.6-9.4 33.9 0L441 239c9.4 9.4 9.4 24.6 0 33.9L246.6 467.3c-9.4 9.4-24.6 9.4-33.9 0l-22.2-22.2c-9.5-9.5-9.3-25 .4-34.3L311.4 296H24c-13.3 0-24-10.7-24-24v-32c0-13.3 10.7-24 24-24h287.4L190.9 101.2c-9.8-9.3-10-24.8-.4-34.3z\"></path></svg></button></div></div></div>"
   ]
  },
  {
   "cell_type": "code",
   "execution_count": 1,
   "id": "545f4725-1515-422f-981b-872a6c73cf65",
   "metadata": {},
   "outputs": [],
   "source": [
    "import requests"
   ]
  },
  {
   "cell_type": "code",
   "execution_count": 8,
   "id": "08a5201c-2c3e-4aa5-ac06-56c1373352a3",
   "metadata": {},
   "outputs": [
    {
     "name": "stdout",
     "output_type": "stream",
     "text": [
      "flag{g3t7ing_4l0ng}\n"
     ]
    }
   ],
   "source": [
    "res = requests.get('http://web-01.challs.olicyber.it/')\n",
    "print(res.content.decode('utf-8'))"
   ]
  },
  {
   "cell_type": "markdown",
   "id": "3d74f923-a526-450d-adab-be11bffcd5c2",
   "metadata": {},
   "source": [
    "<div class=\"modal-content\"><div class=\"modal-header\"><div class=\"text-center modal-title h4\">Web 02 - HTTP: richiesta GET con query string</div><button type=\"button\" class=\"btn-close\" aria-label=\"Close\"></button></div><div class=\"modal-body\"><div class=\"text-center\"><span class=\"badge bg-primary\"><svg aria-hidden=\"true\" focusable=\"false\" data-prefix=\"fas\" data-icon=\"globe\" class=\"svg-inline--fa fa-globe fa-w-16 fa-fw \" role=\"img\" xmlns=\"http://www.w3.org/2000/svg\" viewBox=\"0 0 496 512\"><path fill=\"currentColor\" d=\"M336.5 160C322 70.7 287.8 8 248 8s-74 62.7-88.5 152h177zM152 256c0 22.2 1.2 43.5 3.3 64h185.3c2.1-20.5 3.3-41.8 3.3-64s-1.2-43.5-3.3-64H155.3c-2.1 20.5-3.3 41.8-3.3 64zm324.7-96c-28.6-67.9-86.5-120.4-158-141.6 24.4 33.8 41.2 84.7 50 141.6h108zM177.2 18.4C105.8 39.6 47.8 92.1 19.3 160h108c8.7-56.9 25.5-107.8 49.9-141.6zM487.4 192H372.7c2.1 21 3.3 42.5 3.3 64s-1.2 43-3.3 64h114.6c5.5-20.5 8.6-41.8 8.6-64s-3.1-43.5-8.5-64zM120 256c0-21.5 1.2-43 3.3-64H8.6C3.2 212.5 0 233.8 0 256s3.2 43.5 8.6 64h114.6c-2-21-3.2-42.5-3.2-64zm39.5 96c14.5 89.3 48.7 152 88.5 152s74-62.7 88.5-152h-177zm159.3 141.6c71.4-21.2 129.4-73.7 158-141.6h-108c-8.8 56.9-25.6 107.8-50 141.6zM19.3 352c28.6 67.9 86.5 120.4 158 141.6-24.4-33.8-41.2-84.7-50-141.6h-108z\"></path></svg> 141 <svg aria-hidden=\"true\" focusable=\"false\" data-prefix=\"fas\" data-icon=\"flag\" class=\"svg-inline--fa fa-flag fa-w-16 fa-fw \" role=\"img\" xmlns=\"http://www.w3.org/2000/svg\" viewBox=\"0 0 512 512\"><path fill=\"currentColor\" d=\"M349.565 98.783C295.978 98.783 251.721 64 184.348 64c-24.955 0-47.309 4.384-68.045 12.013a55.947 55.947 0 0 0 3.586-23.562C118.117 24.015 94.806 1.206 66.338.048 34.345-1.254 8 24.296 8 56c0 19.026 9.497 35.825 24 45.945V488c0 13.255 10.745 24 24 24h16c13.255 0 24-10.745 24-24v-94.4c28.311-12.064 63.582-22.122 114.435-22.122 53.588 0 97.844 34.783 165.217 34.783 48.169 0 86.667-16.294 122.505-40.858C506.84 359.452 512 349.571 512 339.045v-243.1c0-23.393-24.269-38.87-45.485-29.016-34.338 15.948-76.454 31.854-116.95 31.854z\"></path></svg></span> <span class=\"badge bg-danger\"><svg aria-hidden=\"true\" focusable=\"false\" data-prefix=\"fas\" data-icon=\"trophy\" class=\"svg-inline--fa fa-trophy fa-w-18 fa-fw \" role=\"img\" xmlns=\"http://www.w3.org/2000/svg\" viewBox=\"0 0 576 512\"><path fill=\"currentColor\" d=\"M552 64H448V24c0-13.3-10.7-24-24-24H152c-13.3 0-24 10.7-24 24v40H24C10.7 64 0 74.7 0 88v56c0 35.7 22.5 72.4 61.9 100.7 31.5 22.7 69.8 37.1 110 41.7C203.3 338.5 240 360 240 360v72h-48c-35.3 0-64 20.7-64 56v12c0 6.6 5.4 12 12 12h296c6.6 0 12-5.4 12-12v-12c0-35.3-28.7-56-64-56h-48v-72s36.7-21.5 68.1-73.6c40.3-4.6 78.6-19 110-41.7 39.3-28.3 61.9-65 61.9-100.7V88c0-13.3-10.7-24-24-24zM99.3 192.8C74.9 175.2 64 155.6 64 144v-16h64.2c1 32.6 5.8 61.2 12.8 86.2-15.1-5.2-29.2-12.4-41.7-21.4zM512 144c0 16.1-17.7 36.1-35.3 48.8-12.5 9-26.7 16.2-41.8 21.4 7-25 11.8-53.6 12.8-86.2H512v16z\"></path></svg> 50</span></div><div class=\"text-center mt-3\"><span><svg aria-hidden=\"true\" focusable=\"false\" data-prefix=\"fas\" data-icon=\"tags\" class=\"svg-inline--fa fa-tags fa-w-20 fa-fw d-inline-block\" role=\"img\" xmlns=\"http://www.w3.org/2000/svg\" viewBox=\"0 0 640 512\"><path fill=\"currentColor\" d=\"M497.941 225.941L286.059 14.059A48 48 0 0 0 252.118 0H48C21.49 0 0 21.49 0 48v204.118a48 48 0 0 0 14.059 33.941l211.882 211.882c18.744 18.745 49.136 18.746 67.882 0l204.118-204.118c18.745-18.745 18.745-49.137 0-67.882zM112 160c-26.51 0-48-21.49-48-48s21.49-48 48-48 48 21.49 48 48-21.49 48-48 48zm513.941 133.823L421.823 497.941c-18.745 18.745-49.137 18.745-67.882 0l-.36-.36L527.64 323.522c16.999-16.999 26.36-39.6 26.36-63.64s-9.362-46.641-26.36-63.64L331.397 0h48.721a48 48 0 0 1 33.941 14.059l211.882 211.882c18.745 18.745 18.745 49.137 0 67.882z\"></path></svg></span> <span class=\"badge text-dark bg-warning\">web</span> </div><div><div class=\"markdown bg-light p-3 mt-3\"><p>La richiesta di alcune risorse può essere parametrizzata, per ottenere\n",
    "particolari versioni della risorsa in questione. Ad esempio, un blog\n",
    "potrebbe utilizzare un'unica risorsa per rappresentare tutti i post\n",
    "pubblicati (che sono strutturalmente tutti uguali, differendo solo per\n",
    "il contenuto) identificando il contenuto specifico desiderato tramite un\n",
    "parametro numerico <code class=\"code\">id</code>.\n",
    "<br><br>\n",
    "L'obiettivo di questa challenge è ottenere la risorsa\n",
    "<code class=\"code\">http://web-02.challs.olicyber.it/server-records</code> specificando il\n",
    "parametro <code class=\"code\">id</code> con il valore <code class=\"code\">flag</code>. Si consiglia di utilizzare <a href=\"https://requests.readthedocs.io/en/latest/user/quickstart/#passing-parameters-in-urls\" target=\"_blank\">la\n",
    "parola chiave\n",
    "args</a>\n",
    "della funzione <code class=\"code\">get</code> illustrata nella challange precedente.</p></div></div><hr><div><h5 class=\"text-center\"><svg aria-hidden=\"true\" focusable=\"false\" data-prefix=\"fas\" data-icon=\"file\" class=\"svg-inline--fa fa-file fa-w-12 fa-fw \" role=\"img\" xmlns=\"http://www.w3.org/2000/svg\" viewBox=\"0 0 384 512\"><path fill=\"currentColor\" d=\"M224 136V0H24C10.7 0 0 10.7 0 24v464c0 13.3 10.7 24 24 24h336c13.3 0 24-10.7 24-24V160H248c-13.2 0-24-10.8-24-24zm160-14.1v6.1H256V0h6.1c6.4 0 12.5 2.5 17 7l97.9 98c4.5 4.5 7 10.6 7 16.9z\"></path></svg> Attachments</h5><div class=\"mt-2\"><a href=\"/api/file/aa0c9a6a-dcf8-4463-9aa3-c7b7b90470ca/challenge.py?download\" target=\"_blank\" rel=\"noopener noreferrer\"><button type=\"button\" class=\"btn btn-primary\"><svg aria-hidden=\"true\" focusable=\"false\" data-prefix=\"fas\" data-icon=\"download\" class=\"svg-inline--fa fa-download fa-w-16 fa-fw \" role=\"img\" xmlns=\"http://www.w3.org/2000/svg\" viewBox=\"0 0 512 512\"><path fill=\"currentColor\" d=\"M216 0h80c13.3 0 24 10.7 24 24v168h87.7c17.8 0 26.7 21.5 14.1 34.1L269.7 378.3c-7.5 7.5-19.8 7.5-27.3 0L90.1 226.1c-12.6-12.6-3.7-34.1 14.1-34.1H192V24c0-13.3 10.7-24 24-24zm296 376v112c0 13.3-10.7 24-24 24H24c-13.3 0-24-10.7-24-24V376c0-13.3 10.7-24 24-24h146.7l49 49c20.1 20.1 52.5 20.1 72.6 0l49-49H488c13.3 0 24 10.7 24 24zm-124 88c0-11-9-20-20-20s-20 9-20 20 9 20 20 20 20-9 20-20zm64 0c0-11-9-20-20-20s-20 9-20 20 9 20 20 20 20-9 20-20z\"></path></svg> challenge.py</button> </a></div></div><hr><div class=\"input-group\"><input placeholder=\"flag{...}\" type=\"text\" class=\"form-control\" value=\"flag{wh47_i5_y0ur_qu3ry}\"><button type=\"button\" class=\"btn btn-success\">Submit <svg aria-hidden=\"true\" focusable=\"false\" data-prefix=\"fas\" data-icon=\"arrow-right\" class=\"svg-inline--fa fa-arrow-right fa-w-14 fa-fw \" role=\"img\" xmlns=\"http://www.w3.org/2000/svg\" viewBox=\"0 0 448 512\"><path fill=\"currentColor\" d=\"M190.5 66.9l22.2-22.2c9.4-9.4 24.6-9.4 33.9 0L441 239c9.4 9.4 9.4 24.6 0 33.9L246.6 467.3c-9.4 9.4-24.6 9.4-33.9 0l-22.2-22.2c-9.5-9.5-9.3-25 .4-34.3L311.4 296H24c-13.3 0-24-10.7-24-24v-32c0-13.3 10.7-24 24-24h287.4L190.9 101.2c-9.8-9.3-10-24.8-.4-34.3z\"></path></svg></button></div></div></div>"
   ]
  },
  {
   "cell_type": "code",
   "execution_count": 11,
   "id": "87dd29e0-ae9e-4a70-94d3-7b7ee445f8cc",
   "metadata": {},
   "outputs": [
    {
     "name": "stdout",
     "output_type": "stream",
     "text": [
      "flag{wh47_i5_y0ur_qu3ry}\n"
     ]
    }
   ],
   "source": [
    "res = requests.get('http://web-02.challs.olicyber.it/server-records', params={'id': 'flag'})\n",
    "print(res.content.decode('utf-8'))"
   ]
  },
  {
   "cell_type": "markdown",
   "id": "a627aa86-6903-4310-bf70-5d7a56fe1a33",
   "metadata": {},
   "source": [
    "<div class=\"modal-content\"><div class=\"modal-header\"><div class=\"text-center modal-title h4\">Web 03 - HTTP: richiesta GET con header manuale</div><button type=\"button\" class=\"btn-close\" aria-label=\"Close\"></button></div><div class=\"modal-body\"><div class=\"text-center\"><span class=\"badge bg-primary\"><svg aria-hidden=\"true\" focusable=\"false\" data-prefix=\"fas\" data-icon=\"globe\" class=\"svg-inline--fa fa-globe fa-w-16 fa-fw \" role=\"img\" xmlns=\"http://www.w3.org/2000/svg\" viewBox=\"0 0 496 512\"><path fill=\"currentColor\" d=\"M336.5 160C322 70.7 287.8 8 248 8s-74 62.7-88.5 152h177zM152 256c0 22.2 1.2 43.5 3.3 64h185.3c2.1-20.5 3.3-41.8 3.3-64s-1.2-43.5-3.3-64H155.3c-2.1 20.5-3.3 41.8-3.3 64zm324.7-96c-28.6-67.9-86.5-120.4-158-141.6 24.4 33.8 41.2 84.7 50 141.6h108zM177.2 18.4C105.8 39.6 47.8 92.1 19.3 160h108c8.7-56.9 25.5-107.8 49.9-141.6zM487.4 192H372.7c2.1 21 3.3 42.5 3.3 64s-1.2 43-3.3 64h114.6c5.5-20.5 8.6-41.8 8.6-64s-3.1-43.5-8.5-64zM120 256c0-21.5 1.2-43 3.3-64H8.6C3.2 212.5 0 233.8 0 256s3.2 43.5 8.6 64h114.6c-2-21-3.2-42.5-3.2-64zm39.5 96c14.5 89.3 48.7 152 88.5 152s74-62.7 88.5-152h-177zm159.3 141.6c71.4-21.2 129.4-73.7 158-141.6h-108c-8.8 56.9-25.6 107.8-50 141.6zM19.3 352c28.6 67.9 86.5 120.4 158 141.6-24.4-33.8-41.2-84.7-50-141.6h-108z\"></path></svg> 117 <svg aria-hidden=\"true\" focusable=\"false\" data-prefix=\"fas\" data-icon=\"flag\" class=\"svg-inline--fa fa-flag fa-w-16 fa-fw \" role=\"img\" xmlns=\"http://www.w3.org/2000/svg\" viewBox=\"0 0 512 512\"><path fill=\"currentColor\" d=\"M349.565 98.783C295.978 98.783 251.721 64 184.348 64c-24.955 0-47.309 4.384-68.045 12.013a55.947 55.947 0 0 0 3.586-23.562C118.117 24.015 94.806 1.206 66.338.048 34.345-1.254 8 24.296 8 56c0 19.026 9.497 35.825 24 45.945V488c0 13.255 10.745 24 24 24h16c13.255 0 24-10.745 24-24v-94.4c28.311-12.064 63.582-22.122 114.435-22.122 53.588 0 97.844 34.783 165.217 34.783 48.169 0 86.667-16.294 122.505-40.858C506.84 359.452 512 349.571 512 339.045v-243.1c0-23.393-24.269-38.87-45.485-29.016-34.338 15.948-76.454 31.854-116.95 31.854z\"></path></svg></span> <span class=\"badge bg-danger\"><svg aria-hidden=\"true\" focusable=\"false\" data-prefix=\"fas\" data-icon=\"trophy\" class=\"svg-inline--fa fa-trophy fa-w-18 fa-fw \" role=\"img\" xmlns=\"http://www.w3.org/2000/svg\" viewBox=\"0 0 576 512\"><path fill=\"currentColor\" d=\"M552 64H448V24c0-13.3-10.7-24-24-24H152c-13.3 0-24 10.7-24 24v40H24C10.7 64 0 74.7 0 88v56c0 35.7 22.5 72.4 61.9 100.7 31.5 22.7 69.8 37.1 110 41.7C203.3 338.5 240 360 240 360v72h-48c-35.3 0-64 20.7-64 56v12c0 6.6 5.4 12 12 12h296c6.6 0 12-5.4 12-12v-12c0-35.3-28.7-56-64-56h-48v-72s36.7-21.5 68.1-73.6c40.3-4.6 78.6-19 110-41.7 39.3-28.3 61.9-65 61.9-100.7V88c0-13.3-10.7-24-24-24zM99.3 192.8C74.9 175.2 64 155.6 64 144v-16h64.2c1 32.6 5.8 61.2 12.8 86.2-15.1-5.2-29.2-12.4-41.7-21.4zM512 144c0 16.1-17.7 36.1-35.3 48.8-12.5 9-26.7 16.2-41.8 21.4 7-25 11.8-53.6 12.8-86.2H512v16z\"></path></svg> 50</span></div><div class=\"text-center mt-3\"><span><svg aria-hidden=\"true\" focusable=\"false\" data-prefix=\"fas\" data-icon=\"tags\" class=\"svg-inline--fa fa-tags fa-w-20 fa-fw d-inline-block\" role=\"img\" xmlns=\"http://www.w3.org/2000/svg\" viewBox=\"0 0 640 512\"><path fill=\"currentColor\" d=\"M497.941 225.941L286.059 14.059A48 48 0 0 0 252.118 0H48C21.49 0 0 21.49 0 48v204.118a48 48 0 0 0 14.059 33.941l211.882 211.882c18.744 18.745 49.136 18.746 67.882 0l204.118-204.118c18.745-18.745 18.745-49.137 0-67.882zM112 160c-26.51 0-48-21.49-48-48s21.49-48 48-48 48 21.49 48 48-21.49 48-48 48zm513.941 133.823L421.823 497.941c-18.745 18.745-49.137 18.745-67.882 0l-.36-.36L527.64 323.522c16.999-16.999 26.36-39.6 26.36-63.64s-9.362-46.641-26.36-63.64L331.397 0h48.721a48 48 0 0 1 33.941 14.059l211.882 211.882c18.745 18.745 18.745 49.137 0 67.882z\"></path></svg></span> <span class=\"badge text-dark bg-warning\">web</span> </div><div><div class=\"markdown bg-light p-3 mt-3\"><p>Quando viene inviata una richiesta HTTP, oltre al verbo, al percorso\n",
    "della risorsa desiderata e ad eventuali parametri associati, vengono\n",
    "comunicate al server alcune informazioni aggiuntive in campi detti\n",
    "<em>header</em> (dal fatto che vengono inviati nella prima parte del messaggio\n",
    "HTTP). Allo stesso modo, anche il server allegherà alla risposta degli\n",
    "<em>header</em> in aggiunta al contenuto richiesto. Questi header differiscono\n",
    "dai parametri della richiesta GET perché non vengono utilizzati per\n",
    "specificare la risorsa richiesta, ma contengono informazioni riguardanti\n",
    "il client (detto <em>user-agent</em>), il server e il canale di comunicazione,\n",
    "metadati associati alle risorse ed eventuali informazioni di debug.\n",
    "<br><br>\n",
    "Questi header vengono generalmente inseriti automaticamente dalle\n",
    "librerie client e dal server e appartengono ad un insieme standard\n",
    "definito come parte del protocollo stesso; ciononostante è possibile\n",
    "specificarne di aggiuntivi per soddisfare le esigenze di particolari\n",
    "applicazioni. Questi header non-standard hanno normalmente nomi che\n",
    "iniziano per <code class=\"code\">X-</code> e quando vengono inviati a un sistema non in grado di\n",
    "riconoscerli vengono solitamente ignorati.\n",
    "<br><br>\n",
    "In questa challenge, uno header non-standard è stato usato per fornire\n",
    "un meccanismo di autenticazione artigianale. L'obiettivo è ottenere il\n",
    "testo della risorsa all'indirizzo\n",
    "<code class=\"code\">http://web-03.challs.olicyber.it/flag</code>, ma il server risponderà\n",
    "solo a richieste che conterranno lo header <code class=\"code\">X-Password</code> contenente la\n",
    "password corretta, <code class=\"code\">admin</code>.\n",
    "<br><br>\n",
    "Si consiglia di utilizzare <a href=\"https://requests.readthedocs.io/en/latest/user/quickstart/#custom-headers\" target=\"_blank\">la\n",
    "parola chiave\n",
    "headers</a>\n",
    "della funzione <code class=\"code\">get</code> utilizzata nelle challenge precedenti.\n",
    "<br><br>\n",
    "<em>N.B.:</em> il protocollo HTTP fornisce già diversi meccanismi di\n",
    "autenticazione tramite lo header standard <code class=\"code\">Authorization</code>, che sono\n",
    "generalmente più complessi dell'esempio di autenticazione \"artigianale\"\n",
    "presentato in questa challenge. Anziché manipolare direttamente lo\n",
    "header <code class=\"code\">Authorization</code>, quando necessario librerie come <code class=\"code\">requests</code>\n",
    "forniscono <a href=\"https://requests.readthedocs.io/en/latest/user/authentication/\" target=\"_blank\">metodi\n",
    "specifici</a>\n",
    "per interfacciarsi con esso.</p></div></div><hr><div><h5 class=\"text-center\"><svg aria-hidden=\"true\" focusable=\"false\" data-prefix=\"fas\" data-icon=\"file\" class=\"svg-inline--fa fa-file fa-w-12 fa-fw \" role=\"img\" xmlns=\"http://www.w3.org/2000/svg\" viewBox=\"0 0 384 512\"><path fill=\"currentColor\" d=\"M224 136V0H24C10.7 0 0 10.7 0 24v464c0 13.3 10.7 24 24 24h336c13.3 0 24-10.7 24-24V160H248c-13.2 0-24-10.8-24-24zm160-14.1v6.1H256V0h6.1c6.4 0 12.5 2.5 17 7l97.9 98c4.5 4.5 7 10.6 7 16.9z\"></path></svg> Attachments</h5><div class=\"mt-2\"><a href=\"/api/file/56da9b27-45db-49b1-8339-e0cef66ec09c/challenge.py?download\" target=\"_blank\" rel=\"noopener noreferrer\"><button type=\"button\" class=\"btn btn-primary\"><svg aria-hidden=\"true\" focusable=\"false\" data-prefix=\"fas\" data-icon=\"download\" class=\"svg-inline--fa fa-download fa-w-16 fa-fw \" role=\"img\" xmlns=\"http://www.w3.org/2000/svg\" viewBox=\"0 0 512 512\"><path fill=\"currentColor\" d=\"M216 0h80c13.3 0 24 10.7 24 24v168h87.7c17.8 0 26.7 21.5 14.1 34.1L269.7 378.3c-7.5 7.5-19.8 7.5-27.3 0L90.1 226.1c-12.6-12.6-3.7-34.1 14.1-34.1H192V24c0-13.3 10.7-24 24-24zm296 376v112c0 13.3-10.7 24-24 24H24c-13.3 0-24-10.7-24-24V376c0-13.3 10.7-24 24-24h146.7l49 49c20.1 20.1 52.5 20.1 72.6 0l49-49H488c13.3 0 24 10.7 24 24zm-124 88c0-11-9-20-20-20s-20 9-20 20 9 20 20 20 20-9 20-20zm64 0c0-11-9-20-20-20s-20 9-20 20 9 20 20 20 20-9 20-20z\"></path></svg> challenge.py</button> </a></div></div><hr><div class=\"input-group\"><input placeholder=\"flag{...}\" type=\"text\" class=\"form-control\" value=\"flag{7ru57_m3_i_m_7h3_4dmin}\"><button type=\"button\" class=\"btn btn-success\">Submit <svg aria-hidden=\"true\" focusable=\"false\" data-prefix=\"fas\" data-icon=\"arrow-right\" class=\"svg-inline--fa fa-arrow-right fa-w-14 fa-fw \" role=\"img\" xmlns=\"http://www.w3.org/2000/svg\" viewBox=\"0 0 448 512\"><path fill=\"currentColor\" d=\"M190.5 66.9l22.2-22.2c9.4-9.4 24.6-9.4 33.9 0L441 239c9.4 9.4 9.4 24.6 0 33.9L246.6 467.3c-9.4 9.4-24.6 9.4-33.9 0l-22.2-22.2c-9.5-9.5-9.3-25 .4-34.3L311.4 296H24c-13.3 0-24-10.7-24-24v-32c0-13.3 10.7-24 24-24h287.4L190.9 101.2c-9.8-9.3-10-24.8-.4-34.3z\"></path></svg></button></div></div></div>"
   ]
  },
  {
   "cell_type": "code",
   "execution_count": 13,
   "id": "2b41bc30-9213-4569-a3c5-75c134aace3c",
   "metadata": {},
   "outputs": [
    {
     "name": "stdout",
     "output_type": "stream",
     "text": [
      "flag{7ru57_m3_i_m_7h3_4dmin}\n"
     ]
    }
   ],
   "source": [
    "res = requests.get('http://web-03.challs.olicyber.it/flag', headers={'X-Password': 'admin'})\n",
    "print(res.content.decode('utf-8'))"
   ]
  },
  {
   "cell_type": "markdown",
   "id": "292a3709-3ebe-43ca-99ba-b11b91c05661",
   "metadata": {},
   "source": [
    "<div class=\"modal-content\"><div class=\"modal-header\"><div class=\"text-center modal-title h4\">Web 04 - HTTP: l'header Accept</div><button type=\"button\" class=\"btn-close\" aria-label=\"Close\"></button></div><div class=\"modal-body\"><div class=\"text-center\"><span class=\"badge bg-primary\"><svg aria-hidden=\"true\" focusable=\"false\" data-prefix=\"fas\" data-icon=\"globe\" class=\"svg-inline--fa fa-globe fa-w-16 fa-fw \" role=\"img\" xmlns=\"http://www.w3.org/2000/svg\" viewBox=\"0 0 496 512\"><path fill=\"currentColor\" d=\"M336.5 160C322 70.7 287.8 8 248 8s-74 62.7-88.5 152h177zM152 256c0 22.2 1.2 43.5 3.3 64h185.3c2.1-20.5 3.3-41.8 3.3-64s-1.2-43.5-3.3-64H155.3c-2.1 20.5-3.3 41.8-3.3 64zm324.7-96c-28.6-67.9-86.5-120.4-158-141.6 24.4 33.8 41.2 84.7 50 141.6h108zM177.2 18.4C105.8 39.6 47.8 92.1 19.3 160h108c8.7-56.9 25.5-107.8 49.9-141.6zM487.4 192H372.7c2.1 21 3.3 42.5 3.3 64s-1.2 43-3.3 64h114.6c5.5-20.5 8.6-41.8 8.6-64s-3.1-43.5-8.5-64zM120 256c0-21.5 1.2-43 3.3-64H8.6C3.2 212.5 0 233.8 0 256s3.2 43.5 8.6 64h114.6c-2-21-3.2-42.5-3.2-64zm39.5 96c14.5 89.3 48.7 152 88.5 152s74-62.7 88.5-152h-177zm159.3 141.6c71.4-21.2 129.4-73.7 158-141.6h-108c-8.8 56.9-25.6 107.8-50 141.6zM19.3 352c28.6 67.9 86.5 120.4 158 141.6-24.4-33.8-41.2-84.7-50-141.6h-108z\"></path></svg> 85 <svg aria-hidden=\"true\" focusable=\"false\" data-prefix=\"fas\" data-icon=\"flag\" class=\"svg-inline--fa fa-flag fa-w-16 fa-fw \" role=\"img\" xmlns=\"http://www.w3.org/2000/svg\" viewBox=\"0 0 512 512\"><path fill=\"currentColor\" d=\"M349.565 98.783C295.978 98.783 251.721 64 184.348 64c-24.955 0-47.309 4.384-68.045 12.013a55.947 55.947 0 0 0 3.586-23.562C118.117 24.015 94.806 1.206 66.338.048 34.345-1.254 8 24.296 8 56c0 19.026 9.497 35.825 24 45.945V488c0 13.255 10.745 24 24 24h16c13.255 0 24-10.745 24-24v-94.4c28.311-12.064 63.582-22.122 114.435-22.122 53.588 0 97.844 34.783 165.217 34.783 48.169 0 86.667-16.294 122.505-40.858C506.84 359.452 512 349.571 512 339.045v-243.1c0-23.393-24.269-38.87-45.485-29.016-34.338 15.948-76.454 31.854-116.95 31.854z\"></path></svg></span> <span class=\"badge bg-danger\"><svg aria-hidden=\"true\" focusable=\"false\" data-prefix=\"fas\" data-icon=\"trophy\" class=\"svg-inline--fa fa-trophy fa-w-18 fa-fw \" role=\"img\" xmlns=\"http://www.w3.org/2000/svg\" viewBox=\"0 0 576 512\"><path fill=\"currentColor\" d=\"M552 64H448V24c0-13.3-10.7-24-24-24H152c-13.3 0-24 10.7-24 24v40H24C10.7 64 0 74.7 0 88v56c0 35.7 22.5 72.4 61.9 100.7 31.5 22.7 69.8 37.1 110 41.7C203.3 338.5 240 360 240 360v72h-48c-35.3 0-64 20.7-64 56v12c0 6.6 5.4 12 12 12h296c6.6 0 12-5.4 12-12v-12c0-35.3-28.7-56-64-56h-48v-72s36.7-21.5 68.1-73.6c40.3-4.6 78.6-19 110-41.7 39.3-28.3 61.9-65 61.9-100.7V88c0-13.3-10.7-24-24-24zM99.3 192.8C74.9 175.2 64 155.6 64 144v-16h64.2c1 32.6 5.8 61.2 12.8 86.2-15.1-5.2-29.2-12.4-41.7-21.4zM512 144c0 16.1-17.7 36.1-35.3 48.8-12.5 9-26.7 16.2-41.8 21.4 7-25 11.8-53.6 12.8-86.2H512v16z\"></path></svg> 50</span></div><div class=\"text-center mt-3\"><span><svg aria-hidden=\"true\" focusable=\"false\" data-prefix=\"fas\" data-icon=\"tags\" class=\"svg-inline--fa fa-tags fa-w-20 fa-fw d-inline-block\" role=\"img\" xmlns=\"http://www.w3.org/2000/svg\" viewBox=\"0 0 640 512\"><path fill=\"currentColor\" d=\"M497.941 225.941L286.059 14.059A48 48 0 0 0 252.118 0H48C21.49 0 0 21.49 0 48v204.118a48 48 0 0 0 14.059 33.941l211.882 211.882c18.744 18.745 49.136 18.746 67.882 0l204.118-204.118c18.745-18.745 18.745-49.137 0-67.882zM112 160c-26.51 0-48-21.49-48-48s21.49-48 48-48 48 21.49 48 48-21.49 48-48 48zm513.941 133.823L421.823 497.941c-18.745 18.745-49.137 18.745-67.882 0l-.36-.36L527.64 323.522c16.999-16.999 26.36-39.6 26.36-63.64s-9.362-46.641-26.36-63.64L331.397 0h48.721a48 48 0 0 1 33.941 14.059l211.882 211.882c18.745 18.745 18.745 49.137 0 67.882z\"></path></svg></span> <span class=\"badge text-dark bg-warning\">web</span> </div><div><div class=\"markdown bg-light p-3 mt-3\"><p>Quello di <em>risorsa</em>, in HTTP, è un concetto molto astratto. Una risorsa\n",
    "non designa necessariamente un file su un disco, ma potrebbe\n",
    "tranquillamente essere un dispositivo hardware, il contenuto di un\n",
    "database, l'output di un programma, o più in generale qualsiasi cosa sia\n",
    "rappresentabile astrattamente come una collezione di dati.\n",
    "<br><br>\n",
    "Quando \"richiediamo una risorsa\" tramite HTTP, non stiamo veramente\n",
    "ricevendo la risorsa originale (che in certi casi non è neanche\n",
    "fisicamente trasferibile tramite la rete, si pensi all'esempio di un\n",
    "dispositivo hardware), bensì una sua rappresentazione.\n",
    "<br><br>\n",
    "Le risorse che vengono offerte da un server hanno solitamente una\n",
    "singola rappresentazione, ma in alcuni casi è possibile richiedere (e\n",
    "ricevere) più rappresentazioni equivalenti, in modo da poter scegliere\n",
    "il formato che è più semplice da elaborare per il client.\n",
    "<br><br>\n",
    "Lo header <code class=\"code\">Accept</code> inviato come parte della richiesta specifica una\n",
    "lista di formati che il client considera \"accettabili\" in ordine di\n",
    "preferenza, usando un sistema di classificazione detto <em>tipo MIME</em> (un\n",
    "elenco completo dei tipi MIME disponibili è consultabile sul sito\n",
    "ufficiale dell'organizzazione\n",
    "<a href=\"https://www.iana.org/assignments/media-types/media-types.xhtml\" target=\"_blank\">IANA</a>\n",
    "che si occupa di assegnarli).\n",
    "<br><br>\n",
    "Talvolta, a causa ad esempio di una disattenzione legata alle differenti\n",
    "caratteristiche dei vari formati, le varie rappresentazioni di una\n",
    "risorsa non sono veramente equivalenti, e una rappresentazione\n",
    "alternativa può rivelare informazioni aggiuntive che si pensavano\n",
    "segrete.\n",
    "<br><br>\n",
    "L'obiettivo di questa challenge è richiedere la risorsa\n",
    "<code class=\"code\">http://web-04.challs.olicyber.it/users</code> utilizzando la\n",
    "rappresentazione alternativa <code class=\"code\">application/xml</code> anziché quella di default\n",
    "<code class=\"code\">application/json</code>.\n",
    "<br><br>\n",
    "Si consiglia di provare ad ottenere la risorsa normalmente, e\n",
    "successivamente specificando un tipo di rappresentazione diversa\n",
    "(<code class=\"code\">application/xml</code>) tramite lo header <code class=\"code\">Accept</code>.</p></div></div><hr><div><h5 class=\"text-center\"><svg aria-hidden=\"true\" focusable=\"false\" data-prefix=\"fas\" data-icon=\"file\" class=\"svg-inline--fa fa-file fa-w-12 fa-fw \" role=\"img\" xmlns=\"http://www.w3.org/2000/svg\" viewBox=\"0 0 384 512\"><path fill=\"currentColor\" d=\"M224 136V0H24C10.7 0 0 10.7 0 24v464c0 13.3 10.7 24 24 24h336c13.3 0 24-10.7 24-24V160H248c-13.2 0-24-10.8-24-24zm160-14.1v6.1H256V0h6.1c6.4 0 12.5 2.5 17 7l97.9 98c4.5 4.5 7 10.6 7 16.9z\"></path></svg> Attachments</h5><div class=\"mt-2\"><a href=\"/api/file/d7087bd2-897a-45bf-962e-4c260fbcc46b/challenge.py?download\" target=\"_blank\" rel=\"noopener noreferrer\"><button type=\"button\" class=\"btn btn-primary\"><svg aria-hidden=\"true\" focusable=\"false\" data-prefix=\"fas\" data-icon=\"download\" class=\"svg-inline--fa fa-download fa-w-16 fa-fw \" role=\"img\" xmlns=\"http://www.w3.org/2000/svg\" viewBox=\"0 0 512 512\"><path fill=\"currentColor\" d=\"M216 0h80c13.3 0 24 10.7 24 24v168h87.7c17.8 0 26.7 21.5 14.1 34.1L269.7 378.3c-7.5 7.5-19.8 7.5-27.3 0L90.1 226.1c-12.6-12.6-3.7-34.1 14.1-34.1H192V24c0-13.3 10.7-24 24-24zm296 376v112c0 13.3-10.7 24-24 24H24c-13.3 0-24-10.7-24-24V376c0-13.3 10.7-24 24-24h146.7l49 49c20.1 20.1 52.5 20.1 72.6 0l49-49H488c13.3 0 24 10.7 24 24zm-124 88c0-11-9-20-20-20s-20 9-20 20 9 20 20 20 20-9 20-20zm64 0c0-11-9-20-20-20s-20 9-20 20 9 20 20 20 20-9 20-20z\"></path></svg> challenge.py</button> </a></div></div><hr><div class=\"input-group\"><input placeholder=\"flag{...}\" type=\"text\" class=\"form-control\" value=\"flag{54m3_7hing_diff3r3n7_7hing}\"><button type=\"button\" class=\"btn btn-success\">Submit <svg aria-hidden=\"true\" focusable=\"false\" data-prefix=\"fas\" data-icon=\"arrow-right\" class=\"svg-inline--fa fa-arrow-right fa-w-14 fa-fw \" role=\"img\" xmlns=\"http://www.w3.org/2000/svg\" viewBox=\"0 0 448 512\"><path fill=\"currentColor\" d=\"M190.5 66.9l22.2-22.2c9.4-9.4 24.6-9.4 33.9 0L441 239c9.4 9.4 9.4 24.6 0 33.9L246.6 467.3c-9.4 9.4-24.6 9.4-33.9 0l-22.2-22.2c-9.5-9.5-9.3-25 .4-34.3L311.4 296H24c-13.3 0-24-10.7-24-24v-32c0-13.3 10.7-24 24-24h287.4L190.9 101.2c-9.8-9.3-10-24.8-.4-34.3z\"></path></svg></button></div></div></div>"
   ]
  },
  {
   "cell_type": "code",
   "execution_count": 19,
   "id": "071ccab9-6781-4ee3-8f1c-9ba613fc1e6b",
   "metadata": {},
   "outputs": [
    {
     "name": "stdout",
     "output_type": "stream",
     "text": [
      "Richiesta senza XML\n",
      "b'{\\n  \"users\": [\\n    {\\n      \"name\": \"admin\",\\n      \"role\": \"admin\",\\n      \"registration_date\": \"2018-06-18T15:34:55Z\"\\n    },\\n    {\\n      \"name\": \"fruitfly\",\\n      \"role\": \"user\",\\n      \"registration_date\": \"2019-08-12T12:04:32Z\"\\n    },\\n    {\\n      \"name\": \"jim87\",\\n      \"role\": \"user\",\\n      \"registration_date\": \"2022-01-13T20:09:43Z\"\\n    },\\n    {\\n      \"name\": \"anonymous05\",\\n      \"role\": \"user\",\\n      \"registration_date\": \"2022-03-09T16:01:07Z\"\\n    }\\n  ]\\n}'\n",
      "Richiesta Accept: XML\n",
      "b'<?xml version=\"1.0\"?>\\n\\n<users>\\n  <user comment=\"flag{54m3_7hing_diff3r3n7_7hing}\">\\n    <name>admin</name>\\n    <role>admin</role>\\n    <registration_date>2018-06-18T15:34:55Z</registration_date>\\n  </user>\\n  <user>\\n    <name>fruitfly</name>\\n    <role>user</role>\\n    <registration_date>2019-08-12T12:04:32Z</registration_date>\\n  </user>\\n  <user>\\n    <name>jim87</name>\\n    <role>user</role>\\n    <registration_date>2022-01-13T20:09:43Z</registration_date>\\n  </user>\\n  <user comment=\"Suspicious activity\">\\n    <name>anonymous05</name>\\n    <role>user</role>\\n    <registration_date>2022-03-09T16:01:07Z</registration_date>\\n  </user>\\n</users>\\n'\n"
     ]
    }
   ],
   "source": [
    "print('Richiesta senza XML')\n",
    "res = requests.get('http://web-04.challs.olicyber.it/users')\n",
    "print(str(res.content))\n",
    "print('Richiesta Accept: XML')\n",
    "res = requests.get('http://web-04.challs.olicyber.it/users', headers={'Accept': 'application/xml'})\n",
    "print(str(res.content))"
   ]
  },
  {
   "cell_type": "markdown",
   "id": "3ca2d8be-df0b-45fb-b684-1f3e34bd8337",
   "metadata": {},
   "source": [
    "<div class=\"modal-content\"><div class=\"modal-header\"><div class=\"text-center modal-title h4\">Web 05 - HTTP: cookie manuale</div><button type=\"button\" class=\"btn-close\" aria-label=\"Close\"></button></div><div class=\"modal-body\"><div class=\"text-center\"><span class=\"badge bg-primary\"><svg aria-hidden=\"true\" focusable=\"false\" data-prefix=\"fas\" data-icon=\"globe\" class=\"svg-inline--fa fa-globe fa-w-16 fa-fw \" role=\"img\" xmlns=\"http://www.w3.org/2000/svg\" viewBox=\"0 0 496 512\"><path fill=\"currentColor\" d=\"M336.5 160C322 70.7 287.8 8 248 8s-74 62.7-88.5 152h177zM152 256c0 22.2 1.2 43.5 3.3 64h185.3c2.1-20.5 3.3-41.8 3.3-64s-1.2-43.5-3.3-64H155.3c-2.1 20.5-3.3 41.8-3.3 64zm324.7-96c-28.6-67.9-86.5-120.4-158-141.6 24.4 33.8 41.2 84.7 50 141.6h108zM177.2 18.4C105.8 39.6 47.8 92.1 19.3 160h108c8.7-56.9 25.5-107.8 49.9-141.6zM487.4 192H372.7c2.1 21 3.3 42.5 3.3 64s-1.2 43-3.3 64h114.6c5.5-20.5 8.6-41.8 8.6-64s-3.1-43.5-8.5-64zM120 256c0-21.5 1.2-43 3.3-64H8.6C3.2 212.5 0 233.8 0 256s3.2 43.5 8.6 64h114.6c-2-21-3.2-42.5-3.2-64zm39.5 96c14.5 89.3 48.7 152 88.5 152s74-62.7 88.5-152h-177zm159.3 141.6c71.4-21.2 129.4-73.7 158-141.6h-108c-8.8 56.9-25.6 107.8-50 141.6zM19.3 352c28.6 67.9 86.5 120.4 158 141.6-24.4-33.8-41.2-84.7-50-141.6h-108z\"></path></svg> 101 <svg aria-hidden=\"true\" focusable=\"false\" data-prefix=\"fas\" data-icon=\"flag\" class=\"svg-inline--fa fa-flag fa-w-16 fa-fw \" role=\"img\" xmlns=\"http://www.w3.org/2000/svg\" viewBox=\"0 0 512 512\"><path fill=\"currentColor\" d=\"M349.565 98.783C295.978 98.783 251.721 64 184.348 64c-24.955 0-47.309 4.384-68.045 12.013a55.947 55.947 0 0 0 3.586-23.562C118.117 24.015 94.806 1.206 66.338.048 34.345-1.254 8 24.296 8 56c0 19.026 9.497 35.825 24 45.945V488c0 13.255 10.745 24 24 24h16c13.255 0 24-10.745 24-24v-94.4c28.311-12.064 63.582-22.122 114.435-22.122 53.588 0 97.844 34.783 165.217 34.783 48.169 0 86.667-16.294 122.505-40.858C506.84 359.452 512 349.571 512 339.045v-243.1c0-23.393-24.269-38.87-45.485-29.016-34.338 15.948-76.454 31.854-116.95 31.854z\"></path></svg></span> <span class=\"badge bg-danger\"><svg aria-hidden=\"true\" focusable=\"false\" data-prefix=\"fas\" data-icon=\"trophy\" class=\"svg-inline--fa fa-trophy fa-w-18 fa-fw \" role=\"img\" xmlns=\"http://www.w3.org/2000/svg\" viewBox=\"0 0 576 512\"><path fill=\"currentColor\" d=\"M552 64H448V24c0-13.3-10.7-24-24-24H152c-13.3 0-24 10.7-24 24v40H24C10.7 64 0 74.7 0 88v56c0 35.7 22.5 72.4 61.9 100.7 31.5 22.7 69.8 37.1 110 41.7C203.3 338.5 240 360 240 360v72h-48c-35.3 0-64 20.7-64 56v12c0 6.6 5.4 12 12 12h296c6.6 0 12-5.4 12-12v-12c0-35.3-28.7-56-64-56h-48v-72s36.7-21.5 68.1-73.6c40.3-4.6 78.6-19 110-41.7 39.3-28.3 61.9-65 61.9-100.7V88c0-13.3-10.7-24-24-24zM99.3 192.8C74.9 175.2 64 155.6 64 144v-16h64.2c1 32.6 5.8 61.2 12.8 86.2-15.1-5.2-29.2-12.4-41.7-21.4zM512 144c0 16.1-17.7 36.1-35.3 48.8-12.5 9-26.7 16.2-41.8 21.4 7-25 11.8-53.6 12.8-86.2H512v16z\"></path></svg> 50</span></div><div class=\"text-center mt-3\"><span><svg aria-hidden=\"true\" focusable=\"false\" data-prefix=\"fas\" data-icon=\"tags\" class=\"svg-inline--fa fa-tags fa-w-20 fa-fw d-inline-block\" role=\"img\" xmlns=\"http://www.w3.org/2000/svg\" viewBox=\"0 0 640 512\"><path fill=\"currentColor\" d=\"M497.941 225.941L286.059 14.059A48 48 0 0 0 252.118 0H48C21.49 0 0 21.49 0 48v204.118a48 48 0 0 0 14.059 33.941l211.882 211.882c18.744 18.745 49.136 18.746 67.882 0l204.118-204.118c18.745-18.745 18.745-49.137 0-67.882zM112 160c-26.51 0-48-21.49-48-48s21.49-48 48-48 48 21.49 48 48-21.49 48-48 48zm513.941 133.823L421.823 497.941c-18.745 18.745-49.137 18.745-67.882 0l-.36-.36L527.64 323.522c16.999-16.999 26.36-39.6 26.36-63.64s-9.362-46.641-26.36-63.64L331.397 0h48.721a48 48 0 0 1 33.941 14.059l211.882 211.882c18.745 18.745 18.745 49.137 0 67.882z\"></path></svg></span> <span class=\"badge text-dark bg-warning\">web</span> </div><div><div class=\"markdown bg-light p-3 mt-3\"><p>Tra le informazioni scambiate tra client e server tramite gli header\n",
    "HTTP ci sono dei piccoli pezzetti di informazione detti <em>cookie</em>. A\n",
    "differenza di header non-standard, i cookie sono concepiti appositamente\n",
    "dallo standard HTTP per contenere dati arbitrari utili al funzionamento\n",
    "di siti e servizi web e sono comunemente utilizzati come parte di\n",
    "meccanismi di autenticazione aggiuntivi rispetto a quelli offerti dallo\n",
    "standard.\n",
    "<br><br>\n",
    "In maniera simile alla challenge numero 3, l'obiettivo è ottenere la\n",
    "risorsa <code class=\"code\">http://web-05.challs.olicyber.it/flag</code> fornendo la stringa\n",
    "<code class=\"code\">admin</code> in un cookie di nome <code class=\"code\">password</code>. Si consiglia di utilizzare il\n",
    "parametro\n",
    "<a href=\"https://requests.readthedocs.io/en/latest/user/quickstart/#cookies\" target=\"_blank\">cookies</a>\n",
    "della funzione <code class=\"code\">get</code> utilizzata fino a questo momento.</p></div></div><hr><div><h5 class=\"text-center\"><svg aria-hidden=\"true\" focusable=\"false\" data-prefix=\"fas\" data-icon=\"file\" class=\"svg-inline--fa fa-file fa-w-12 fa-fw \" role=\"img\" xmlns=\"http://www.w3.org/2000/svg\" viewBox=\"0 0 384 512\"><path fill=\"currentColor\" d=\"M224 136V0H24C10.7 0 0 10.7 0 24v464c0 13.3 10.7 24 24 24h336c13.3 0 24-10.7 24-24V160H248c-13.2 0-24-10.8-24-24zm160-14.1v6.1H256V0h6.1c6.4 0 12.5 2.5 17 7l97.9 98c4.5 4.5 7 10.6 7 16.9z\"></path></svg> Attachments</h5><div class=\"mt-2\"><a href=\"/api/file/99129c1b-2409-4d36-b81a-f3cf1b649e28/challenge.py?download\" target=\"_blank\" rel=\"noopener noreferrer\"><button type=\"button\" class=\"btn btn-primary\"><svg aria-hidden=\"true\" focusable=\"false\" data-prefix=\"fas\" data-icon=\"download\" class=\"svg-inline--fa fa-download fa-w-16 fa-fw \" role=\"img\" xmlns=\"http://www.w3.org/2000/svg\" viewBox=\"0 0 512 512\"><path fill=\"currentColor\" d=\"M216 0h80c13.3 0 24 10.7 24 24v168h87.7c17.8 0 26.7 21.5 14.1 34.1L269.7 378.3c-7.5 7.5-19.8 7.5-27.3 0L90.1 226.1c-12.6-12.6-3.7-34.1 14.1-34.1H192V24c0-13.3 10.7-24 24-24zm296 376v112c0 13.3-10.7 24-24 24H24c-13.3 0-24-10.7-24-24V376c0-13.3 10.7-24 24-24h146.7l49 49c20.1 20.1 52.5 20.1 72.6 0l49-49H488c13.3 0 24 10.7 24 24zm-124 88c0-11-9-20-20-20s-20 9-20 20 9 20 20 20 20-9 20-20zm64 0c0-11-9-20-20-20s-20 9-20 20 9 20 20 20 20-9 20-20z\"></path></svg> challenge.py</button> </a></div></div><hr><div class=\"input-group\"><input placeholder=\"flag{...}\" type=\"text\" class=\"form-control\" value=\"flag{v3ry_7457y_c00ki35}\"><button type=\"button\" class=\"btn btn-success\">Submit <svg aria-hidden=\"true\" focusable=\"false\" data-prefix=\"fas\" data-icon=\"arrow-right\" class=\"svg-inline--fa fa-arrow-right fa-w-14 fa-fw \" role=\"img\" xmlns=\"http://www.w3.org/2000/svg\" viewBox=\"0 0 448 512\"><path fill=\"currentColor\" d=\"M190.5 66.9l22.2-22.2c9.4-9.4 24.6-9.4 33.9 0L441 239c9.4 9.4 9.4 24.6 0 33.9L246.6 467.3c-9.4 9.4-24.6 9.4-33.9 0l-22.2-22.2c-9.5-9.5-9.3-25 .4-34.3L311.4 296H24c-13.3 0-24-10.7-24-24v-32c0-13.3 10.7-24 24-24h287.4L190.9 101.2c-9.8-9.3-10-24.8-.4-34.3z\"></path></svg></button></div></div></div>"
   ]
  },
  {
   "cell_type": "code",
   "execution_count": 20,
   "id": "91e6099d-363f-4527-a631-efdd6f7f3495",
   "metadata": {},
   "outputs": [
    {
     "name": "stdout",
     "output_type": "stream",
     "text": [
      "b'flag{v3ry_7457y_c00ki35}'\n"
     ]
    }
   ],
   "source": [
    "res = requests.get('http://web-05.challs.olicyber.it/flag', cookies={'password': 'admin'})\n",
    "print(str(res.content))"
   ]
  },
  {
   "cell_type": "markdown",
   "id": "9c83585d-59d8-49e2-be5c-08265cccf2c3",
   "metadata": {},
   "source": [
    "<div class=\"modal-content\"><div class=\"modal-header\"><div class=\"text-center modal-title h4\">Web 06 - HTTP: ricevere un cookie</div><button type=\"button\" class=\"btn-close\" aria-label=\"Close\"></button></div><div class=\"modal-body\"><div class=\"text-center\"><span class=\"badge bg-primary\"><svg aria-hidden=\"true\" focusable=\"false\" data-prefix=\"fas\" data-icon=\"globe\" class=\"svg-inline--fa fa-globe fa-w-16 fa-fw \" role=\"img\" xmlns=\"http://www.w3.org/2000/svg\" viewBox=\"0 0 496 512\"><path fill=\"currentColor\" d=\"M336.5 160C322 70.7 287.8 8 248 8s-74 62.7-88.5 152h177zM152 256c0 22.2 1.2 43.5 3.3 64h185.3c2.1-20.5 3.3-41.8 3.3-64s-1.2-43.5-3.3-64H155.3c-2.1 20.5-3.3 41.8-3.3 64zm324.7-96c-28.6-67.9-86.5-120.4-158-141.6 24.4 33.8 41.2 84.7 50 141.6h108zM177.2 18.4C105.8 39.6 47.8 92.1 19.3 160h108c8.7-56.9 25.5-107.8 49.9-141.6zM487.4 192H372.7c2.1 21 3.3 42.5 3.3 64s-1.2 43-3.3 64h114.6c5.5-20.5 8.6-41.8 8.6-64s-3.1-43.5-8.5-64zM120 256c0-21.5 1.2-43 3.3-64H8.6C3.2 212.5 0 233.8 0 256s3.2 43.5 8.6 64h114.6c-2-21-3.2-42.5-3.2-64zm39.5 96c14.5 89.3 48.7 152 88.5 152s74-62.7 88.5-152h-177zm159.3 141.6c71.4-21.2 129.4-73.7 158-141.6h-108c-8.8 56.9-25.6 107.8-50 141.6zM19.3 352c28.6 67.9 86.5 120.4 158 141.6-24.4-33.8-41.2-84.7-50-141.6h-108z\"></path></svg> 103 <svg aria-hidden=\"true\" focusable=\"false\" data-prefix=\"fas\" data-icon=\"flag\" class=\"svg-inline--fa fa-flag fa-w-16 fa-fw \" role=\"img\" xmlns=\"http://www.w3.org/2000/svg\" viewBox=\"0 0 512 512\"><path fill=\"currentColor\" d=\"M349.565 98.783C295.978 98.783 251.721 64 184.348 64c-24.955 0-47.309 4.384-68.045 12.013a55.947 55.947 0 0 0 3.586-23.562C118.117 24.015 94.806 1.206 66.338.048 34.345-1.254 8 24.296 8 56c0 19.026 9.497 35.825 24 45.945V488c0 13.255 10.745 24 24 24h16c13.255 0 24-10.745 24-24v-94.4c28.311-12.064 63.582-22.122 114.435-22.122 53.588 0 97.844 34.783 165.217 34.783 48.169 0 86.667-16.294 122.505-40.858C506.84 359.452 512 349.571 512 339.045v-243.1c0-23.393-24.269-38.87-45.485-29.016-34.338 15.948-76.454 31.854-116.95 31.854z\"></path></svg></span> <span class=\"badge bg-danger\"><svg aria-hidden=\"true\" focusable=\"false\" data-prefix=\"fas\" data-icon=\"trophy\" class=\"svg-inline--fa fa-trophy fa-w-18 fa-fw \" role=\"img\" xmlns=\"http://www.w3.org/2000/svg\" viewBox=\"0 0 576 512\"><path fill=\"currentColor\" d=\"M552 64H448V24c0-13.3-10.7-24-24-24H152c-13.3 0-24 10.7-24 24v40H24C10.7 64 0 74.7 0 88v56c0 35.7 22.5 72.4 61.9 100.7 31.5 22.7 69.8 37.1 110 41.7C203.3 338.5 240 360 240 360v72h-48c-35.3 0-64 20.7-64 56v12c0 6.6 5.4 12 12 12h296c6.6 0 12-5.4 12-12v-12c0-35.3-28.7-56-64-56h-48v-72s36.7-21.5 68.1-73.6c40.3-4.6 78.6-19 110-41.7 39.3-28.3 61.9-65 61.9-100.7V88c0-13.3-10.7-24-24-24zM99.3 192.8C74.9 175.2 64 155.6 64 144v-16h64.2c1 32.6 5.8 61.2 12.8 86.2-15.1-5.2-29.2-12.4-41.7-21.4zM512 144c0 16.1-17.7 36.1-35.3 48.8-12.5 9-26.7 16.2-41.8 21.4 7-25 11.8-53.6 12.8-86.2H512v16z\"></path></svg> 50</span></div><div class=\"text-center mt-3\"><span><svg aria-hidden=\"true\" focusable=\"false\" data-prefix=\"fas\" data-icon=\"tags\" class=\"svg-inline--fa fa-tags fa-w-20 fa-fw d-inline-block\" role=\"img\" xmlns=\"http://www.w3.org/2000/svg\" viewBox=\"0 0 640 512\"><path fill=\"currentColor\" d=\"M497.941 225.941L286.059 14.059A48 48 0 0 0 252.118 0H48C21.49 0 0 21.49 0 48v204.118a48 48 0 0 0 14.059 33.941l211.882 211.882c18.744 18.745 49.136 18.746 67.882 0l204.118-204.118c18.745-18.745 18.745-49.137 0-67.882zM112 160c-26.51 0-48-21.49-48-48s21.49-48 48-48 48 21.49 48 48-21.49 48-48 48zm513.941 133.823L421.823 497.941c-18.745 18.745-49.137 18.745-67.882 0l-.36-.36L527.64 323.522c16.999-16.999 26.36-39.6 26.36-63.64s-9.362-46.641-26.36-63.64L331.397 0h48.721a48 48 0 0 1 33.941 14.059l211.882 211.882c18.745 18.745 18.745 49.137 0 67.882z\"></path></svg></span> <span class=\"badge text-dark bg-warning\">web</span> </div><div><div class=\"markdown bg-light p-3 mt-3\"><p>Quello dei cookie non è un meccanismo ridondante rispetto agli altri\n",
    "tipi di parametro osservati finora. A differenza di essi, infatti, il\n",
    "server è in grado di richiedere l'installazione di cookie da esso\n",
    "forniti nella memoria del client. Questi cookie vengono associati al\n",
    "sito che li ha generati, e possono contenere una data di scadenza.\n",
    "<br><br>\n",
    "Nei browser web questa memorizzazione viene gestita automaticamente, e i\n",
    "cookie salvati vengono automaticamente inviati nelle richieste\n",
    "successive inviate allo stesso sito, e cancellati al raggiungimento\n",
    "della data indicata. In questo modo essi possono essere utilizzati per\n",
    "identificare una <em>sessione</em> con un client specifico, ovvero una serie di\n",
    "richieste consecutive eseguite dallo stesso dispositivo, anche quando\n",
    "più dispositivi sono connessi a internet attraverso la stessa sottorete\n",
    "e quindi condividono indirizzo IP.\n",
    "<br><br>\n",
    "L'obiettivo di questa challenge è eseguire una richiesta GET alla\n",
    "risorsa <code class=\"code\">http://web-06.challs.olicyber.it/token</code> che cercherà di\n",
    "installare un cookie di sessione, una volta ottenuto il quale sarà\n",
    "possibile accedere a <code class=\"code\">http://web-06.challs.olicyber.it/flag</code> per\n",
    "ottenere la flag.\n",
    "<br><br>\n",
    "La funzione <code class=\"code\">get</code> della libreria <code class=\"code\">requests</code> usata finora adotta un\n",
    "modello <em>senza stato</em>, ovvero non utilizza nessuna delle informazioni\n",
    "precedentemente ricevute dal server nella composizione delle richieste\n",
    "successive. Per completare questa challenge, si consiglia di istanziare\n",
    "un oggetto di classe\n",
    "<a href=\"https://requests.readthedocs.io/en/latest/user/advanced/#session-objects\" target=\"_blank\">Session</a>\n",
    "ed eseguire le richieste tramite il suo metodo <code class=\"code\">get</code>, che differisce\n",
    "dalla normale funzione <code class=\"code\">get</code> proprio per la caratteristica di salvare\n",
    "queste informazioni all'interno dell'oggetto emulando parzialmente il\n",
    "comportamento un browser.</p></div></div><hr><div><h5 class=\"text-center\"><svg aria-hidden=\"true\" focusable=\"false\" data-prefix=\"fas\" data-icon=\"file\" class=\"svg-inline--fa fa-file fa-w-12 fa-fw \" role=\"img\" xmlns=\"http://www.w3.org/2000/svg\" viewBox=\"0 0 384 512\"><path fill=\"currentColor\" d=\"M224 136V0H24C10.7 0 0 10.7 0 24v464c0 13.3 10.7 24 24 24h336c13.3 0 24-10.7 24-24V160H248c-13.2 0-24-10.8-24-24zm160-14.1v6.1H256V0h6.1c6.4 0 12.5 2.5 17 7l97.9 98c4.5 4.5 7 10.6 7 16.9z\"></path></svg> Attachments</h5><div class=\"mt-2\"><a href=\"/api/file/954b6f68-5ccc-4d09-83bf-b6f8c3db5644/challenge.py?download\" target=\"_blank\" rel=\"noopener noreferrer\"><button type=\"button\" class=\"btn btn-primary\"><svg aria-hidden=\"true\" focusable=\"false\" data-prefix=\"fas\" data-icon=\"download\" class=\"svg-inline--fa fa-download fa-w-16 fa-fw \" role=\"img\" xmlns=\"http://www.w3.org/2000/svg\" viewBox=\"0 0 512 512\"><path fill=\"currentColor\" d=\"M216 0h80c13.3 0 24 10.7 24 24v168h87.7c17.8 0 26.7 21.5 14.1 34.1L269.7 378.3c-7.5 7.5-19.8 7.5-27.3 0L90.1 226.1c-12.6-12.6-3.7-34.1 14.1-34.1H192V24c0-13.3 10.7-24 24-24zm296 376v112c0 13.3-10.7 24-24 24H24c-13.3 0-24-10.7-24-24V376c0-13.3 10.7-24 24-24h146.7l49 49c20.1 20.1 52.5 20.1 72.6 0l49-49H488c13.3 0 24 10.7 24 24zm-124 88c0-11-9-20-20-20s-20 9-20 20 9 20 20 20 20-9 20-20zm64 0c0-11-9-20-20-20s-20 9-20 20 9 20 20 20 20-9 20-20z\"></path></svg> challenge.py</button> </a></div></div><hr><div class=\"input-group\"><input placeholder=\"flag{...}\" type=\"text\" class=\"form-control\" value=\"flag{7w0_574g3_4cc3s5}\"><button type=\"button\" class=\"btn btn-success\">Submit <svg aria-hidden=\"true\" focusable=\"false\" data-prefix=\"fas\" data-icon=\"arrow-right\" class=\"svg-inline--fa fa-arrow-right fa-w-14 fa-fw \" role=\"img\" xmlns=\"http://www.w3.org/2000/svg\" viewBox=\"0 0 448 512\"><path fill=\"currentColor\" d=\"M190.5 66.9l22.2-22.2c9.4-9.4 24.6-9.4 33.9 0L441 239c9.4 9.4 9.4 24.6 0 33.9L246.6 467.3c-9.4 9.4-24.6 9.4-33.9 0l-22.2-22.2c-9.5-9.5-9.3-25 .4-34.3L311.4 296H24c-13.3 0-24-10.7-24-24v-32c0-13.3 10.7-24 24-24h287.4L190.9 101.2c-9.8-9.3-10-24.8-.4-34.3z\"></path></svg></button></div></div></div>"
   ]
  },
  {
   "cell_type": "code",
   "execution_count": 45,
   "id": "4ad6ff3d-404a-4a5b-9fa7-11c00b17b4f4",
   "metadata": {},
   "outputs": [
    {
     "name": "stdout",
     "output_type": "stream",
     "text": [
      "{'Content-Type': 'text/html; charset=utf-8', 'Date': 'Sat, 18 Feb 2023 12:35:42 GMT', 'Server': 'nginx/1.21.6', 'Set-Cookie': 'token=29e51ba5-e7f2-41a9-bb13-8eee52e08a74; Path=/'}\n",
      "Risposta del server: Set-Cookie:\ttoken: 29e51ba5-e7f2-41a9-bb13-8eee52e08a74\n",
      "b'flag{7w0_574g3_4cc3s5}'\n"
     ]
    }
   ],
   "source": [
    "from requests import Request, Session\n",
    "\n",
    "s = Session()\n",
    "res = s.get('http://web-06.challs.olicyber.it/token')\n",
    "# codice server side:\n",
    "#    token = str(uuid4())\n",
    "#    with sqlite3.connect(\"challenge.db\") as db:\n",
    "#        db.execute(\"INSERT INTO tokens(token) VALUES (?)\", (token,))\n",
    "#    response = Response(\"\", status=HTTPStatus.NO_CONTENT)\n",
    "#    response.set_cookie(\"token\", token)\n",
    "#    return response\n",
    "print(res.headers)\n",
    "print(\"Risposta del server: Set-Cookie:\t\"\n",
    "      + res.cookies.keys()[0]\n",
    "      + \": \"\n",
    "      + res.cookies[\"token\"])\n",
    "res = s.get('http://web-06.challs.olicyber.it/flag') #, cookie={\"token\", res.cookie[\"token\"]})\n",
    "# codice server\n",
    "#    with sqlite3.connect(\"challenge.db\") as db:\n",
    "#        row = db.execute(\"SELECT NULL FROM tokens WHERE token=?\", (token,))\n",
    "#    if row is None:\n",
    "#        return Response(\"Bad token cookie. Unauthorized\", mimetype=\"text/plain\", status=HTTPStatus.UNAUTHORIZED)\n",
    "#    return Response(environ[\"FLAG\"], mimetype=\"text/plain\", status=HTTPStatus.OK)\n",
    "print(res.content)"
   ]
  },
  {
   "cell_type": "markdown",
   "id": "fee3f662-5038-4163-9ef4-d0457e8c55f1",
   "metadata": {},
   "source": [
    "<div class=\"modal-content\"><div class=\"modal-header\"><div class=\"text-center modal-title h4\">Web 07 - HTTP: il metodo HEAD</div><button type=\"button\" class=\"btn-close\" aria-label=\"Close\"></button></div><div class=\"modal-body\"><div class=\"text-center\"><span class=\"badge bg-primary\"><svg aria-hidden=\"true\" focusable=\"false\" data-prefix=\"fas\" data-icon=\"globe\" class=\"svg-inline--fa fa-globe fa-w-16 fa-fw \" role=\"img\" xmlns=\"http://www.w3.org/2000/svg\" viewBox=\"0 0 496 512\"><path fill=\"currentColor\" d=\"M336.5 160C322 70.7 287.8 8 248 8s-74 62.7-88.5 152h177zM152 256c0 22.2 1.2 43.5 3.3 64h185.3c2.1-20.5 3.3-41.8 3.3-64s-1.2-43.5-3.3-64H155.3c-2.1 20.5-3.3 41.8-3.3 64zm324.7-96c-28.6-67.9-86.5-120.4-158-141.6 24.4 33.8 41.2 84.7 50 141.6h108zM177.2 18.4C105.8 39.6 47.8 92.1 19.3 160h108c8.7-56.9 25.5-107.8 49.9-141.6zM487.4 192H372.7c2.1 21 3.3 42.5 3.3 64s-1.2 43-3.3 64h114.6c5.5-20.5 8.6-41.8 8.6-64s-3.1-43.5-8.5-64zM120 256c0-21.5 1.2-43 3.3-64H8.6C3.2 212.5 0 233.8 0 256s3.2 43.5 8.6 64h114.6c-2-21-3.2-42.5-3.2-64zm39.5 96c14.5 89.3 48.7 152 88.5 152s74-62.7 88.5-152h-177zm159.3 141.6c71.4-21.2 129.4-73.7 158-141.6h-108c-8.8 56.9-25.6 107.8-50 141.6zM19.3 352c28.6 67.9 86.5 120.4 158 141.6-24.4-33.8-41.2-84.7-50-141.6h-108z\"></path></svg> 64 <svg aria-hidden=\"true\" focusable=\"false\" data-prefix=\"fas\" data-icon=\"flag\" class=\"svg-inline--fa fa-flag fa-w-16 fa-fw \" role=\"img\" xmlns=\"http://www.w3.org/2000/svg\" viewBox=\"0 0 512 512\"><path fill=\"currentColor\" d=\"M349.565 98.783C295.978 98.783 251.721 64 184.348 64c-24.955 0-47.309 4.384-68.045 12.013a55.947 55.947 0 0 0 3.586-23.562C118.117 24.015 94.806 1.206 66.338.048 34.345-1.254 8 24.296 8 56c0 19.026 9.497 35.825 24 45.945V488c0 13.255 10.745 24 24 24h16c13.255 0 24-10.745 24-24v-94.4c28.311-12.064 63.582-22.122 114.435-22.122 53.588 0 97.844 34.783 165.217 34.783 48.169 0 86.667-16.294 122.505-40.858C506.84 359.452 512 349.571 512 339.045v-243.1c0-23.393-24.269-38.87-45.485-29.016-34.338 15.948-76.454 31.854-116.95 31.854z\"></path></svg></span> <span class=\"badge bg-danger\"><svg aria-hidden=\"true\" focusable=\"false\" data-prefix=\"fas\" data-icon=\"trophy\" class=\"svg-inline--fa fa-trophy fa-w-18 fa-fw \" role=\"img\" xmlns=\"http://www.w3.org/2000/svg\" viewBox=\"0 0 576 512\"><path fill=\"currentColor\" d=\"M552 64H448V24c0-13.3-10.7-24-24-24H152c-13.3 0-24 10.7-24 24v40H24C10.7 64 0 74.7 0 88v56c0 35.7 22.5 72.4 61.9 100.7 31.5 22.7 69.8 37.1 110 41.7C203.3 338.5 240 360 240 360v72h-48c-35.3 0-64 20.7-64 56v12c0 6.6 5.4 12 12 12h296c6.6 0 12-5.4 12-12v-12c0-35.3-28.7-56-64-56h-48v-72s36.7-21.5 68.1-73.6c40.3-4.6 78.6-19 110-41.7 39.3-28.3 61.9-65 61.9-100.7V88c0-13.3-10.7-24-24-24zM99.3 192.8C74.9 175.2 64 155.6 64 144v-16h64.2c1 32.6 5.8 61.2 12.8 86.2-15.1-5.2-29.2-12.4-41.7-21.4zM512 144c0 16.1-17.7 36.1-35.3 48.8-12.5 9-26.7 16.2-41.8 21.4 7-25 11.8-53.6 12.8-86.2H512v16z\"></path></svg> 50</span></div><div class=\"text-center mt-3\"><span><svg aria-hidden=\"true\" focusable=\"false\" data-prefix=\"fas\" data-icon=\"tags\" class=\"svg-inline--fa fa-tags fa-w-20 fa-fw d-inline-block\" role=\"img\" xmlns=\"http://www.w3.org/2000/svg\" viewBox=\"0 0 640 512\"><path fill=\"currentColor\" d=\"M497.941 225.941L286.059 14.059A48 48 0 0 0 252.118 0H48C21.49 0 0 21.49 0 48v204.118a48 48 0 0 0 14.059 33.941l211.882 211.882c18.744 18.745 49.136 18.746 67.882 0l204.118-204.118c18.745-18.745 18.745-49.137 0-67.882zM112 160c-26.51 0-48-21.49-48-48s21.49-48 48-48 48 21.49 48 48-21.49 48-48 48zm513.941 133.823L421.823 497.941c-18.745 18.745-49.137 18.745-67.882 0l-.36-.36L527.64 323.522c16.999-16.999 26.36-39.6 26.36-63.64s-9.362-46.641-26.36-63.64L331.397 0h48.721a48 48 0 0 1 33.941 14.059l211.882 211.882c18.745 18.745 18.745 49.137 0 67.882z\"></path></svg></span> <span class=\"badge text-dark bg-warning\">web</span> </div><div><div class=\"markdown bg-light p-3 mt-3\"><p>A volte può essere interessante, per un client, conoscere i metadati di\n",
    "una risorsa senza doverne necessariamente ricevere l'intera\n",
    "rappresentazione (si pensi ad esempio al caso di un file di grandi\n",
    "dimensioni). Proprio per queste casistiche il protocollo HTTP fornisce\n",
    "il verbo HEAD, pensato per ottenere in risposta gli header di una\n",
    "richiesta GET equivalente, ma senza eseguire il trasferimento della\n",
    "risorsa.\n",
    "<br><br>\n",
    "Gli header riportati <em>dovrebbero</em> essere identici a quelli di un'analoga\n",
    "richiesta GET ma, come nel caso dello header <code class=\"code\">Accept</code>, un server\n",
    "difettoso o mal configurato può trapelare accidentalmente informazioni\n",
    "aggiuntive che non sarebbero incluse nella risposta a una normale\n",
    "richiesta GET.\n",
    "<br><br>\n",
    "L'obiettivo di questa challenge è eseguire una richiesta HEAD alla\n",
    "risorsa <code class=\"code\">http://web-07.challs.olicyber.it/</code> ed osservare gli header\n",
    "restituiti. Si consiglia di utilizzare la funzione\n",
    "<a href=\"https://requests.readthedocs.io/en/latest/user/quickstart/#make-a-request\" target=\"_blank\">head</a>\n",
    "della libreria <code class=\"code\">requests</code>, di utilizzo analogo a quello della funzione\n",
    "<code class=\"code\">get</code>.</p></div></div><hr><div><h5 class=\"text-center\"><svg aria-hidden=\"true\" focusable=\"false\" data-prefix=\"fas\" data-icon=\"file\" class=\"svg-inline--fa fa-file fa-w-12 fa-fw \" role=\"img\" xmlns=\"http://www.w3.org/2000/svg\" viewBox=\"0 0 384 512\"><path fill=\"currentColor\" d=\"M224 136V0H24C10.7 0 0 10.7 0 24v464c0 13.3 10.7 24 24 24h336c13.3 0 24-10.7 24-24V160H248c-13.2 0-24-10.8-24-24zm160-14.1v6.1H256V0h6.1c6.4 0 12.5 2.5 17 7l97.9 98c4.5 4.5 7 10.6 7 16.9z\"></path></svg> Attachments</h5><div class=\"mt-2\"><a href=\"/api/file/24df322d-678c-4175-87c4-a1b75bef7bb9/challenge.py?download\" target=\"_blank\" rel=\"noopener noreferrer\"><button type=\"button\" class=\"btn btn-primary\"><svg aria-hidden=\"true\" focusable=\"false\" data-prefix=\"fas\" data-icon=\"download\" class=\"svg-inline--fa fa-download fa-w-16 fa-fw \" role=\"img\" xmlns=\"http://www.w3.org/2000/svg\" viewBox=\"0 0 512 512\"><path fill=\"currentColor\" d=\"M216 0h80c13.3 0 24 10.7 24 24v168h87.7c17.8 0 26.7 21.5 14.1 34.1L269.7 378.3c-7.5 7.5-19.8 7.5-27.3 0L90.1 226.1c-12.6-12.6-3.7-34.1 14.1-34.1H192V24c0-13.3 10.7-24 24-24zm296 376v112c0 13.3-10.7 24-24 24H24c-13.3 0-24-10.7-24-24V376c0-13.3 10.7-24 24-24h146.7l49 49c20.1 20.1 52.5 20.1 72.6 0l49-49H488c13.3 0 24 10.7 24 24zm-124 88c0-11-9-20-20-20s-20 9-20 20 9 20 20 20 20-9 20-20zm64 0c0-11-9-20-20-20s-20 9-20 20 9 20 20 20 20-9 20-20z\"></path></svg> challenge.py</button> </a></div></div><hr><div class=\"input-group\"><input placeholder=\"flag{...}\" type=\"text\" class=\"form-control\" value=\"flag{r0gu3_m374d474}\"><button type=\"button\" class=\"btn btn-success\">Submit <svg aria-hidden=\"true\" focusable=\"false\" data-prefix=\"fas\" data-icon=\"arrow-right\" class=\"svg-inline--fa fa-arrow-right fa-w-14 fa-fw \" role=\"img\" xmlns=\"http://www.w3.org/2000/svg\" viewBox=\"0 0 448 512\"><path fill=\"currentColor\" d=\"M190.5 66.9l22.2-22.2c9.4-9.4 24.6-9.4 33.9 0L441 239c9.4 9.4 9.4 24.6 0 33.9L246.6 467.3c-9.4 9.4-24.6 9.4-33.9 0l-22.2-22.2c-9.5-9.5-9.3-25 .4-34.3L311.4 296H24c-13.3 0-24-10.7-24-24v-32c0-13.3 10.7-24 24-24h287.4L190.9 101.2c-9.8-9.3-10-24.8-.4-34.3z\"></path></svg></button></div></div></div>"
   ]
  },
  {
   "cell_type": "code",
   "execution_count": 47,
   "id": "8bbea0be-ac40-49f6-b62e-aa7cacb1b910",
   "metadata": {},
   "outputs": [
    {
     "name": "stdout",
     "output_type": "stream",
     "text": [
      "{'Content-Length': '12', 'Content-Type': 'text/plain; charset=utf-8', 'Date': 'Sat, 18 Feb 2023 12:45:46 GMT', 'Server': 'nginx/1.21.6', 'X-Flag': 'flag{r0gu3_m374d474}'}\n",
      "flag{r0gu3_m374d474}\n"
     ]
    }
   ],
   "source": [
    "import requests\n",
    "\n",
    "res = requests.head('http://web-07.challs.olicyber.it/')\n",
    "print(res.headers)\n",
    "print(res.headers['X-Flag'])"
   ]
  },
  {
   "cell_type": "markdown",
   "id": "79db5d0b-6f33-4b6e-8ace-8aecc5b74c63",
   "metadata": {},
   "source": [
    "<div class=\"modal-content\"><div class=\"modal-header\"><div class=\"text-center modal-title h4\">Web 08 - HTTP: una richiesta post tradizionale</div><button type=\"button\" class=\"btn-close\" aria-label=\"Close\"></button></div><div class=\"modal-body\"><div class=\"text-center\"><span class=\"badge bg-primary\"><svg aria-hidden=\"true\" focusable=\"false\" data-prefix=\"fas\" data-icon=\"globe\" class=\"svg-inline--fa fa-globe fa-w-16 fa-fw \" role=\"img\" xmlns=\"http://www.w3.org/2000/svg\" viewBox=\"0 0 496 512\"><path fill=\"currentColor\" d=\"M336.5 160C322 70.7 287.8 8 248 8s-74 62.7-88.5 152h177zM152 256c0 22.2 1.2 43.5 3.3 64h185.3c2.1-20.5 3.3-41.8 3.3-64s-1.2-43.5-3.3-64H155.3c-2.1 20.5-3.3 41.8-3.3 64zm324.7-96c-28.6-67.9-86.5-120.4-158-141.6 24.4 33.8 41.2 84.7 50 141.6h108zM177.2 18.4C105.8 39.6 47.8 92.1 19.3 160h108c8.7-56.9 25.5-107.8 49.9-141.6zM487.4 192H372.7c2.1 21 3.3 42.5 3.3 64s-1.2 43-3.3 64h114.6c5.5-20.5 8.6-41.8 8.6-64s-3.1-43.5-8.5-64zM120 256c0-21.5 1.2-43 3.3-64H8.6C3.2 212.5 0 233.8 0 256s3.2 43.5 8.6 64h114.6c-2-21-3.2-42.5-3.2-64zm39.5 96c14.5 89.3 48.7 152 88.5 152s74-62.7 88.5-152h-177zm159.3 141.6c71.4-21.2 129.4-73.7 158-141.6h-108c-8.8 56.9-25.6 107.8-50 141.6zM19.3 352c28.6 67.9 86.5 120.4 158 141.6-24.4-33.8-41.2-84.7-50-141.6h-108z\"></path></svg> 95 <svg aria-hidden=\"true\" focusable=\"false\" data-prefix=\"fas\" data-icon=\"flag\" class=\"svg-inline--fa fa-flag fa-w-16 fa-fw \" role=\"img\" xmlns=\"http://www.w3.org/2000/svg\" viewBox=\"0 0 512 512\"><path fill=\"currentColor\" d=\"M349.565 98.783C295.978 98.783 251.721 64 184.348 64c-24.955 0-47.309 4.384-68.045 12.013a55.947 55.947 0 0 0 3.586-23.562C118.117 24.015 94.806 1.206 66.338.048 34.345-1.254 8 24.296 8 56c0 19.026 9.497 35.825 24 45.945V488c0 13.255 10.745 24 24 24h16c13.255 0 24-10.745 24-24v-94.4c28.311-12.064 63.582-22.122 114.435-22.122 53.588 0 97.844 34.783 165.217 34.783 48.169 0 86.667-16.294 122.505-40.858C506.84 359.452 512 349.571 512 339.045v-243.1c0-23.393-24.269-38.87-45.485-29.016-34.338 15.948-76.454 31.854-116.95 31.854z\"></path></svg></span> <span class=\"badge bg-danger\"><svg aria-hidden=\"true\" focusable=\"false\" data-prefix=\"fas\" data-icon=\"trophy\" class=\"svg-inline--fa fa-trophy fa-w-18 fa-fw \" role=\"img\" xmlns=\"http://www.w3.org/2000/svg\" viewBox=\"0 0 576 512\"><path fill=\"currentColor\" d=\"M552 64H448V24c0-13.3-10.7-24-24-24H152c-13.3 0-24 10.7-24 24v40H24C10.7 64 0 74.7 0 88v56c0 35.7 22.5 72.4 61.9 100.7 31.5 22.7 69.8 37.1 110 41.7C203.3 338.5 240 360 240 360v72h-48c-35.3 0-64 20.7-64 56v12c0 6.6 5.4 12 12 12h296c6.6 0 12-5.4 12-12v-12c0-35.3-28.7-56-64-56h-48v-72s36.7-21.5 68.1-73.6c40.3-4.6 78.6-19 110-41.7 39.3-28.3 61.9-65 61.9-100.7V88c0-13.3-10.7-24-24-24zM99.3 192.8C74.9 175.2 64 155.6 64 144v-16h64.2c1 32.6 5.8 61.2 12.8 86.2-15.1-5.2-29.2-12.4-41.7-21.4zM512 144c0 16.1-17.7 36.1-35.3 48.8-12.5 9-26.7 16.2-41.8 21.4 7-25 11.8-53.6 12.8-86.2H512v16z\"></path></svg> 50</span></div><div class=\"text-center mt-3\"><span><svg aria-hidden=\"true\" focusable=\"false\" data-prefix=\"fas\" data-icon=\"tags\" class=\"svg-inline--fa fa-tags fa-w-20 fa-fw d-inline-block\" role=\"img\" xmlns=\"http://www.w3.org/2000/svg\" viewBox=\"0 0 640 512\"><path fill=\"currentColor\" d=\"M497.941 225.941L286.059 14.059A48 48 0 0 0 252.118 0H48C21.49 0 0 21.49 0 48v204.118a48 48 0 0 0 14.059 33.941l211.882 211.882c18.744 18.745 49.136 18.746 67.882 0l204.118-204.118c18.745-18.745 18.745-49.137 0-67.882zM112 160c-26.51 0-48-21.49-48-48s21.49-48 48-48 48 21.49 48 48-21.49 48-48 48zm513.941 133.823L421.823 497.941c-18.745 18.745-49.137 18.745-67.882 0l-.36-.36L527.64 323.522c16.999-16.999 26.36-39.6 26.36-63.64s-9.362-46.641-26.36-63.64L331.397 0h48.721a48 48 0 0 1 33.941 14.059l211.882 211.882c18.745 18.745 18.745 49.137 0 67.882z\"></path></svg></span> <span class=\"badge text-dark bg-warning\">web</span> </div><div><div class=\"markdown bg-light p-3 mt-3\"><p>Finora ci siamo occupati esclusivamente di ottenere risorse dal server,\n",
    "ma HTTP fornisce anche strumenti per l'operazione inversa. Si tratta dei\n",
    "verbi POST e PUT, che permettono di inviare una risorsa al server,\n",
    "specificando un indirizzo di destinazione. La differenza tra i due\n",
    "metodi è sottile, ma noi ci occuperemo solo di POST, di gran lunga il\n",
    "più usato tra i due, essendo il sistema associato, ad esempio, all'invio\n",
    "del contenuto dei form che sono inclusi in molti siti web.\n",
    "<br><br>\n",
    "In linea di principio la rappresentazione della risorsa inviata nel\n",
    "corpo di una richiesta POST può utilizzare qualunque formato ma, per\n",
    "ragioni storiche, quando si utilizza il meccanismo di invio built-in del\n",
    "browser per inviare il contenuto di un form, questo viene normalmente\n",
    "codificato utilizzando un formato legacy specifico e utilizzato\n",
    "esclusivamente per i form web, noto nella classificazione MIME come\n",
    "<code class=\"code\">application/x-www-form-urlencoded</code>. Per questo motivo, molti server che\n",
    "ricevono dati dagli utenti tramite richieste POST accettano\n",
    "preferenzialmente questo formato, anche quando l'origine dei dati non è\n",
    "un form web.\n",
    "<br><br>\n",
    "L'obiettivo di questa challenge è inviare una richiesta POST verso la\n",
    "risorsa <code class=\"code\">http://web-08.challs.olicyber.it/login</code> fornendo nel\n",
    "formato <code class=\"code\">application/x-www-form-urlencoded</code> la coppia di valori\n",
    "<code class=\"code\">\"username\": \"admin\"</code> e <code class=\"code\">\"password\": \"admin\"</code>, analogamente a\n",
    "un'ipotetica operazione di invio di un form di login su un sito web. La\n",
    "flag sarà restituita nel testo della risposta all'operazione.\n",
    "<br><br>\n",
    "Il formato <code class=\"code\">application/x-www-form-urlencoded</code> è relativamente\n",
    "complicato da riprodurre ma, esattamente come altre parti del protocollo\n",
    "HTTP osservate finora, rappresenta essenzialmente una sequenza di coppie\n",
    "chiave-valore, e la libreria <code class=\"code\">requests</code> fornisce un meccanismo per\n",
    "generarlo in automatico a partire da un dizionario Python. Si consiglia\n",
    "di utilizzare il parametro <code class=\"code\">data</code> della funzione\n",
    "<a href=\"https://requests.readthedocs.io/en/latest/user/quickstart/#more-complicated-post-requests\" target=\"_blank\">post</a>\n",
    "della libreria <code class=\"code\">requests</code>.</p></div></div><hr><div><h5 class=\"text-center\"><svg aria-hidden=\"true\" focusable=\"false\" data-prefix=\"fas\" data-icon=\"file\" class=\"svg-inline--fa fa-file fa-w-12 fa-fw \" role=\"img\" xmlns=\"http://www.w3.org/2000/svg\" viewBox=\"0 0 384 512\"><path fill=\"currentColor\" d=\"M224 136V0H24C10.7 0 0 10.7 0 24v464c0 13.3 10.7 24 24 24h336c13.3 0 24-10.7 24-24V160H248c-13.2 0-24-10.8-24-24zm160-14.1v6.1H256V0h6.1c6.4 0 12.5 2.5 17 7l97.9 98c4.5 4.5 7 10.6 7 16.9z\"></path></svg> Attachments</h5><div class=\"mt-2\"><a href=\"/api/file/fff42c14-a90d-4848-9685-45f413aecdd2/challenge.py?download\" target=\"_blank\" rel=\"noopener noreferrer\"><button type=\"button\" class=\"btn btn-primary\"><svg aria-hidden=\"true\" focusable=\"false\" data-prefix=\"fas\" data-icon=\"download\" class=\"svg-inline--fa fa-download fa-w-16 fa-fw \" role=\"img\" xmlns=\"http://www.w3.org/2000/svg\" viewBox=\"0 0 512 512\"><path fill=\"currentColor\" d=\"M216 0h80c13.3 0 24 10.7 24 24v168h87.7c17.8 0 26.7 21.5 14.1 34.1L269.7 378.3c-7.5 7.5-19.8 7.5-27.3 0L90.1 226.1c-12.6-12.6-3.7-34.1 14.1-34.1H192V24c0-13.3 10.7-24 24-24zm296 376v112c0 13.3-10.7 24-24 24H24c-13.3 0-24-10.7-24-24V376c0-13.3 10.7-24 24-24h146.7l49 49c20.1 20.1 52.5 20.1 72.6 0l49-49H488c13.3 0 24 10.7 24 24zm-124 88c0-11-9-20-20-20s-20 9-20 20 9 20 20 20 20-9 20-20zm64 0c0-11-9-20-20-20s-20 9-20 20 9 20 20 20 20-9 20-20z\"></path></svg> challenge.py</button> </a></div></div><hr><div class=\"input-group\"><input placeholder=\"flag{...}\" type=\"text\" class=\"form-control\" value=\"flag{53nding_d474_7h3_01d_w4y}\"><button type=\"button\" class=\"btn btn-success\">Submit <svg aria-hidden=\"true\" focusable=\"false\" data-prefix=\"fas\" data-icon=\"arrow-right\" class=\"svg-inline--fa fa-arrow-right fa-w-14 fa-fw \" role=\"img\" xmlns=\"http://www.w3.org/2000/svg\" viewBox=\"0 0 448 512\"><path fill=\"currentColor\" d=\"M190.5 66.9l22.2-22.2c9.4-9.4 24.6-9.4 33.9 0L441 239c9.4 9.4 9.4 24.6 0 33.9L246.6 467.3c-9.4 9.4-24.6 9.4-33.9 0l-22.2-22.2c-9.5-9.5-9.3-25 .4-34.3L311.4 296H24c-13.3 0-24-10.7-24-24v-32c0-13.3 10.7-24 24-24h287.4L190.9 101.2c-9.8-9.3-10-24.8-.4-34.3z\"></path></svg></button></div></div></div>"
   ]
  },
  {
   "cell_type": "code",
   "execution_count": 51,
   "id": "4b986695-1b15-46e8-874d-c6ee5834c7af",
   "metadata": {},
   "outputs": [
    {
     "name": "stdout",
     "output_type": "stream",
     "text": [
      "b'flag{53nding_d474_7h3_01d_w4y}'\n"
     ]
    }
   ],
   "source": [
    "import requests\n",
    "\n",
    "res = requests.post('http://web-08.challs.olicyber.it/login', data=[(\"username\", \"admin\"), (\"password\", \"admin\")])\n",
    "print(str(res.content))"
   ]
  },
  {
   "cell_type": "markdown",
   "id": "d8a5d370-5055-45b1-9c62-5598f510559c",
   "metadata": {},
   "source": [
    "<div class=\"modal-content\"><div class=\"modal-header\"><div class=\"text-center modal-title h4\">Web 09 - HTTP: una richiesta POST con body JSON</div><button type=\"button\" class=\"btn-close\" aria-label=\"Close\"></button></div><div class=\"modal-body\"><div class=\"text-center\"><span class=\"badge bg-primary\"><svg aria-hidden=\"true\" focusable=\"false\" data-prefix=\"fas\" data-icon=\"globe\" class=\"svg-inline--fa fa-globe fa-w-16 fa-fw \" role=\"img\" xmlns=\"http://www.w3.org/2000/svg\" viewBox=\"0 0 496 512\"><path fill=\"currentColor\" d=\"M336.5 160C322 70.7 287.8 8 248 8s-74 62.7-88.5 152h177zM152 256c0 22.2 1.2 43.5 3.3 64h185.3c2.1-20.5 3.3-41.8 3.3-64s-1.2-43.5-3.3-64H155.3c-2.1 20.5-3.3 41.8-3.3 64zm324.7-96c-28.6-67.9-86.5-120.4-158-141.6 24.4 33.8 41.2 84.7 50 141.6h108zM177.2 18.4C105.8 39.6 47.8 92.1 19.3 160h108c8.7-56.9 25.5-107.8 49.9-141.6zM487.4 192H372.7c2.1 21 3.3 42.5 3.3 64s-1.2 43-3.3 64h114.6c5.5-20.5 8.6-41.8 8.6-64s-3.1-43.5-8.5-64zM120 256c0-21.5 1.2-43 3.3-64H8.6C3.2 212.5 0 233.8 0 256s3.2 43.5 8.6 64h114.6c-2-21-3.2-42.5-3.2-64zm39.5 96c14.5 89.3 48.7 152 88.5 152s74-62.7 88.5-152h-177zm159.3 141.6c71.4-21.2 129.4-73.7 158-141.6h-108c-8.8 56.9-25.6 107.8-50 141.6zM19.3 352c28.6 67.9 86.5 120.4 158 141.6-24.4-33.8-41.2-84.7-50-141.6h-108z\"></path></svg> 93 <svg aria-hidden=\"true\" focusable=\"false\" data-prefix=\"fas\" data-icon=\"flag\" class=\"svg-inline--fa fa-flag fa-w-16 fa-fw \" role=\"img\" xmlns=\"http://www.w3.org/2000/svg\" viewBox=\"0 0 512 512\"><path fill=\"currentColor\" d=\"M349.565 98.783C295.978 98.783 251.721 64 184.348 64c-24.955 0-47.309 4.384-68.045 12.013a55.947 55.947 0 0 0 3.586-23.562C118.117 24.015 94.806 1.206 66.338.048 34.345-1.254 8 24.296 8 56c0 19.026 9.497 35.825 24 45.945V488c0 13.255 10.745 24 24 24h16c13.255 0 24-10.745 24-24v-94.4c28.311-12.064 63.582-22.122 114.435-22.122 53.588 0 97.844 34.783 165.217 34.783 48.169 0 86.667-16.294 122.505-40.858C506.84 359.452 512 349.571 512 339.045v-243.1c0-23.393-24.269-38.87-45.485-29.016-34.338 15.948-76.454 31.854-116.95 31.854z\"></path></svg></span> <span class=\"badge bg-danger\"><svg aria-hidden=\"true\" focusable=\"false\" data-prefix=\"fas\" data-icon=\"trophy\" class=\"svg-inline--fa fa-trophy fa-w-18 fa-fw \" role=\"img\" xmlns=\"http://www.w3.org/2000/svg\" viewBox=\"0 0 576 512\"><path fill=\"currentColor\" d=\"M552 64H448V24c0-13.3-10.7-24-24-24H152c-13.3 0-24 10.7-24 24v40H24C10.7 64 0 74.7 0 88v56c0 35.7 22.5 72.4 61.9 100.7 31.5 22.7 69.8 37.1 110 41.7C203.3 338.5 240 360 240 360v72h-48c-35.3 0-64 20.7-64 56v12c0 6.6 5.4 12 12 12h296c6.6 0 12-5.4 12-12v-12c0-35.3-28.7-56-64-56h-48v-72s36.7-21.5 68.1-73.6c40.3-4.6 78.6-19 110-41.7 39.3-28.3 61.9-65 61.9-100.7V88c0-13.3-10.7-24-24-24zM99.3 192.8C74.9 175.2 64 155.6 64 144v-16h64.2c1 32.6 5.8 61.2 12.8 86.2-15.1-5.2-29.2-12.4-41.7-21.4zM512 144c0 16.1-17.7 36.1-35.3 48.8-12.5 9-26.7 16.2-41.8 21.4 7-25 11.8-53.6 12.8-86.2H512v16z\"></path></svg> 50</span></div><div class=\"text-center mt-3\"><span><svg aria-hidden=\"true\" focusable=\"false\" data-prefix=\"fas\" data-icon=\"tags\" class=\"svg-inline--fa fa-tags fa-w-20 fa-fw d-inline-block\" role=\"img\" xmlns=\"http://www.w3.org/2000/svg\" viewBox=\"0 0 640 512\"><path fill=\"currentColor\" d=\"M497.941 225.941L286.059 14.059A48 48 0 0 0 252.118 0H48C21.49 0 0 21.49 0 48v204.118a48 48 0 0 0 14.059 33.941l211.882 211.882c18.744 18.745 49.136 18.746 67.882 0l204.118-204.118c18.745-18.745 18.745-49.137 0-67.882zM112 160c-26.51 0-48-21.49-48-48s21.49-48 48-48 48 21.49 48 48-21.49 48-48 48zm513.941 133.823L421.823 497.941c-18.745 18.745-49.137 18.745-67.882 0l-.36-.36L527.64 323.522c16.999-16.999 26.36-39.6 26.36-63.64s-9.362-46.641-26.36-63.64L331.397 0h48.721a48 48 0 0 1 33.941 14.059l211.882 211.882c18.745 18.745 18.745 49.137 0 67.882z\"></path></svg></span> <span class=\"badge text-dark bg-warning\">web</span> </div><div><div class=\"markdown bg-light p-3 mt-3\"><p><code class=\"code\">application/x-www-form-urlencoded</code>, nonostante la sua diffusione\n",
    "storica, è un formato obsolescente e poco adatto a rappresentare dati\n",
    "strutturati, per cui è stato gradualmente soppiantato, in quelle\n",
    "applicazioni che non richiedano compatibilità con il meccanismo di invio\n",
    "tradizionale dei form web, da formati più moderni come <code class=\"code\">XML</code> e <code class=\"code\">JSON</code>.\n",
    "<br><br>\n",
    "Quest'ultimo, in particolare, in virtù della sua semplicità d'uso in\n",
    "JavaScript, il più diffuso linguaggio di programmazione web, si è\n",
    "rapidamente affermato come nuovo standard de-facto, per cui librerie\n",
    "come <code class=\"code\">requests</code> offrono scorciatoie per inviare richieste POST con body\n",
    "codificato in <code class=\"code\">JSON</code> con la stessa facilità offerta per il vecchio\n",
    "sistema, oltre che per decodificare automaticamente eventuali risorse\n",
    "restituite in tale formato dal server nelle risposte.\n",
    "<br><br>\n",
    "Analogamente alla precedente, l'obiettivo di questa challenge è inviare\n",
    "una richiesta POST verso la risorsa\n",
    "<code class=\"code\">http://web-09.challs.olicyber.it/login</code> fornendo in formato <code class=\"code\">JSON</code>\n",
    "la coppia di valori \"username\": \"admin\" e \"password\": \"admin\",\n",
    "analogamente a un'ipotetica operazione di login nei confronti di un\n",
    "servizio web. La flag sarà restituita nel testo della risposta\n",
    "all'operazione.</p></div></div><hr><div><h5 class=\"text-center\"><svg aria-hidden=\"true\" focusable=\"false\" data-prefix=\"fas\" data-icon=\"file\" class=\"svg-inline--fa fa-file fa-w-12 fa-fw \" role=\"img\" xmlns=\"http://www.w3.org/2000/svg\" viewBox=\"0 0 384 512\"><path fill=\"currentColor\" d=\"M224 136V0H24C10.7 0 0 10.7 0 24v464c0 13.3 10.7 24 24 24h336c13.3 0 24-10.7 24-24V160H248c-13.2 0-24-10.8-24-24zm160-14.1v6.1H256V0h6.1c6.4 0 12.5 2.5 17 7l97.9 98c4.5 4.5 7 10.6 7 16.9z\"></path></svg> Attachments</h5><div class=\"mt-2\"><a href=\"/api/file/34a564a4-a328-47e0-a358-dc4f57ec9459/challenge.py?download\" target=\"_blank\" rel=\"noopener noreferrer\"><button type=\"button\" class=\"btn btn-primary\"><svg aria-hidden=\"true\" focusable=\"false\" data-prefix=\"fas\" data-icon=\"download\" class=\"svg-inline--fa fa-download fa-w-16 fa-fw \" role=\"img\" xmlns=\"http://www.w3.org/2000/svg\" viewBox=\"0 0 512 512\"><path fill=\"currentColor\" d=\"M216 0h80c13.3 0 24 10.7 24 24v168h87.7c17.8 0 26.7 21.5 14.1 34.1L269.7 378.3c-7.5 7.5-19.8 7.5-27.3 0L90.1 226.1c-12.6-12.6-3.7-34.1 14.1-34.1H192V24c0-13.3 10.7-24 24-24zm296 376v112c0 13.3-10.7 24-24 24H24c-13.3 0-24-10.7-24-24V376c0-13.3 10.7-24 24-24h146.7l49 49c20.1 20.1 52.5 20.1 72.6 0l49-49H488c13.3 0 24 10.7 24 24zm-124 88c0-11-9-20-20-20s-20 9-20 20 9 20 20 20 20-9 20-20zm64 0c0-11-9-20-20-20s-20 9-20 20 9 20 20 20 20-9 20-20z\"></path></svg> challenge.py</button> </a></div></div><hr><div class=\"input-group\"><input placeholder=\"flag{...}\" type=\"text\" class=\"form-control\" value=\"flag{w31c0m3_70_7h3_y34r_2000}\"><button type=\"button\" class=\"btn btn-success\">Submit <svg aria-hidden=\"true\" focusable=\"false\" data-prefix=\"fas\" data-icon=\"arrow-right\" class=\"svg-inline--fa fa-arrow-right fa-w-14 fa-fw \" role=\"img\" xmlns=\"http://www.w3.org/2000/svg\" viewBox=\"0 0 448 512\"><path fill=\"currentColor\" d=\"M190.5 66.9l22.2-22.2c9.4-9.4 24.6-9.4 33.9 0L441 239c9.4 9.4 9.4 24.6 0 33.9L246.6 467.3c-9.4 9.4-24.6 9.4-33.9 0l-22.2-22.2c-9.5-9.5-9.3-25 .4-34.3L311.4 296H24c-13.3 0-24-10.7-24-24v-32c0-13.3 10.7-24 24-24h287.4L190.9 101.2c-9.8-9.3-10-24.8-.4-34.3z\"></path></svg></button></div></div></div>"
   ]
  },
  {
   "cell_type": "code",
   "execution_count": 60,
   "id": "2d3dd254-706d-4f0a-8b68-234f1a133e13",
   "metadata": {},
   "outputs": [
    {
     "name": "stdout",
     "output_type": "stream",
     "text": [
      "{\n",
      "  \"token\": \"flag{w31c0m3_70_7h3_y34r_2000}\"\n",
      "}\n"
     ]
    }
   ],
   "source": [
    "import requests\n",
    "\n",
    "res = requests.post('http://web-09.challs.olicyber.it/login', json={\"username\": \"admin\", \"password\": \"admin\"})\n",
    "\n",
    "print(res.content.decode(\"ascii\"))"
   ]
  },
  {
   "cell_type": "markdown",
   "id": "f16f40fb-7403-4845-8342-d7d16505a34b",
   "metadata": {},
   "source": [
    "<div class=\"modal-content\"><div class=\"modal-header\"><div class=\"text-center modal-title h4\">Web 10 - HTTP: il metodo OPTIONS</div><button type=\"button\" class=\"btn-close\" aria-label=\"Close\"></button></div><div class=\"modal-body\"><div class=\"text-center\"><span class=\"badge bg-primary\"><svg aria-hidden=\"true\" focusable=\"false\" data-prefix=\"fas\" data-icon=\"globe\" class=\"svg-inline--fa fa-globe fa-w-16 fa-fw \" role=\"img\" xmlns=\"http://www.w3.org/2000/svg\" viewBox=\"0 0 496 512\"><path fill=\"currentColor\" d=\"M336.5 160C322 70.7 287.8 8 248 8s-74 62.7-88.5 152h177zM152 256c0 22.2 1.2 43.5 3.3 64h185.3c2.1-20.5 3.3-41.8 3.3-64s-1.2-43.5-3.3-64H155.3c-2.1 20.5-3.3 41.8-3.3 64zm324.7-96c-28.6-67.9-86.5-120.4-158-141.6 24.4 33.8 41.2 84.7 50 141.6h108zM177.2 18.4C105.8 39.6 47.8 92.1 19.3 160h108c8.7-56.9 25.5-107.8 49.9-141.6zM487.4 192H372.7c2.1 21 3.3 42.5 3.3 64s-1.2 43-3.3 64h114.6c5.5-20.5 8.6-41.8 8.6-64s-3.1-43.5-8.5-64zM120 256c0-21.5 1.2-43 3.3-64H8.6C3.2 212.5 0 233.8 0 256s3.2 43.5 8.6 64h114.6c-2-21-3.2-42.5-3.2-64zm39.5 96c14.5 89.3 48.7 152 88.5 152s74-62.7 88.5-152h-177zm159.3 141.6c71.4-21.2 129.4-73.7 158-141.6h-108c-8.8 56.9-25.6 107.8-50 141.6zM19.3 352c28.6 67.9 86.5 120.4 158 141.6-24.4-33.8-41.2-84.7-50-141.6h-108z\"></path></svg> 54 <svg aria-hidden=\"true\" focusable=\"false\" data-prefix=\"fas\" data-icon=\"flag\" class=\"svg-inline--fa fa-flag fa-w-16 fa-fw \" role=\"img\" xmlns=\"http://www.w3.org/2000/svg\" viewBox=\"0 0 512 512\"><path fill=\"currentColor\" d=\"M349.565 98.783C295.978 98.783 251.721 64 184.348 64c-24.955 0-47.309 4.384-68.045 12.013a55.947 55.947 0 0 0 3.586-23.562C118.117 24.015 94.806 1.206 66.338.048 34.345-1.254 8 24.296 8 56c0 19.026 9.497 35.825 24 45.945V488c0 13.255 10.745 24 24 24h16c13.255 0 24-10.745 24-24v-94.4c28.311-12.064 63.582-22.122 114.435-22.122 53.588 0 97.844 34.783 165.217 34.783 48.169 0 86.667-16.294 122.505-40.858C506.84 359.452 512 349.571 512 339.045v-243.1c0-23.393-24.269-38.87-45.485-29.016-34.338 15.948-76.454 31.854-116.95 31.854z\"></path></svg></span> <span class=\"badge bg-danger\"><svg aria-hidden=\"true\" focusable=\"false\" data-prefix=\"fas\" data-icon=\"trophy\" class=\"svg-inline--fa fa-trophy fa-w-18 fa-fw \" role=\"img\" xmlns=\"http://www.w3.org/2000/svg\" viewBox=\"0 0 576 512\"><path fill=\"currentColor\" d=\"M552 64H448V24c0-13.3-10.7-24-24-24H152c-13.3 0-24 10.7-24 24v40H24C10.7 64 0 74.7 0 88v56c0 35.7 22.5 72.4 61.9 100.7 31.5 22.7 69.8 37.1 110 41.7C203.3 338.5 240 360 240 360v72h-48c-35.3 0-64 20.7-64 56v12c0 6.6 5.4 12 12 12h296c6.6 0 12-5.4 12-12v-12c0-35.3-28.7-56-64-56h-48v-72s36.7-21.5 68.1-73.6c40.3-4.6 78.6-19 110-41.7 39.3-28.3 61.9-65 61.9-100.7V88c0-13.3-10.7-24-24-24zM99.3 192.8C74.9 175.2 64 155.6 64 144v-16h64.2c1 32.6 5.8 61.2 12.8 86.2-15.1-5.2-29.2-12.4-41.7-21.4zM512 144c0 16.1-17.7 36.1-35.3 48.8-12.5 9-26.7 16.2-41.8 21.4 7-25 11.8-53.6 12.8-86.2H512v16z\"></path></svg> 50</span></div><div class=\"text-center mt-3\"><span><svg aria-hidden=\"true\" focusable=\"false\" data-prefix=\"fas\" data-icon=\"tags\" class=\"svg-inline--fa fa-tags fa-w-20 fa-fw d-inline-block\" role=\"img\" xmlns=\"http://www.w3.org/2000/svg\" viewBox=\"0 0 640 512\"><path fill=\"currentColor\" d=\"M497.941 225.941L286.059 14.059A48 48 0 0 0 252.118 0H48C21.49 0 0 21.49 0 48v204.118a48 48 0 0 0 14.059 33.941l211.882 211.882c18.744 18.745 49.136 18.746 67.882 0l204.118-204.118c18.745-18.745 18.745-49.137 0-67.882zM112 160c-26.51 0-48-21.49-48-48s21.49-48 48-48 48 21.49 48 48-21.49 48-48 48zm513.941 133.823L421.823 497.941c-18.745 18.745-49.137 18.745-67.882 0l-.36-.36L527.64 323.522c16.999-16.999 26.36-39.6 26.36-63.64s-9.362-46.641-26.36-63.64L331.397 0h48.721a48 48 0 0 1 33.941 14.059l211.882 211.882c18.745 18.745 18.745 49.137 0 67.882z\"></path></svg></span> <span class=\"badge text-dark bg-warning\">web</span> </div><div><div class=\"markdown bg-light p-3 mt-3\"><p>Abbiamo finora osservato vari modi di interagire con le risorse che un\n",
    "server HTTP mette a disposizione, sotto forma dei verbi GET, HEAD e\n",
    "POST, ma non tutte queste operazioni sono supportate da tutti i tipi di\n",
    "risorsa. Non ha senso ad esempio eseguire una richiesta POST nei\n",
    "confronti di una risorsa di sola lettura. Per conoscere le operazioni\n",
    "supportate da una data risorsa, HTTP mette a disposizione il verbo\n",
    "OPTIONS. Una richiesta OPTIONS restituisce l'elenco dei verbi supportati\n",
    "all'interno dello header <code class=\"code\">Allow</code>.\n",
    "<br><br>\n",
    "Talvolta può essere interessante cercare di utilizzare intenzionalmente\n",
    "un verbo non supportato. Normalmente un server dovrebbe gestire\n",
    "richieste non supportate in maniera pulita, ma in presenza di\n",
    "configurazioni errate o errori di programmazione, utilizzare un metodo\n",
    "imprevisto può indurre un crash. I crash e più in generale le operazioni\n",
    "non anticipate possono rivelare informazioni interessanti che\n",
    "nell'utilizzo normale di un servizio web sono nascoste.\n",
    "<br><br>\n",
    "L'obiettivo di questa challenge è determinare l'insieme dei verbi\n",
    "supportati per la risorsa <code class=\"code\">http://web-10.challs.olicyber.it/</code>,\n",
    "provare a utilizzarne uno poco comune e imprevisto ed osservare la\n",
    "risposta. La libreria <code class=\"code\">requests</code> mette a disposizione funzioni analoghe\n",
    "alla funzione <code class=\"code\">get</code> anche per i verbi meno comuni, come <code class=\"code\">put</code> e <code class=\"code\">patch</code>.</p></div></div><hr><div><h5 class=\"text-center\"><svg aria-hidden=\"true\" focusable=\"false\" data-prefix=\"fas\" data-icon=\"file\" class=\"svg-inline--fa fa-file fa-w-12 fa-fw \" role=\"img\" xmlns=\"http://www.w3.org/2000/svg\" viewBox=\"0 0 384 512\"><path fill=\"currentColor\" d=\"M224 136V0H24C10.7 0 0 10.7 0 24v464c0 13.3 10.7 24 24 24h336c13.3 0 24-10.7 24-24V160H248c-13.2 0-24-10.8-24-24zm160-14.1v6.1H256V0h6.1c6.4 0 12.5 2.5 17 7l97.9 98c4.5 4.5 7 10.6 7 16.9z\"></path></svg> Attachments</h5><div class=\"mt-2\"><a href=\"/api/file/49f40d4e-ab03-43f3-9936-e7b850604b9a/challenge.py?download\" target=\"_blank\" rel=\"noopener noreferrer\"><button type=\"button\" class=\"btn btn-primary\"><svg aria-hidden=\"true\" focusable=\"false\" data-prefix=\"fas\" data-icon=\"download\" class=\"svg-inline--fa fa-download fa-w-16 fa-fw \" role=\"img\" xmlns=\"http://www.w3.org/2000/svg\" viewBox=\"0 0 512 512\"><path fill=\"currentColor\" d=\"M216 0h80c13.3 0 24 10.7 24 24v168h87.7c17.8 0 26.7 21.5 14.1 34.1L269.7 378.3c-7.5 7.5-19.8 7.5-27.3 0L90.1 226.1c-12.6-12.6-3.7-34.1 14.1-34.1H192V24c0-13.3 10.7-24 24-24zm296 376v112c0 13.3-10.7 24-24 24H24c-13.3 0-24-10.7-24-24V376c0-13.3 10.7-24 24-24h146.7l49 49c20.1 20.1 52.5 20.1 72.6 0l49-49H488c13.3 0 24 10.7 24 24zm-124 88c0-11-9-20-20-20s-20 9-20 20 9 20 20 20 20-9 20-20zm64 0c0-11-9-20-20-20s-20 9-20 20 9 20 20 20 20-9 20-20z\"></path></svg> challenge.py</button> </a></div></div><hr><div class=\"input-group\"><input placeholder=\"flag{...}\" type=\"text\" class=\"form-control\" value=\"flag{br34king_7h3_ru135}\"><button type=\"button\" class=\"btn btn-success\">Submit <svg aria-hidden=\"true\" focusable=\"false\" data-prefix=\"fas\" data-icon=\"arrow-right\" class=\"svg-inline--fa fa-arrow-right fa-w-14 fa-fw \" role=\"img\" xmlns=\"http://www.w3.org/2000/svg\" viewBox=\"0 0 448 512\"><path fill=\"currentColor\" d=\"M190.5 66.9l22.2-22.2c9.4-9.4 24.6-9.4 33.9 0L441 239c9.4 9.4 9.4 24.6 0 33.9L246.6 467.3c-9.4 9.4-24.6 9.4-33.9 0l-22.2-22.2c-9.5-9.5-9.3-25 .4-34.3L311.4 296H24c-13.3 0-24-10.7-24-24v-32c0-13.3 10.7-24 24-24h287.4L190.9 101.2c-9.8-9.3-10-24.8-.4-34.3z\"></path></svg></button></div></div></div>"
   ]
  },
  {
   "cell_type": "code",
   "execution_count": 84,
   "id": "885b3198-24a5-4903-ae83-4bda23721d5d",
   "metadata": {},
   "outputs": [
    {
     "name": "stdout",
     "output_type": "stream",
     "text": [
      "HEAD, OPTIONS, GET\n",
      "Metodo: HEAD\n",
      "{'Content-Length': '0', 'Content-Type': 'text/html; charset=utf-8', 'Date': 'Sat, 18 Feb 2023 14:11:15 GMT', 'Server': 'nginx/1.21.6'}\n",
      "Metodo: OPTIONS\n",
      "{'Allow': 'HEAD, OPTIONS, GET', 'Content-Length': '0', 'Content-Type': 'text/html; charset=utf-8', 'Date': 'Sat, 18 Feb 2023 14:11:16 GMT', 'Server': 'nginx/1.21.6'}\n",
      "Metodo: GET\n",
      "{'Content-Length': '12', 'Content-Type': 'text/plain; charset=utf-8', 'Date': 'Sat, 18 Feb 2023 14:11:16 GMT', 'Server': 'nginx/1.21.6'}\n",
      "Metodo: POST\n",
      "flag{br34king_7h3_ru135}\n",
      "Metodo: PUT\n",
      "flag{br34king_7h3_ru135}\n",
      "Metodo: PATCH\n",
      "flag{br34king_7h3_ru135}\n",
      "Metodo: DELETE\n",
      "flag{br34king_7h3_ru135}\n"
     ]
    }
   ],
   "source": [
    "import requests\n",
    "\n",
    "res = requests.options('http://web-10.challs.olicyber.it/')\n",
    "print(res.headers[\"Allow\"])\n",
    "for method in res.headers[\"Allow\"].split(\", \"):\n",
    "    print(\"Metodo: \" + method)\n",
    "    res = getattr(requests, method.lower())('http://web-10.challs.olicyber.it/')\n",
    "    print(res.headers)\n",
    "    \n",
    "for method in [\"POST\", \"PUT\", \"PATCH\", \"DELETE\"]:\n",
    "    # Codice server\n",
    "    # if method not in (\"GET\", \"HEAD\", \"OPTIONS\"):\n",
    "    #    response = Response(\"Internal server error\", mimetype=\"text/plain\", status=HTTPStatus.INTERNAL_SERVER_ERROR)\n",
    "    #    response.headers[\"X-Flag\"] = environ[\"FLAG\"]\n",
    "    #    return response\n",
    "    print(\"Metodo: \" + method)\n",
    "    res = getattr(requests, method.lower())('http://web-10.challs.olicyber.it/')\n",
    "    print(res.headers[\"X-Flag\"])"
   ]
  },
  {
   "cell_type": "markdown",
   "id": "bfc79abc-3bca-4665-8921-b54471fc05bc",
   "metadata": {},
   "source": [
    "<div class=\"modal-content\"><div class=\"modal-header\"><div class=\"text-center modal-title h4\">Web 11 - HTTP: i token CSRF</div><button type=\"button\" class=\"btn-close\" aria-label=\"Close\"></button></div><div class=\"modal-body\"><div class=\"text-center\"><span class=\"badge bg-primary\"><svg aria-hidden=\"true\" focusable=\"false\" data-prefix=\"fas\" data-icon=\"globe\" class=\"svg-inline--fa fa-globe fa-w-16 fa-fw \" role=\"img\" xmlns=\"http://www.w3.org/2000/svg\" viewBox=\"0 0 496 512\"><path fill=\"currentColor\" d=\"M336.5 160C322 70.7 287.8 8 248 8s-74 62.7-88.5 152h177zM152 256c0 22.2 1.2 43.5 3.3 64h185.3c2.1-20.5 3.3-41.8 3.3-64s-1.2-43.5-3.3-64H155.3c-2.1 20.5-3.3 41.8-3.3 64zm324.7-96c-28.6-67.9-86.5-120.4-158-141.6 24.4 33.8 41.2 84.7 50 141.6h108zM177.2 18.4C105.8 39.6 47.8 92.1 19.3 160h108c8.7-56.9 25.5-107.8 49.9-141.6zM487.4 192H372.7c2.1 21 3.3 42.5 3.3 64s-1.2 43-3.3 64h114.6c5.5-20.5 8.6-41.8 8.6-64s-3.1-43.5-8.5-64zM120 256c0-21.5 1.2-43 3.3-64H8.6C3.2 212.5 0 233.8 0 256s3.2 43.5 8.6 64h114.6c-2-21-3.2-42.5-3.2-64zm39.5 96c14.5 89.3 48.7 152 88.5 152s74-62.7 88.5-152h-177zm159.3 141.6c71.4-21.2 129.4-73.7 158-141.6h-108c-8.8 56.9-25.6 107.8-50 141.6zM19.3 352c28.6 67.9 86.5 120.4 158 141.6-24.4-33.8-41.2-84.7-50-141.6h-108z\"></path></svg> 71 <svg aria-hidden=\"true\" focusable=\"false\" data-prefix=\"fas\" data-icon=\"flag\" class=\"svg-inline--fa fa-flag fa-w-16 fa-fw \" role=\"img\" xmlns=\"http://www.w3.org/2000/svg\" viewBox=\"0 0 512 512\"><path fill=\"currentColor\" d=\"M349.565 98.783C295.978 98.783 251.721 64 184.348 64c-24.955 0-47.309 4.384-68.045 12.013a55.947 55.947 0 0 0 3.586-23.562C118.117 24.015 94.806 1.206 66.338.048 34.345-1.254 8 24.296 8 56c0 19.026 9.497 35.825 24 45.945V488c0 13.255 10.745 24 24 24h16c13.255 0 24-10.745 24-24v-94.4c28.311-12.064 63.582-22.122 114.435-22.122 53.588 0 97.844 34.783 165.217 34.783 48.169 0 86.667-16.294 122.505-40.858C506.84 359.452 512 349.571 512 339.045v-243.1c0-23.393-24.269-38.87-45.485-29.016-34.338 15.948-76.454 31.854-116.95 31.854z\"></path></svg></span> <span class=\"badge bg-danger\"><svg aria-hidden=\"true\" focusable=\"false\" data-prefix=\"fas\" data-icon=\"trophy\" class=\"svg-inline--fa fa-trophy fa-w-18 fa-fw \" role=\"img\" xmlns=\"http://www.w3.org/2000/svg\" viewBox=\"0 0 576 512\"><path fill=\"currentColor\" d=\"M552 64H448V24c0-13.3-10.7-24-24-24H152c-13.3 0-24 10.7-24 24v40H24C10.7 64 0 74.7 0 88v56c0 35.7 22.5 72.4 61.9 100.7 31.5 22.7 69.8 37.1 110 41.7C203.3 338.5 240 360 240 360v72h-48c-35.3 0-64 20.7-64 56v12c0 6.6 5.4 12 12 12h296c6.6 0 12-5.4 12-12v-12c0-35.3-28.7-56-64-56h-48v-72s36.7-21.5 68.1-73.6c40.3-4.6 78.6-19 110-41.7 39.3-28.3 61.9-65 61.9-100.7V88c0-13.3-10.7-24-24-24zM99.3 192.8C74.9 175.2 64 155.6 64 144v-16h64.2c1 32.6 5.8 61.2 12.8 86.2-15.1-5.2-29.2-12.4-41.7-21.4zM512 144c0 16.1-17.7 36.1-35.3 48.8-12.5 9-26.7 16.2-41.8 21.4 7-25 11.8-53.6 12.8-86.2H512v16z\"></path></svg> 50</span></div><div class=\"text-center mt-3\"><span><svg aria-hidden=\"true\" focusable=\"false\" data-prefix=\"fas\" data-icon=\"tags\" class=\"svg-inline--fa fa-tags fa-w-20 fa-fw d-inline-block\" role=\"img\" xmlns=\"http://www.w3.org/2000/svg\" viewBox=\"0 0 640 512\"><path fill=\"currentColor\" d=\"M497.941 225.941L286.059 14.059A48 48 0 0 0 252.118 0H48C21.49 0 0 21.49 0 48v204.118a48 48 0 0 0 14.059 33.941l211.882 211.882c18.744 18.745 49.136 18.746 67.882 0l204.118-204.118c18.745-18.745 18.745-49.137 0-67.882zM112 160c-26.51 0-48-21.49-48-48s21.49-48 48-48 48 21.49 48 48-21.49 48-48 48zm513.941 133.823L421.823 497.941c-18.745 18.745-49.137 18.745-67.882 0l-.36-.36L527.64 323.522c16.999-16.999 26.36-39.6 26.36-63.64s-9.362-46.641-26.36-63.64L331.397 0h48.721a48 48 0 0 1 33.941 14.059l211.882 211.882c18.745 18.745 18.745 49.137 0 67.882z\"></path></svg></span> <span class=\"badge text-dark bg-warning\">web</span> </div><div><div class=\"markdown bg-light p-3 mt-3\"><p>Il <em>token CSRF</em> è un sistema impiegato per impedire l'esecuzione di\n",
    "attacchi di tipo <a href=\"https://it.wikipedia.org/wiki/Cross-site_request_forgery\" target=\"_blank\">Cross-Site Request Forgery</a>. L'attacco consisterebbe\n",
    "nell'ingannare un utente di un servizio web a cliccare su un link o sul\n",
    "tasto di invio di un form inclusi in un'email o su un sito controllato\n",
    "dall'attaccante, che abbiano come target una risorsa \"pericolosa\" del\n",
    "servizio bersaglio (p.e. una risorsa la cui richiesta rappresenti un\n",
    "comando di cancellazione dell'account). Il meccanismo del cookie di\n",
    "sessione, ottenibile solo con username e password sconosciuti\n",
    "all'attaccante, impedice a quest'ultimo di eseguire personalmente\n",
    "l'operazione \"pericolosa\" spacciandosi per l'utente, ma se l'utente\n",
    "viene indotto con l'inganno a cliccare il link malevolo su una macchina\n",
    "su cui abbia precedentemente eseguito l'accesso al servizio bersaglio,\n",
    "il cookie contenente il token di sessione verrà allegato automaticamente\n",
    "alla richiesta effettuata, validandola, senza che l'attaccante abbia\n",
    "bisogno di rubarlo o di riprodurne uno contraffatto.\n",
    "<br><br>\n",
    "Il token CSRF impedisce questo tipo di attacco perché non viene inviato\n",
    "automaticamente dal browser come avviene per i normali cookie. Esso\n",
    "viene comunque memorizzato sulla macchina client in uno storage\n",
    "accessibile solo alle risorse associate al relativo servizio (e quindi\n",
    "fuori dal controllo dell'attaccante), ma deve essere esplicitamente\n",
    "allegato alle richieste HTTP sotto forma, ad esempio, di parametro GET,\n",
    "o all'interno al corpo di una richiesta POST, quando queste vengono\n",
    "eseguire. In questo modo è impossibile portare l'utente a generare una\n",
    "richiesta pericolosa con un semplice click, perché per generare un link\n",
    "pericoloso l'attaccante sarebbe costretto a conoscere il token. Per\n",
    "complicare ulteriormente le cose, i token CSRF sono tipicamente usa e\n",
    "getta, e ad ogni operazione completata con successo il client ne riceve\n",
    "uno nuovo generato casualmente. Il nuovo token viene solitamente\n",
    "aggiunto al corpo della risorsa restituita.\n",
    "<br><br>\n",
    "In questa challenge, la flag è divisa in quattro pezzi, accessibili\n",
    "tramite la risorsa <code class=\"code\">http://web-11.challs.olicyber.it/flag_piece</code> in\n",
    "base al parametro <code class=\"code\">index</code>. Per accedervi, è necessario aver\n",
    "precedentemente inviato una richiesta POST di login alla risorsa\n",
    "<code class=\"code\">http://web-11.challs.olicyber.it/login</code>, con body JSON contenente\n",
    "<code class=\"code\">\"username\": \"admin\"</code> e <code class=\"code\">\"password\": \"admin\"</code>, e aver ricevuto in cambio\n",
    "un cookie di sessione. Oltre al token di sessione nel cookie, la risorsa\n",
    "<code class=\"code\">login</code> restituirà anche un token CSRF nel corpo della risposta\n",
    "(anch'esso <code class=\"code\">JSON</code>). Ad ogni richiesta correttamente eseguita il client\n",
    "riceverà un nuovo token da utilizzare per la successiva.\n",
    "<br><br>\n",
    "Si consiglia di utilizzare un oggetto <code class=\"code\">Session</code> per gestire il cookie di\n",
    "sessione, e il metodo <code class=\"code\">json</code> degli oggetti risposta per decodificarne\n",
    "il corpo automaticamente.</p></div></div><hr><div><h5 class=\"text-center\"><svg aria-hidden=\"true\" focusable=\"false\" data-prefix=\"fas\" data-icon=\"file\" class=\"svg-inline--fa fa-file fa-w-12 fa-fw \" role=\"img\" xmlns=\"http://www.w3.org/2000/svg\" viewBox=\"0 0 384 512\"><path fill=\"currentColor\" d=\"M224 136V0H24C10.7 0 0 10.7 0 24v464c0 13.3 10.7 24 24 24h336c13.3 0 24-10.7 24-24V160H248c-13.2 0-24-10.8-24-24zm160-14.1v6.1H256V0h6.1c6.4 0 12.5 2.5 17 7l97.9 98c4.5 4.5 7 10.6 7 16.9z\"></path></svg> Attachments</h5><div class=\"mt-2\"><a href=\"/api/file/aaa7c01a-cae8-48f6-a8c1-dda24cdcd28e/challenge.py?download\" target=\"_blank\" rel=\"noopener noreferrer\"><button type=\"button\" class=\"btn btn-primary\"><svg aria-hidden=\"true\" focusable=\"false\" data-prefix=\"fas\" data-icon=\"download\" class=\"svg-inline--fa fa-download fa-w-16 fa-fw \" role=\"img\" xmlns=\"http://www.w3.org/2000/svg\" viewBox=\"0 0 512 512\"><path fill=\"currentColor\" d=\"M216 0h80c13.3 0 24 10.7 24 24v168h87.7c17.8 0 26.7 21.5 14.1 34.1L269.7 378.3c-7.5 7.5-19.8 7.5-27.3 0L90.1 226.1c-12.6-12.6-3.7-34.1 14.1-34.1H192V24c0-13.3 10.7-24 24-24zm296 376v112c0 13.3-10.7 24-24 24H24c-13.3 0-24-10.7-24-24V376c0-13.3 10.7-24 24-24h146.7l49 49c20.1 20.1 52.5 20.1 72.6 0l49-49H488c13.3 0 24 10.7 24 24zm-124 88c0-11-9-20-20-20s-20 9-20 20 9 20 20 20 20-9 20-20zm64 0c0-11-9-20-20-20s-20 9-20 20 9 20 20 20 20-9 20-20z\"></path></svg> challenge.py</button> </a></div></div><hr><div class=\"input-group\"><input placeholder=\"flag{...}\" type=\"text\" class=\"form-control\" value=\"flag{v3ry_53ri0u5_53ri35_0f_r3qu3575}\"><button type=\"button\" class=\"btn btn-success\">Submit <svg aria-hidden=\"true\" focusable=\"false\" data-prefix=\"fas\" data-icon=\"arrow-right\" class=\"svg-inline--fa fa-arrow-right fa-w-14 fa-fw \" role=\"img\" xmlns=\"http://www.w3.org/2000/svg\" viewBox=\"0 0 448 512\"><path fill=\"currentColor\" d=\"M190.5 66.9l22.2-22.2c9.4-9.4 24.6-9.4 33.9 0L441 239c9.4 9.4 9.4 24.6 0 33.9L246.6 467.3c-9.4 9.4-24.6 9.4-33.9 0l-22.2-22.2c-9.5-9.5-9.3-25 .4-34.3L311.4 296H24c-13.3 0-24-10.7-24-24v-32c0-13.3 10.7-24 24-24h287.4L190.9 101.2c-9.8-9.3-10-24.8-.4-34.3z\"></path></svg></button></div></div></div>"
   ]
  },
  {
   "cell_type": "code",
   "execution_count": 96,
   "id": "b7057dfd-f9d3-497e-80ff-c5cb3928a2e1",
   "metadata": {},
   "outputs": [
    {
     "name": "stdout",
     "output_type": "stream",
     "text": [
      "flag{v3ry_53ri0u5_53ri35_0f_r3qu3575}\n"
     ]
    }
   ],
   "source": [
    "import requests\n",
    "import json\n",
    "#from pprint import pprint\n",
    "\n",
    "s = requests.Session()\n",
    "data = {\"username\":\"admin\", \"password\":\"admin\"}\n",
    "url = \"http://web-11.challs.olicyber.it/login\"\n",
    "r = s.post(url, json=data)\n",
    "#pprint(vars(r))\n",
    "\n",
    "flag = \"\"\n",
    "\n",
    "for i in range(4):\n",
    "    csrf_data = json.loads(r._content)\n",
    "    flag_url = \"http://web-11.challs.olicyber.it/flag_piece\"\n",
    "    # flag_url = \"http://192.168.1.103:5000/flag_piece\"\n",
    "    r = s.get(flag_url, params={\"csrf\": csrf_data[\"csrf\"], \"index\": str(i)})\n",
    "    #pprint(vars(r))\n",
    "    flag = flag + json.loads(r._content)[\"flag_piece\"]\n",
    "\n",
    "print(flag)\n"
   ]
  },
  {
   "cell_type": "markdown",
   "id": "051cce4b-9a81-47af-a60a-a08826fd40b3",
   "metadata": {},
   "source": [
    "<div class=\"modal-content\"><div class=\"modal-header\"><div class=\"text-center modal-title h4\">Web 12 - Tecnologie web: estrarre semplici contenuti da una pagina web</div><button type=\"button\" class=\"btn-close\" aria-label=\"Close\"></button></div><div class=\"modal-body\"><div class=\"text-center\"><span class=\"badge bg-primary\"><svg aria-hidden=\"true\" focusable=\"false\" data-prefix=\"fas\" data-icon=\"globe\" class=\"svg-inline--fa fa-globe fa-w-16 fa-fw \" role=\"img\" xmlns=\"http://www.w3.org/2000/svg\" viewBox=\"0 0 496 512\"><path fill=\"currentColor\" d=\"M336.5 160C322 70.7 287.8 8 248 8s-74 62.7-88.5 152h177zM152 256c0 22.2 1.2 43.5 3.3 64h185.3c2.1-20.5 3.3-41.8 3.3-64s-1.2-43.5-3.3-64H155.3c-2.1 20.5-3.3 41.8-3.3 64zm324.7-96c-28.6-67.9-86.5-120.4-158-141.6 24.4 33.8 41.2 84.7 50 141.6h108zM177.2 18.4C105.8 39.6 47.8 92.1 19.3 160h108c8.7-56.9 25.5-107.8 49.9-141.6zM487.4 192H372.7c2.1 21 3.3 42.5 3.3 64s-1.2 43-3.3 64h114.6c5.5-20.5 8.6-41.8 8.6-64s-3.1-43.5-8.5-64zM120 256c0-21.5 1.2-43 3.3-64H8.6C3.2 212.5 0 233.8 0 256s3.2 43.5 8.6 64h114.6c-2-21-3.2-42.5-3.2-64zm39.5 96c14.5 89.3 48.7 152 88.5 152s74-62.7 88.5-152h-177zm159.3 141.6c71.4-21.2 129.4-73.7 158-141.6h-108c-8.8 56.9-25.6 107.8-50 141.6zM19.3 352c28.6 67.9 86.5 120.4 158 141.6-24.4-33.8-41.2-84.7-50-141.6h-108z\"></path></svg> 48 <svg aria-hidden=\"true\" focusable=\"false\" data-prefix=\"fas\" data-icon=\"flag\" class=\"svg-inline--fa fa-flag fa-w-16 fa-fw \" role=\"img\" xmlns=\"http://www.w3.org/2000/svg\" viewBox=\"0 0 512 512\"><path fill=\"currentColor\" d=\"M349.565 98.783C295.978 98.783 251.721 64 184.348 64c-24.955 0-47.309 4.384-68.045 12.013a55.947 55.947 0 0 0 3.586-23.562C118.117 24.015 94.806 1.206 66.338.048 34.345-1.254 8 24.296 8 56c0 19.026 9.497 35.825 24 45.945V488c0 13.255 10.745 24 24 24h16c13.255 0 24-10.745 24-24v-94.4c28.311-12.064 63.582-22.122 114.435-22.122 53.588 0 97.844 34.783 165.217 34.783 48.169 0 86.667-16.294 122.505-40.858C506.84 359.452 512 349.571 512 339.045v-243.1c0-23.393-24.269-38.87-45.485-29.016-34.338 15.948-76.454 31.854-116.95 31.854z\"></path></svg></span> <span class=\"badge bg-danger\"><svg aria-hidden=\"true\" focusable=\"false\" data-prefix=\"fas\" data-icon=\"trophy\" class=\"svg-inline--fa fa-trophy fa-w-18 fa-fw \" role=\"img\" xmlns=\"http://www.w3.org/2000/svg\" viewBox=\"0 0 576 512\"><path fill=\"currentColor\" d=\"M552 64H448V24c0-13.3-10.7-24-24-24H152c-13.3 0-24 10.7-24 24v40H24C10.7 64 0 74.7 0 88v56c0 35.7 22.5 72.4 61.9 100.7 31.5 22.7 69.8 37.1 110 41.7C203.3 338.5 240 360 240 360v72h-48c-35.3 0-64 20.7-64 56v12c0 6.6 5.4 12 12 12h296c6.6 0 12-5.4 12-12v-12c0-35.3-28.7-56-64-56h-48v-72s36.7-21.5 68.1-73.6c40.3-4.6 78.6-19 110-41.7 39.3-28.3 61.9-65 61.9-100.7V88c0-13.3-10.7-24-24-24zM99.3 192.8C74.9 175.2 64 155.6 64 144v-16h64.2c1 32.6 5.8 61.2 12.8 86.2-15.1-5.2-29.2-12.4-41.7-21.4zM512 144c0 16.1-17.7 36.1-35.3 48.8-12.5 9-26.7 16.2-41.8 21.4 7-25 11.8-53.6 12.8-86.2H512v16z\"></path></svg> 50</span></div><div class=\"text-center mt-3\"><span><svg aria-hidden=\"true\" focusable=\"false\" data-prefix=\"fas\" data-icon=\"tags\" class=\"svg-inline--fa fa-tags fa-w-20 fa-fw d-inline-block\" role=\"img\" xmlns=\"http://www.w3.org/2000/svg\" viewBox=\"0 0 640 512\"><path fill=\"currentColor\" d=\"M497.941 225.941L286.059 14.059A48 48 0 0 0 252.118 0H48C21.49 0 0 21.49 0 48v204.118a48 48 0 0 0 14.059 33.941l211.882 211.882c18.744 18.745 49.136 18.746 67.882 0l204.118-204.118c18.745-18.745 18.745-49.137 0-67.882zM112 160c-26.51 0-48-21.49-48-48s21.49-48 48-48 48 21.49 48 48-21.49 48-48 48zm513.941 133.823L421.823 497.941c-18.745 18.745-49.137 18.745-67.882 0l-.36-.36L527.64 323.522c16.999-16.999 26.36-39.6 26.36-63.64s-9.362-46.641-26.36-63.64L331.397 0h48.721a48 48 0 0 1 33.941 14.059l211.882 211.882c18.745 18.745 18.745 49.137 0 67.882z\"></path></svg></span> <span class=\"badge text-dark bg-warning\">web</span> </div><div><div class=\"markdown bg-light p-3 mt-3\"><p>L'utilizzo primario di HTTP rimane trasportare documenti ipertestuali\n",
    "comunemente noti come <em>pagine web</em>. Questi documenti sono descritti\n",
    "tramite il <em>linguaggio di markup</em> HTML e possono avere una struttura\n",
    "abbastanza complessa. Fortunatamente sono disponibili numerose librerie\n",
    "utilizzabili per l'estrazione dei dati in essi contenuti che eliminano\n",
    "la difficoltà di dover interpretare un formato di tale complessità.\n",
    "<br><br>\n",
    "Gli ipertesti sono fondamentalmente documenti di testo, porzioni del\n",
    "quale sono delimitate da coppie di identificatori, detti <em>tag</em>, che ne\n",
    "specificano la funzione all'interno della pagina. Ad esempio, un\n",
    "paragrafo sarà delimitato da una coppia <code class=\"code\">&lt;p&gt; ... &lt;/p&gt;</code>, un link da <code class=\"code\">&lt;a&gt; ... &lt;/a&gt;</code> e così via. Questi tag possono contenere anche informazioni\n",
    "aggiuntive, dette attributi, che definiscono caratteristiche del testo\n",
    "delimitato (ad esempio, la destinazione di un link viene specificata\n",
    "nell'attributo <code class=\"code\">href</code> <em>Hypertext REFerence</em> del tag <code class=\"code\">&lt;a&gt;</code>)</p>\n",
    "<p>In questa challenge la flag è contenuta nel secondo paragrafo della\n",
    "pagina web accessibile all'URL <code class=\"code\">http://web-12.challs.olicyber.it/</code>.\n",
    "Si consiglia di scaricare la pagina come una normale risorsa tramite la\n",
    "funzione <code class=\"code\">get</code> della libreria <code class=\"code\">requests</code>, e il metodo\n",
    "<a href=\"https://www.crummy.com/software/BeautifulSoup/bs4/doc/#searching-the-tree\" target=\"_blank\">find_all</a>\n",
    "della libreria <code class=\"code\">BeautifulSoup</code> per ottenere l'elenco dei paragrafi in\n",
    "essa contenuti.</p></div></div><hr><div><h5 class=\"text-center\"><svg aria-hidden=\"true\" focusable=\"false\" data-prefix=\"fas\" data-icon=\"file\" class=\"svg-inline--fa fa-file fa-w-12 fa-fw \" role=\"img\" xmlns=\"http://www.w3.org/2000/svg\" viewBox=\"0 0 384 512\"><path fill=\"currentColor\" d=\"M224 136V0H24C10.7 0 0 10.7 0 24v464c0 13.3 10.7 24 24 24h336c13.3 0 24-10.7 24-24V160H248c-13.2 0-24-10.8-24-24zm160-14.1v6.1H256V0h6.1c6.4 0 12.5 2.5 17 7l97.9 98c4.5 4.5 7 10.6 7 16.9z\"></path></svg> Attachments</h5><div class=\"mt-2\"><a href=\"/api/file/f2e367d3-5dcc-4c3d-b416-3d5ed575e7df/challenge.py?download\" target=\"_blank\" rel=\"noopener noreferrer\"><button type=\"button\" class=\"btn btn-primary\"><svg aria-hidden=\"true\" focusable=\"false\" data-prefix=\"fas\" data-icon=\"download\" class=\"svg-inline--fa fa-download fa-w-16 fa-fw \" role=\"img\" xmlns=\"http://www.w3.org/2000/svg\" viewBox=\"0 0 512 512\"><path fill=\"currentColor\" d=\"M216 0h80c13.3 0 24 10.7 24 24v168h87.7c17.8 0 26.7 21.5 14.1 34.1L269.7 378.3c-7.5 7.5-19.8 7.5-27.3 0L90.1 226.1c-12.6-12.6-3.7-34.1 14.1-34.1H192V24c0-13.3 10.7-24 24-24zm296 376v112c0 13.3-10.7 24-24 24H24c-13.3 0-24-10.7-24-24V376c0-13.3 10.7-24 24-24h146.7l49 49c20.1 20.1 52.5 20.1 72.6 0l49-49H488c13.3 0 24 10.7 24 24zm-124 88c0-11-9-20-20-20s-20 9-20 20 9 20 20 20 20-9 20-20zm64 0c0-11-9-20-20-20s-20 9-20 20 9 20 20 20 20-9 20-20z\"></path></svg> challenge.py</button> </a></div><div class=\"mt-2\"><a href=\"/api/file/86128df9-be71-499a-97b8-62a3461950fe/index.html?download\" target=\"_blank\" rel=\"noopener noreferrer\"><button type=\"button\" class=\"btn btn-primary\"><svg aria-hidden=\"true\" focusable=\"false\" data-prefix=\"fas\" data-icon=\"download\" class=\"svg-inline--fa fa-download fa-w-16 fa-fw \" role=\"img\" xmlns=\"http://www.w3.org/2000/svg\" viewBox=\"0 0 512 512\"><path fill=\"currentColor\" d=\"M216 0h80c13.3 0 24 10.7 24 24v168h87.7c17.8 0 26.7 21.5 14.1 34.1L269.7 378.3c-7.5 7.5-19.8 7.5-27.3 0L90.1 226.1c-12.6-12.6-3.7-34.1 14.1-34.1H192V24c0-13.3 10.7-24 24-24zm296 376v112c0 13.3-10.7 24-24 24H24c-13.3 0-24-10.7-24-24V376c0-13.3 10.7-24 24-24h146.7l49 49c20.1 20.1 52.5 20.1 72.6 0l49-49H488c13.3 0 24 10.7 24 24zm-124 88c0-11-9-20-20-20s-20 9-20 20 9 20 20 20 20-9 20-20zm64 0c0-11-9-20-20-20s-20 9-20 20 9 20 20 20 20-9 20-20z\"></path></svg> index.html</button> </a></div></div><hr><div class=\"input-group\"><input placeholder=\"flag{...}\" type=\"text\" class=\"form-control\" value=\"flag{7h3_14ngu4g3_0f_7h3_w3b}\"><button type=\"button\" class=\"btn btn-success\">Submit <svg aria-hidden=\"true\" focusable=\"false\" data-prefix=\"fas\" data-icon=\"arrow-right\" class=\"svg-inline--fa fa-arrow-right fa-w-14 fa-fw \" role=\"img\" xmlns=\"http://www.w3.org/2000/svg\" viewBox=\"0 0 448 512\"><path fill=\"currentColor\" d=\"M190.5 66.9l22.2-22.2c9.4-9.4 24.6-9.4 33.9 0L441 239c9.4 9.4 9.4 24.6 0 33.9L246.6 467.3c-9.4 9.4-24.6 9.4-33.9 0l-22.2-22.2c-9.5-9.5-9.3-25 .4-34.3L311.4 296H24c-13.3 0-24-10.7-24-24v-32c0-13.3 10.7-24 24-24h287.4L190.9 101.2c-9.8-9.3-10-24.8-.4-34.3z\"></path></svg></button></div></div></div>"
   ]
  },
  {
   "cell_type": "code",
   "execution_count": 98,
   "id": "d39252cf-5a87-42f4-880b-e5176d82b244",
   "metadata": {},
   "outputs": [
    {
     "name": "stdout",
     "output_type": "stream",
     "text": [
      "<p>\n",
      "<pre>flag{7h3_14ngu4g3_0f_7h3_w3b}</pre>\n",
      "</p>\n"
     ]
    }
   ],
   "source": [
    "import requests\n",
    "from bs4 import BeautifulSoup\n",
    "#from pprint import pprint\n",
    "\n",
    "url = \"http://web-12.challs.olicyber.it/\"\n",
    "r = requests.get(url)\n",
    "html_doc = r.content\n",
    "soup = BeautifulSoup(html_doc, 'html.parser')\n",
    "flag=soup.find_all(\"p\")[1]\n",
    "print(flag)\n"
   ]
  }
 ],
 "metadata": {
  "kernelspec": {
   "display_name": "Python 3 (ipykernel)",
   "language": "python",
   "name": "python3"
  },
  "language_info": {
   "codemirror_mode": {
    "name": "ipython",
    "version": 3
   },
   "file_extension": ".py",
   "mimetype": "text/x-python",
   "name": "python",
   "nbconvert_exporter": "python",
   "pygments_lexer": "ipython3",
   "version": "3.10.7"
  }
 },
 "nbformat": 4,
 "nbformat_minor": 5
}
