{
 "cells": [
  {
   "cell_type": "markdown",
   "id": "7b65345c-b2b1-47b5-a6d0-e45f525367a7",
   "metadata": {},
   "source": [
    "# Small bits of RSA\n",
    "\n",
    "Dato $n = p \\cdot q$ nella forma $p = (1 + 2^{1024}) + 2^x + 2^y$, $q = (1 + 2^{1024}) + 2^{x^\\prime} + 2^{y^\\prime}$ e $p, q$ primi, trovare i fattori in tempo lineare.\n",
    "\n",
    "Per semplificare la notazione definisco $c = 1 + 2^{1024}$ che è costante e le variabili $a = 2^{x} + 2^{y}$ e $b = 2^{x^\\prime} + 2^{y^\\prime}$.\n",
    "Euristicamente considero i quattro fattori di $p$ e $q$ tutti diversi tra di loro.\n",
    "\n",
    "Riscrivo $n$ in funzione di $a$, $b$ e $c$:\n",
    "\n",
    "$n = p \\cdot q = (c + a) \\cdot (c + b) = c^2 + a \\cdot b + c \\cdot (a + b)$\n",
    "\n",
    "Definisco $n^{\\prime} = n - c^2$ e lo esprimo in funzione di $a$ e $b$.\n",
    "\n",
    "$n^\\prime = a \\cdot b + c \\cdot (a + b) = a \\cdot b + 2^{1024} \\cdot (a + b) + a + b$\n",
    "\n",
    "Considero che $a \\cdot b > (a + b)$ e quindi esiste un $k$ tale che $a + b < 2^k < a \\cdot b$.\n",
    "\n",
    "Algebricamente dovrei ottenere (spero!)\n",
    "\n",
    "$n^\\prime = a + b \\quad (\\mod 2^k)$\n",
    "\n",
    "Algoritmicamente posso cercare i quattro bit meno significativi di $n^\\prime$ in tempo lineare con il numero di bit (1023) in questo caso.\n",
    "\n",
    "Date le posizioni $u_i, i \\in \\{1, 2, 3, 4\\}$ dei quattro bit che rappresentano $a+b$ posso testare le configurazioni di bit la coppia $(x, y)$ e determinare di conseguenza $p$ e $q$.\n",
    "Suppongo che $p$ sia il numero che ha come addendo $2^{u_1}$ e cerco, in al più tre tentativi, l'altro addendo."
   ]
  },
  {
   "cell_type": "code",
   "execution_count": 12,
   "id": "cf45c773-e2e7-465c-bfd3-52109bb8909b",
   "metadata": {},
   "outputs": [
    {
     "name": "stdout",
     "output_type": "stream",
     "text": [
      "Indice degli esponenti {x, y, x', y'}:  [467, 560, 694, 754]\n",
      "b\"flag{7h4t'5_t00_34sy_70_bru73f0rc3}\"\n"
     ]
    }
   ],
   "source": [
    "from Crypto.Util.number import long_to_bytes\n",
    "\n",
    "n = 32317006071311007300714876688669951960444102669715484032130345427524655138867890910231815158340075124449160771204283641281724391624155744134891299920569778021546200566154762844737460306656401306717995042112975678567115629090803517462121258655469583240022037353048521499240827843155027799956552786959990585649107658811064260488232738134166283505443407341105321057437064785365817773808838948334147486828634905280811812093005565958364262499813458296923764425988731231141215242724174842455026328368850871890939653154468015125635908962988588710751338641786413095107838684263878858986666197310881722534070178524799048876033\n",
    "ct = 31469377515162416691937486388338904542391170029557470417191010059118166159973852280781681215886744020437544389486747794993719387196211451928074096624039829297844200827040451687798829988979874696927095434787957785811028717288603998622162415714934569904339518703767021117385594485878500603345465423689931222527166269469594918992875696170151104638753829337933139136133381038573593209571963250319298406843780788832370142118230372199145031446941989147873429923880735856152181695694639957103929228029967979558575192131192323945877383086247575773271999263154643957529332148722775194663765250864924076582924094191580148533021\n",
    "\n",
    "c = pow(2, 1024) + 1\n",
    "n1 = n - pow(c, 2)\n",
    "\n",
    "u = [0, 0, 0, 0]\n",
    "i = 0\n",
    "pos = 0\n",
    "while i < 4  and pos < 1024:\n",
    "    twoAtPos = 1 << pos\n",
    "    if n1 & twoAtPos != 0:\n",
    "        u[i] = pos\n",
    "        i = i + 1\n",
    "    pos = pos + 1\n",
    "\n",
    "print (\"Indice degli esponenti {x, y, x', y'}: \", u)\n",
    "\n",
    "# p1 = p - 2^y\n",
    "p1 = c + pow(2, u[0])\n",
    "\n",
    "i = 1\n",
    "while i < 4:\n",
    "    p = p1 + pow(2, u[i])\n",
    "    if n % p == 0:\n",
    "        q = n // p\n",
    "        break\n",
    "    i = i + 1\n",
    "        \n",
    "phi = (p-1)*(q-1)\n",
    "d = pow(65537, -1, phi)\n",
    "m = pow(ct, d, n)\n",
    "\n",
    "print(long_to_bytes(m))"
   ]
  }
 ],
 "metadata": {
  "kernelspec": {
   "display_name": "Python 3 (ipykernel)",
   "language": "python",
   "name": "python3"
  },
  "language_info": {
   "codemirror_mode": {
    "name": "ipython",
    "version": 3
   },
   "file_extension": ".py",
   "mimetype": "text/x-python",
   "name": "python",
   "nbconvert_exporter": "python",
   "pygments_lexer": "ipython3",
   "version": "3.10.7"
  }
 },
 "nbformat": 4,
 "nbformat_minor": 5
}
