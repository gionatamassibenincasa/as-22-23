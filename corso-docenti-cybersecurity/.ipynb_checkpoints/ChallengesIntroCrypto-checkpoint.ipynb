{
 "cells": [
  {
   "cell_type": "markdown",
   "id": "35b253ff-5cd2-40c4-8199-11c6ea8eac95",
   "metadata": {},
   "source": [
    "<div class=\"modal-content\"><div class=\"modal-header\"><div class=\"text-center modal-title h4\">Crypto 01 - Encoding 1</div><button type=\"button\" class=\"btn-close\" aria-label=\"Close\"></button></div><div class=\"modal-body\"><div class=\"text-center\"><span class=\"badge bg-primary\"><svg aria-hidden=\"true\" focusable=\"false\" data-prefix=\"fas\" data-icon=\"globe\" class=\"svg-inline--fa fa-globe fa-w-16 fa-fw \" role=\"img\" xmlns=\"http://www.w3.org/2000/svg\" viewBox=\"0 0 496 512\"><path fill=\"currentColor\" d=\"M336.5 160C322 70.7 287.8 8 248 8s-74 62.7-88.5 152h177zM152 256c0 22.2 1.2 43.5 3.3 64h185.3c2.1-20.5 3.3-41.8 3.3-64s-1.2-43.5-3.3-64H155.3c-2.1 20.5-3.3 41.8-3.3 64zm324.7-96c-28.6-67.9-86.5-120.4-158-141.6 24.4 33.8 41.2 84.7 50 141.6h108zM177.2 18.4C105.8 39.6 47.8 92.1 19.3 160h108c8.7-56.9 25.5-107.8 49.9-141.6zM487.4 192H372.7c2.1 21 3.3 42.5 3.3 64s-1.2 43-3.3 64h114.6c5.5-20.5 8.6-41.8 8.6-64s-3.1-43.5-8.5-64zM120 256c0-21.5 1.2-43 3.3-64H8.6C3.2 212.5 0 233.8 0 256s3.2 43.5 8.6 64h114.6c-2-21-3.2-42.5-3.2-64zm39.5 96c14.5 89.3 48.7 152 88.5 152s74-62.7 88.5-152h-177zm159.3 141.6c71.4-21.2 129.4-73.7 158-141.6h-108c-8.8 56.9-25.6 107.8-50 141.6zM19.3 352c28.6 67.9 86.5 120.4 158 141.6-24.4-33.8-41.2-84.7-50-141.6h-108z\"></path></svg> 186 <svg aria-hidden=\"true\" focusable=\"false\" data-prefix=\"fas\" data-icon=\"flag\" class=\"svg-inline--fa fa-flag fa-w-16 fa-fw \" role=\"img\" xmlns=\"http://www.w3.org/2000/svg\" viewBox=\"0 0 512 512\"><path fill=\"currentColor\" d=\"M349.565 98.783C295.978 98.783 251.721 64 184.348 64c-24.955 0-47.309 4.384-68.045 12.013a55.947 55.947 0 0 0 3.586-23.562C118.117 24.015 94.806 1.206 66.338.048 34.345-1.254 8 24.296 8 56c0 19.026 9.497 35.825 24 45.945V488c0 13.255 10.745 24 24 24h16c13.255 0 24-10.745 24-24v-94.4c28.311-12.064 63.582-22.122 114.435-22.122 53.588 0 97.844 34.783 165.217 34.783 48.169 0 86.667-16.294 122.505-40.858C506.84 359.452 512 349.571 512 339.045v-243.1c0-23.393-24.269-38.87-45.485-29.016-34.338 15.948-76.454 31.854-116.95 31.854z\"></path></svg></span> <span class=\"badge bg-danger\"><svg aria-hidden=\"true\" focusable=\"false\" data-prefix=\"fas\" data-icon=\"trophy\" class=\"svg-inline--fa fa-trophy fa-w-18 fa-fw \" role=\"img\" xmlns=\"http://www.w3.org/2000/svg\" viewBox=\"0 0 576 512\"><path fill=\"currentColor\" d=\"M552 64H448V24c0-13.3-10.7-24-24-24H152c-13.3 0-24 10.7-24 24v40H24C10.7 64 0 74.7 0 88v56c0 35.7 22.5 72.4 61.9 100.7 31.5 22.7 69.8 37.1 110 41.7C203.3 338.5 240 360 240 360v72h-48c-35.3 0-64 20.7-64 56v12c0 6.6 5.4 12 12 12h296c6.6 0 12-5.4 12-12v-12c0-35.3-28.7-56-64-56h-48v-72s36.7-21.5 68.1-73.6c40.3-4.6 78.6-19 110-41.7 39.3-28.3 61.9-65 61.9-100.7V88c0-13.3-10.7-24-24-24zM99.3 192.8C74.9 175.2 64 155.6 64 144v-16h64.2c1 32.6 5.8 61.2 12.8 86.2-15.1-5.2-29.2-12.4-41.7-21.4zM512 144c0 16.1-17.7 36.1-35.3 48.8-12.5 9-26.7 16.2-41.8 21.4 7-25 11.8-53.6 12.8-86.2H512v16z\"></path></svg> 50</span></div><div class=\"text-center mt-3\"><span><svg aria-hidden=\"true\" focusable=\"false\" data-prefix=\"fas\" data-icon=\"tags\" class=\"svg-inline--fa fa-tags fa-w-20 fa-fw d-inline-block\" role=\"img\" xmlns=\"http://www.w3.org/2000/svg\" viewBox=\"0 0 640 512\"><path fill=\"currentColor\" d=\"M497.941 225.941L286.059 14.059A48 48 0 0 0 252.118 0H48C21.49 0 0 21.49 0 48v204.118a48 48 0 0 0 14.059 33.941l211.882 211.882c18.744 18.745 49.136 18.746 67.882 0l204.118-204.118c18.745-18.745 18.745-49.137 0-67.882zM112 160c-26.51 0-48-21.49-48-48s21.49-48 48-48 48 21.49 48 48-21.49 48-48 48zm513.941 133.823L421.823 497.941c-18.745 18.745-49.137 18.745-67.882 0l-.36-.36L527.64 323.522c16.999-16.999 26.36-39.6 26.36-63.64s-9.362-46.641-26.36-63.64L331.397 0h48.721a48 48 0 0 1 33.941 14.059l211.882 211.882c18.745 18.745 18.745 49.137 0 67.882z\"></path></svg></span> <span class=\"badge text-dark bg-warning\">crypto</span> </div><div><div class=\"markdown bg-light p-3 mt-3\"><p>In questa serie di challenge verranno introdotte alcune nozioni di base necessarie per affrontare i problemi di <code class=\"code\">crittografia</code>.\n",
    "<br><br>\n",
    "Innanzitutto è bene comprendere il concetto di <a href=\"https://it.wikipedia.org/wiki/Codice_(teoria_dell%27informazione)\" target=\"_blank\">encoding</a>.\n",
    "<br><br>\n",
    "Un <strong>encoding</strong> (o <em>codice</em>, in italiano) è un sistema di segnali o simboli convenzionalmente designati per rappresentare un'informazione.\n",
    "<br><br>\n",
    "Ad un livello fondamentale, ogni informazione è rappresentata all'interno di un computer tramite sequenze di 0 e 1 (<em>bit</em>).\n",
    "<br><br>\n",
    "Tuttavia queste sono piuttosto scomode, di conseguenza a partire da esse solitamente si sovrappone un ulteriore <em>encoding</em> a seconda della convenienza.\n",
    "<br><br>\n",
    "<a href=\"https://it.wikipedia.org/wiki/ASCII\" target=\"_blank\">ASCII</a>, ad esempio, è un codice standard che permette di rappresentare del testo (e qualche altro carattere di controllo) attraverso sequenze di 7 bit (equivalentemente, numeri interi da 0 a 127).\n",
    "<br><br>\n",
    "In Python, la funzione <code class=\"code\">chr()</code> effettua la conversione da numero a carattere (la funzione <code class=\"code\">ord()</code> fa l'opposto); altrimenti puoi aiutarti con dei tool online come <a href=\"https://gchq.github.io/CyberChef/\" target=\"_blank\">CyberChef</a>.\n",
    "<br><br>\n",
    "La flag di questa challenge è ottenibile con la conversione (<em>decodifica</em>) di questi numeri nei caratteri ASCII corrispondenti.\n",
    "<br><br>\n",
    "<code class=\"code\">[102, 108, 97, 103, 123, 117, 103, 104, 95, 78, 117, 109, 66, 51, 114, 53, 95, 52, 49, 114, 51, 52, 100, 121, 125]</code></p></div></div><hr><div class=\"input-group\"><input placeholder=\"flag{...}\" type=\"text\" class=\"form-control\" value=\"flag{ugh_NumB3r5_41r34dy}\"><button type=\"button\" class=\"btn btn-success\">Submit <svg aria-hidden=\"true\" focusable=\"false\" data-prefix=\"fas\" data-icon=\"arrow-right\" class=\"svg-inline--fa fa-arrow-right fa-w-14 fa-fw \" role=\"img\" xmlns=\"http://www.w3.org/2000/svg\" viewBox=\"0 0 448 512\"><path fill=\"currentColor\" d=\"M190.5 66.9l22.2-22.2c9.4-9.4 24.6-9.4 33.9 0L441 239c9.4 9.4 9.4 24.6 0 33.9L246.6 467.3c-9.4 9.4-24.6 9.4-33.9 0l-22.2-22.2c-9.5-9.5-9.3-25 .4-34.3L311.4 296H24c-13.3 0-24-10.7-24-24v-32c0-13.3 10.7-24 24-24h287.4L190.9 101.2c-9.8-9.3-10-24.8-.4-34.3z\"></path></svg></button></div></div></div>"
   ]
  },
  {
   "cell_type": "code",
   "execution_count": 6,
   "id": "e2f8feca-c4c4-4ae5-b669-b642916addd5",
   "metadata": {},
   "outputs": [
    {
     "data": {
      "text/plain": [
       "b'flag{ugh_NumB3r5_41r34dy}'"
      ]
     },
     "execution_count": 6,
     "metadata": {},
     "output_type": "execute_result"
    }
   ],
   "source": [
    "ascii_values = [102, 108, 97, 103, 123, 117, 103, 104, 95, 78, 117, 109, 66, 51, 114, 53, 95, 52, 49, 114, 51, 52, 100, 121, 125]\n",
    "flag = ''\n",
    "for c in ascii_values:\n",
    "    flag += chr(c)\n",
    "\n",
    "# oppure\n",
    "''.join([chr(c) for c in ascii_values])\n",
    "\n",
    "# oppure\n",
    "flag = bytes(ascii_values)\n",
    "flag"
   ]
  },
  {
   "cell_type": "markdown",
   "id": "2d6183f9-8823-454c-ad1d-c8fe854b4105",
   "metadata": {},
   "source": [
    "<div class=\"modal-content\"><div class=\"modal-header\"><div class=\"text-center modal-title h4\">Crypto 02 - Encoding 2</div><button type=\"button\" class=\"btn-close\" aria-label=\"Close\"></button></div><div class=\"modal-body\"><div class=\"text-center\"><span class=\"badge bg-primary\"><svg aria-hidden=\"true\" focusable=\"false\" data-prefix=\"fas\" data-icon=\"globe\" class=\"svg-inline--fa fa-globe fa-w-16 fa-fw \" role=\"img\" xmlns=\"http://www.w3.org/2000/svg\" viewBox=\"0 0 496 512\"><path fill=\"currentColor\" d=\"M336.5 160C322 70.7 287.8 8 248 8s-74 62.7-88.5 152h177zM152 256c0 22.2 1.2 43.5 3.3 64h185.3c2.1-20.5 3.3-41.8 3.3-64s-1.2-43.5-3.3-64H155.3c-2.1 20.5-3.3 41.8-3.3 64zm324.7-96c-28.6-67.9-86.5-120.4-158-141.6 24.4 33.8 41.2 84.7 50 141.6h108zM177.2 18.4C105.8 39.6 47.8 92.1 19.3 160h108c8.7-56.9 25.5-107.8 49.9-141.6zM487.4 192H372.7c2.1 21 3.3 42.5 3.3 64s-1.2 43-3.3 64h114.6c5.5-20.5 8.6-41.8 8.6-64s-3.1-43.5-8.5-64zM120 256c0-21.5 1.2-43 3.3-64H8.6C3.2 212.5 0 233.8 0 256s3.2 43.5 8.6 64h114.6c-2-21-3.2-42.5-3.2-64zm39.5 96c14.5 89.3 48.7 152 88.5 152s74-62.7 88.5-152h-177zm159.3 141.6c71.4-21.2 129.4-73.7 158-141.6h-108c-8.8 56.9-25.6 107.8-50 141.6zM19.3 352c28.6 67.9 86.5 120.4 158 141.6-24.4-33.8-41.2-84.7-50-141.6h-108z\"></path></svg> 182 <svg aria-hidden=\"true\" focusable=\"false\" data-prefix=\"fas\" data-icon=\"flag\" class=\"svg-inline--fa fa-flag fa-w-16 fa-fw \" role=\"img\" xmlns=\"http://www.w3.org/2000/svg\" viewBox=\"0 0 512 512\"><path fill=\"currentColor\" d=\"M349.565 98.783C295.978 98.783 251.721 64 184.348 64c-24.955 0-47.309 4.384-68.045 12.013a55.947 55.947 0 0 0 3.586-23.562C118.117 24.015 94.806 1.206 66.338.048 34.345-1.254 8 24.296 8 56c0 19.026 9.497 35.825 24 45.945V488c0 13.255 10.745 24 24 24h16c13.255 0 24-10.745 24-24v-94.4c28.311-12.064 63.582-22.122 114.435-22.122 53.588 0 97.844 34.783 165.217 34.783 48.169 0 86.667-16.294 122.505-40.858C506.84 359.452 512 349.571 512 339.045v-243.1c0-23.393-24.269-38.87-45.485-29.016-34.338 15.948-76.454 31.854-116.95 31.854z\"></path></svg></span> <span class=\"badge bg-danger\"><svg aria-hidden=\"true\" focusable=\"false\" data-prefix=\"fas\" data-icon=\"trophy\" class=\"svg-inline--fa fa-trophy fa-w-18 fa-fw \" role=\"img\" xmlns=\"http://www.w3.org/2000/svg\" viewBox=\"0 0 576 512\"><path fill=\"currentColor\" d=\"M552 64H448V24c0-13.3-10.7-24-24-24H152c-13.3 0-24 10.7-24 24v40H24C10.7 64 0 74.7 0 88v56c0 35.7 22.5 72.4 61.9 100.7 31.5 22.7 69.8 37.1 110 41.7C203.3 338.5 240 360 240 360v72h-48c-35.3 0-64 20.7-64 56v12c0 6.6 5.4 12 12 12h296c6.6 0 12-5.4 12-12v-12c0-35.3-28.7-56-64-56h-48v-72s36.7-21.5 68.1-73.6c40.3-4.6 78.6-19 110-41.7 39.3-28.3 61.9-65 61.9-100.7V88c0-13.3-10.7-24-24-24zM99.3 192.8C74.9 175.2 64 155.6 64 144v-16h64.2c1 32.6 5.8 61.2 12.8 86.2-15.1-5.2-29.2-12.4-41.7-21.4zM512 144c0 16.1-17.7 36.1-35.3 48.8-12.5 9-26.7 16.2-41.8 21.4 7-25 11.8-53.6 12.8-86.2H512v16z\"></path></svg> 50</span></div><div class=\"text-center mt-3\"><span><svg aria-hidden=\"true\" focusable=\"false\" data-prefix=\"fas\" data-icon=\"tags\" class=\"svg-inline--fa fa-tags fa-w-20 fa-fw d-inline-block\" role=\"img\" xmlns=\"http://www.w3.org/2000/svg\" viewBox=\"0 0 640 512\"><path fill=\"currentColor\" d=\"M497.941 225.941L286.059 14.059A48 48 0 0 0 252.118 0H48C21.49 0 0 21.49 0 48v204.118a48 48 0 0 0 14.059 33.941l211.882 211.882c18.744 18.745 49.136 18.746 67.882 0l204.118-204.118c18.745-18.745 18.745-49.137 0-67.882zM112 160c-26.51 0-48-21.49-48-48s21.49-48 48-48 48 21.49 48 48-21.49 48-48 48zm513.941 133.823L421.823 497.941c-18.745 18.745-49.137 18.745-67.882 0l-.36-.36L527.64 323.522c16.999-16.999 26.36-39.6 26.36-63.64s-9.362-46.641-26.36-63.64L331.397 0h48.721a48 48 0 0 1 33.941 14.059l211.882 211.882c18.745 18.745 18.745 49.137 0 67.882z\"></path></svg></span> <span class=\"badge text-dark bg-warning\">crypto</span> </div><div><div class=\"markdown bg-light p-3 mt-3\"><p>Convenzionalmente le sequenze di bit vengono divise in <em>byte</em>: sottosequenze adiacenti di 8 bit ciascuna.\n",
    "<br><br>\n",
    "La codifica esadecimale (o in <em>base 16</em>) permette di rappresentarli in modo molto conveniente.\n",
    "<br><br>\n",
    "Dato un byte, lo si spezza in due sequenze adiacenti da quattro bit ciascuna: queste, lette in binario, possono essere intese come due numeri interi da 0 a 15, che sono poi rappresentati dai caratteri <code class=\"code\">'0'</code>, <code class=\"code\">'1'</code>, ..., <code class=\"code\">'9'</code>, <code class=\"code\">'a'</code>, <code class=\"code\">'b'</code>, ..., <code class=\"code\">'f'</code>.\n",
    "<br><br>\n",
    "Esempio: <code class=\"code\">01101110</code> → <code class=\"code\">0110</code>, <code class=\"code\">1110</code> → <code class=\"code\">6</code>, <code class=\"code\">14</code> → <code class=\"code\">'6'</code>, <code class=\"code\">'e'</code> → <code class=\"code\">'6e'</code>.\n",
    "<br><br>\n",
    "Dunque ciascun <em>byte</em> viene trasformato in una sequenza di <em>due</em> caratteri.\n",
    "<br><br>\n",
    "In Python, sequenze di <em>byte</em> vengono gestite attraverso la classe <a href=\"https://docs.python.org/3/library/stdtypes.html#binary-sequence-types-bytes-bytearray-memoryview\" target=\"_blank\">bytes</a>. Con il metodo <code class=\"code\">.hex()</code> è possibile ottenere la corrispondente <em>stringa esadecimale</em>, mentre la funzione <code class=\"code\">bytes.fromhex(s)</code> restituisce l'oggetto <code class=\"code\">bytes</code> che corrisponde alla <em>stringa esadecimale</em> <code class=\"code\">s</code>.\n",
    "<br><br>\n",
    "Per ottenere la flag, trasforma la seguente stringa nella corrispondente sequenza di bytes.\n",
    "<br><br>\n",
    "<code class=\"code\">666c61677b68337834646563696d616c5f63346e5f62335f41424144424142457d</code></p></div></div><hr><div class=\"input-group\"><input placeholder=\"flag{...}\" type=\"text\" class=\"form-control\" value=\"flag{h3x4decimal_c4n_b3_ABADBABE}\"><button type=\"button\" class=\"btn btn-success\">Submit <svg aria-hidden=\"true\" focusable=\"false\" data-prefix=\"fas\" data-icon=\"arrow-right\" class=\"svg-inline--fa fa-arrow-right fa-w-14 fa-fw \" role=\"img\" xmlns=\"http://www.w3.org/2000/svg\" viewBox=\"0 0 448 512\"><path fill=\"currentColor\" d=\"M190.5 66.9l22.2-22.2c9.4-9.4 24.6-9.4 33.9 0L441 239c9.4 9.4 9.4 24.6 0 33.9L246.6 467.3c-9.4 9.4-24.6 9.4-33.9 0l-22.2-22.2c-9.5-9.5-9.3-25 .4-34.3L311.4 296H24c-13.3 0-24-10.7-24-24v-32c0-13.3 10.7-24 24-24h287.4L190.9 101.2c-9.8-9.3-10-24.8-.4-34.3z\"></path></svg></button></div></div></div>"
   ]
  },
  {
   "cell_type": "code",
   "execution_count": 5,
   "id": "ced41a59-ef63-4641-b648-a610b1e1bd30",
   "metadata": {},
   "outputs": [
    {
     "data": {
      "text/plain": [
       "b'flag{h3x4decimal_c4n_b3_ABADBABE}'"
      ]
     },
     "execution_count": 5,
     "metadata": {},
     "output_type": "execute_result"
    }
   ],
   "source": [
    "s = bytes.fromhex('666c61677b68337834646563696d616c5f63346e5f62335f41424144424142457d')\n",
    "s"
   ]
  },
  {
   "cell_type": "markdown",
   "id": "023a7599-6378-48a7-ae1c-8e503abfed01",
   "metadata": {},
   "source": [
    "<div class=\"modal-content\"><div class=\"modal-header\"><div class=\"text-center modal-title h4\">Crypto 03 - Encoding 3</div><button type=\"button\" class=\"btn-close\" aria-label=\"Close\"></button></div><div class=\"modal-body\"><div class=\"text-center\"><span class=\"badge bg-primary\"><svg aria-hidden=\"true\" focusable=\"false\" data-prefix=\"fas\" data-icon=\"globe\" class=\"svg-inline--fa fa-globe fa-w-16 fa-fw \" role=\"img\" xmlns=\"http://www.w3.org/2000/svg\" viewBox=\"0 0 496 512\"><path fill=\"currentColor\" d=\"M336.5 160C322 70.7 287.8 8 248 8s-74 62.7-88.5 152h177zM152 256c0 22.2 1.2 43.5 3.3 64h185.3c2.1-20.5 3.3-41.8 3.3-64s-1.2-43.5-3.3-64H155.3c-2.1 20.5-3.3 41.8-3.3 64zm324.7-96c-28.6-67.9-86.5-120.4-158-141.6 24.4 33.8 41.2 84.7 50 141.6h108zM177.2 18.4C105.8 39.6 47.8 92.1 19.3 160h108c8.7-56.9 25.5-107.8 49.9-141.6zM487.4 192H372.7c2.1 21 3.3 42.5 3.3 64s-1.2 43-3.3 64h114.6c5.5-20.5 8.6-41.8 8.6-64s-3.1-43.5-8.5-64zM120 256c0-21.5 1.2-43 3.3-64H8.6C3.2 212.5 0 233.8 0 256s3.2 43.5 8.6 64h114.6c-2-21-3.2-42.5-3.2-64zm39.5 96c14.5 89.3 48.7 152 88.5 152s74-62.7 88.5-152h-177zm159.3 141.6c71.4-21.2 129.4-73.7 158-141.6h-108c-8.8 56.9-25.6 107.8-50 141.6zM19.3 352c28.6 67.9 86.5 120.4 158 141.6-24.4-33.8-41.2-84.7-50-141.6h-108z\"></path></svg> 148 <svg aria-hidden=\"true\" focusable=\"false\" data-prefix=\"fas\" data-icon=\"flag\" class=\"svg-inline--fa fa-flag fa-w-16 fa-fw \" role=\"img\" xmlns=\"http://www.w3.org/2000/svg\" viewBox=\"0 0 512 512\"><path fill=\"currentColor\" d=\"M349.565 98.783C295.978 98.783 251.721 64 184.348 64c-24.955 0-47.309 4.384-68.045 12.013a55.947 55.947 0 0 0 3.586-23.562C118.117 24.015 94.806 1.206 66.338.048 34.345-1.254 8 24.296 8 56c0 19.026 9.497 35.825 24 45.945V488c0 13.255 10.745 24 24 24h16c13.255 0 24-10.745 24-24v-94.4c28.311-12.064 63.582-22.122 114.435-22.122 53.588 0 97.844 34.783 165.217 34.783 48.169 0 86.667-16.294 122.505-40.858C506.84 359.452 512 349.571 512 339.045v-243.1c0-23.393-24.269-38.87-45.485-29.016-34.338 15.948-76.454 31.854-116.95 31.854z\"></path></svg></span> <span class=\"badge bg-danger\"><svg aria-hidden=\"true\" focusable=\"false\" data-prefix=\"fas\" data-icon=\"trophy\" class=\"svg-inline--fa fa-trophy fa-w-18 fa-fw \" role=\"img\" xmlns=\"http://www.w3.org/2000/svg\" viewBox=\"0 0 576 512\"><path fill=\"currentColor\" d=\"M552 64H448V24c0-13.3-10.7-24-24-24H152c-13.3 0-24 10.7-24 24v40H24C10.7 64 0 74.7 0 88v56c0 35.7 22.5 72.4 61.9 100.7 31.5 22.7 69.8 37.1 110 41.7C203.3 338.5 240 360 240 360v72h-48c-35.3 0-64 20.7-64 56v12c0 6.6 5.4 12 12 12h296c6.6 0 12-5.4 12-12v-12c0-35.3-28.7-56-64-56h-48v-72s36.7-21.5 68.1-73.6c40.3-4.6 78.6-19 110-41.7 39.3-28.3 61.9-65 61.9-100.7V88c0-13.3-10.7-24-24-24zM99.3 192.8C74.9 175.2 64 155.6 64 144v-16h64.2c1 32.6 5.8 61.2 12.8 86.2-15.1-5.2-29.2-12.4-41.7-21.4zM512 144c0 16.1-17.7 36.1-35.3 48.8-12.5 9-26.7 16.2-41.8 21.4 7-25 11.8-53.6 12.8-86.2H512v16z\"></path></svg> 50</span></div><div class=\"text-center mt-3\"><span><svg aria-hidden=\"true\" focusable=\"false\" data-prefix=\"fas\" data-icon=\"tags\" class=\"svg-inline--fa fa-tags fa-w-20 fa-fw d-inline-block\" role=\"img\" xmlns=\"http://www.w3.org/2000/svg\" viewBox=\"0 0 640 512\"><path fill=\"currentColor\" d=\"M497.941 225.941L286.059 14.059A48 48 0 0 0 252.118 0H48C21.49 0 0 21.49 0 48v204.118a48 48 0 0 0 14.059 33.941l211.882 211.882c18.744 18.745 49.136 18.746 67.882 0l204.118-204.118c18.745-18.745 18.745-49.137 0-67.882zM112 160c-26.51 0-48-21.49-48-48s21.49-48 48-48 48 21.49 48 48-21.49 48-48 48zm513.941 133.823L421.823 497.941c-18.745 18.745-49.137 18.745-67.882 0l-.36-.36L527.64 323.522c16.999-16.999 26.36-39.6 26.36-63.64s-9.362-46.641-26.36-63.64L331.397 0h48.721a48 48 0 0 1 33.941 14.059l211.882 211.882c18.745 18.745 18.745 49.137 0 67.882z\"></path></svg></span> <span class=\"badge text-dark bg-warning\">crypto</span> </div><div><div class=\"markdown bg-light p-3 mt-3\"><p>Spesso in crittografia si ha a che fare con numeri interi. Questi vengono usualmente trasmessi utilizzando svariati <em>encoding</em> delle sequenze di bit corrispondenti.\n",
    "<br><br>\n",
    "Solitamente però si evita di utilizzare la rappresentazione in <em>base 10</em>, preferendo un alfabeto di caratteri più esteso per ragioni di compattezza.\n",
    "<br><br>\n",
    "Possibili alternative possono essere l'esadecimale (come visto nella challenge precedente) o la <code class=\"code\">base 64</code>.\n",
    "<br><br>\n",
    "Un esempio di snippet in Python che decodifica una stringa in <code class=\"code\">base 64</code>:\n",
    "<br><br></p>\n",
    "<pre><code class=\"code language-python\">#!/usr/bin/env python3\n",
    "from base64 import b64decode\n",
    "s = 'aGVubG8gOik='\n",
    "print(b64decode(s))\n",
    "</code></pre>\n",
    "<p>In Python per convertire un oggetto <code class=\"code\">bytes</code> in un oggetto <a href=\"https://docs.python.org/3/library/stdtypes.html#numeric-types-int-float-complex\" target=\"_blank\">int</a> è conveniente utilizzare la funzione <code class=\"code\">int.from_bytes(b, endianness)</code>, ove <code class=\"code\">b</code> è il nostro oggetto <code class=\"code\">bytes</code>, mentre <a href=\"https://it.wikipedia.org/wiki/Ordine_dei_byte\" target=\"_blank\">endianness</a> è una stringa <code class=\"code\">'big'</code> oppure <code class=\"code\">'little'</code> che sta ad indicare in che ordine devono essere letti i byte di <code class=\"code\">b</code>: rispettivamente da sinistra verso destra e viceversa.\n",
    "<br><br>\n",
    "Per convertire un intero <code class=\"code\">z</code> in bytes puoi usare invece la funzione <code class=\"code\">(z).to_bytes(n, endianness)</code>: <code class=\"code\">n</code> indica il numero di bytes da utilizzare per la conversione, seguendo l'ordine dato da <code class=\"code\">endianness</code>.\n",
    "<br><br>\n",
    "La flag di questa challenge è spezzata in due metà: decodifica la prima parte da <code class=\"code\">base64</code>, mentre per la seconda parte converti il numero dato (in <code class=\"code\">base10</code>) a <code class=\"code\">bytes</code>, in big endian.\n",
    "<br><br>\n",
    "<code class=\"code\">ZmxhZ3t3NDF0XzF0c19hbGxfYjE=</code></p>\n",
    "<p><code class=\"code\">664813035583918006462745898431981286737635929725</code></p></div></div><hr><div class=\"input-group\"><input placeholder=\"flag{...}\" type=\"text\" class=\"form-control\" value=\"flag{w41t_1ts_all_b1ts?_4lw4ys_H4s_b33n}\"><button type=\"button\" class=\"btn btn-success\">Submit <svg aria-hidden=\"true\" focusable=\"false\" data-prefix=\"fas\" data-icon=\"arrow-right\" class=\"svg-inline--fa fa-arrow-right fa-w-14 fa-fw \" role=\"img\" xmlns=\"http://www.w3.org/2000/svg\" viewBox=\"0 0 448 512\"><path fill=\"currentColor\" d=\"M190.5 66.9l22.2-22.2c9.4-9.4 24.6-9.4 33.9 0L441 239c9.4 9.4 9.4 24.6 0 33.9L246.6 467.3c-9.4 9.4-24.6 9.4-33.9 0l-22.2-22.2c-9.5-9.5-9.3-25 .4-34.3L311.4 296H24c-13.3 0-24-10.7-24-24v-32c0-13.3 10.7-24 24-24h287.4L190.9 101.2c-9.8-9.3-10-24.8-.4-34.3z\"></path></svg></button></div><div role=\"alert\" class=\"fade mt-3 w-100 alert alert-success show\"><svg aria-hidden=\"true\" focusable=\"false\" data-prefix=\"fas\" data-icon=\"check-circle\" class=\"svg-inline--fa fa-check-circle fa-w-16 fa-fw \" role=\"img\" xmlns=\"http://www.w3.org/2000/svg\" viewBox=\"0 0 512 512\"><path fill=\"currentColor\" d=\"M504 256c0 136.967-111.033 248-248 248S8 392.967 8 256 119.033 8 256 8s248 111.033 248 248zM227.314 387.314l184-184c6.248-6.248 6.248-16.379 0-22.627l-22.627-22.627c-6.248-6.249-16.379-6.249-22.628 0L216 308.118l-70.059-70.059c-6.248-6.248-16.379-6.248-22.628 0l-22.627 22.627c-6.248 6.248-6.248 16.379 0 22.627l104 104c6.249 6.249 16.379 6.249 22.628.001z\"></path></svg> Valid flag</div></div></div>"
   ]
  },
  {
   "cell_type": "code",
   "execution_count": 10,
   "id": "fabc6b10-f519-43a1-b9cf-2583962c5195",
   "metadata": {},
   "outputs": [
    {
     "name": "stdout",
     "output_type": "stream",
     "text": [
      "b'flag{w41t_1ts_all_b1ts?_4lw4ys_H4s_b33n}'\n"
     ]
    }
   ],
   "source": [
    "from base64 import b64decode\n",
    "import math\n",
    "\n",
    "f1 = b64decode('ZmxhZ3t3NDF0XzF0c19hbGxfYjE=')\n",
    "n = 664813035583918006462745898431981286737635929725\n",
    "f2 = (n).to_bytes(math.ceil(n.bit_length() / 8), \"big\")\n",
    "print (f1 + f2)\n"
   ]
  },
  {
   "cell_type": "markdown",
   "id": "8d803e4a-05ef-4d4d-8cbb-ca0bdb108c2a",
   "metadata": {},
   "source": [
    "<div class=\"modal-content\"><div class=\"modal-header\"><div class=\"text-center modal-title h4\">Crypto 04 - Xor 1</div><button type=\"button\" class=\"btn-close\" aria-label=\"Close\"></button></div><div class=\"modal-body\"><div class=\"text-center\"><span class=\"badge bg-primary\"><svg aria-hidden=\"true\" focusable=\"false\" data-prefix=\"fas\" data-icon=\"globe\" class=\"svg-inline--fa fa-globe fa-w-16 fa-fw \" role=\"img\" xmlns=\"http://www.w3.org/2000/svg\" viewBox=\"0 0 496 512\"><path fill=\"currentColor\" d=\"M336.5 160C322 70.7 287.8 8 248 8s-74 62.7-88.5 152h177zM152 256c0 22.2 1.2 43.5 3.3 64h185.3c2.1-20.5 3.3-41.8 3.3-64s-1.2-43.5-3.3-64H155.3c-2.1 20.5-3.3 41.8-3.3 64zm324.7-96c-28.6-67.9-86.5-120.4-158-141.6 24.4 33.8 41.2 84.7 50 141.6h108zM177.2 18.4C105.8 39.6 47.8 92.1 19.3 160h108c8.7-56.9 25.5-107.8 49.9-141.6zM487.4 192H372.7c2.1 21 3.3 42.5 3.3 64s-1.2 43-3.3 64h114.6c5.5-20.5 8.6-41.8 8.6-64s-3.1-43.5-8.5-64zM120 256c0-21.5 1.2-43 3.3-64H8.6C3.2 212.5 0 233.8 0 256s3.2 43.5 8.6 64h114.6c-2-21-3.2-42.5-3.2-64zm39.5 96c14.5 89.3 48.7 152 88.5 152s74-62.7 88.5-152h-177zm159.3 141.6c71.4-21.2 129.4-73.7 158-141.6h-108c-8.8 56.9-25.6 107.8-50 141.6zM19.3 352c28.6 67.9 86.5 120.4 158 141.6-24.4-33.8-41.2-84.7-50-141.6h-108z\"></path></svg> 159 <svg aria-hidden=\"true\" focusable=\"false\" data-prefix=\"fas\" data-icon=\"flag\" class=\"svg-inline--fa fa-flag fa-w-16 fa-fw \" role=\"img\" xmlns=\"http://www.w3.org/2000/svg\" viewBox=\"0 0 512 512\"><path fill=\"currentColor\" d=\"M349.565 98.783C295.978 98.783 251.721 64 184.348 64c-24.955 0-47.309 4.384-68.045 12.013a55.947 55.947 0 0 0 3.586-23.562C118.117 24.015 94.806 1.206 66.338.048 34.345-1.254 8 24.296 8 56c0 19.026 9.497 35.825 24 45.945V488c0 13.255 10.745 24 24 24h16c13.255 0 24-10.745 24-24v-94.4c28.311-12.064 63.582-22.122 114.435-22.122 53.588 0 97.844 34.783 165.217 34.783 48.169 0 86.667-16.294 122.505-40.858C506.84 359.452 512 349.571 512 339.045v-243.1c0-23.393-24.269-38.87-45.485-29.016-34.338 15.948-76.454 31.854-116.95 31.854z\"></path></svg></span> <span class=\"badge bg-danger\"><svg aria-hidden=\"true\" focusable=\"false\" data-prefix=\"fas\" data-icon=\"trophy\" class=\"svg-inline--fa fa-trophy fa-w-18 fa-fw \" role=\"img\" xmlns=\"http://www.w3.org/2000/svg\" viewBox=\"0 0 576 512\"><path fill=\"currentColor\" d=\"M552 64H448V24c0-13.3-10.7-24-24-24H152c-13.3 0-24 10.7-24 24v40H24C10.7 64 0 74.7 0 88v56c0 35.7 22.5 72.4 61.9 100.7 31.5 22.7 69.8 37.1 110 41.7C203.3 338.5 240 360 240 360v72h-48c-35.3 0-64 20.7-64 56v12c0 6.6 5.4 12 12 12h296c6.6 0 12-5.4 12-12v-12c0-35.3-28.7-56-64-56h-48v-72s36.7-21.5 68.1-73.6c40.3-4.6 78.6-19 110-41.7 39.3-28.3 61.9-65 61.9-100.7V88c0-13.3-10.7-24-24-24zM99.3 192.8C74.9 175.2 64 155.6 64 144v-16h64.2c1 32.6 5.8 61.2 12.8 86.2-15.1-5.2-29.2-12.4-41.7-21.4zM512 144c0 16.1-17.7 36.1-35.3 48.8-12.5 9-26.7 16.2-41.8 21.4 7-25 11.8-53.6 12.8-86.2H512v16z\"></path></svg> 50</span></div><div class=\"text-center mt-3\"><span><svg aria-hidden=\"true\" focusable=\"false\" data-prefix=\"fas\" data-icon=\"tags\" class=\"svg-inline--fa fa-tags fa-w-20 fa-fw d-inline-block\" role=\"img\" xmlns=\"http://www.w3.org/2000/svg\" viewBox=\"0 0 640 512\"><path fill=\"currentColor\" d=\"M497.941 225.941L286.059 14.059A48 48 0 0 0 252.118 0H48C21.49 0 0 21.49 0 48v204.118a48 48 0 0 0 14.059 33.941l211.882 211.882c18.744 18.745 49.136 18.746 67.882 0l204.118-204.118c18.745-18.745 18.745-49.137 0-67.882zM112 160c-26.51 0-48-21.49-48-48s21.49-48 48-48 48 21.49 48 48-21.49 48-48 48zm513.941 133.823L421.823 497.941c-18.745 18.745-49.137 18.745-67.882 0l-.36-.36L527.64 323.522c16.999-16.999 26.36-39.6 26.36-63.64s-9.362-46.641-26.36-63.64L331.397 0h48.721a48 48 0 0 1 33.941 14.059l211.882 211.882c18.745 18.745 18.745 49.137 0 67.882z\"></path></svg></span> <span class=\"badge text-dark bg-warning\">crypto</span> </div><div><div class=\"markdown bg-light p-3 mt-3\"><p>Un modo molto semplice ed efficace per offuscare un messaggio è utilizzare lo <a href=\"https://it.wikipedia.org/wiki/Disgiunzione_esclusiva\" target=\"_blank\">xor</a> con una chiave segreta.\n",
    "<br><br>\n",
    "La definizione riguarda variabili logiche (True/False), ma il concetto può essere velocemente esteso in maniera naturale a stringhe di bit: lo <code class=\"code\">xor</code> tra due sequenze binarie diventa dunque lo <code class=\"code\">xor</code> <em>bit a bit</em>.\n",
    "<br><br>\n",
    "Per esempio: <code class=\"code\">00110000 xor 01100001</code> → <code class=\"code\">01010001</code>.\n",
    "<br><br>\n",
    "In Python, lo <code class=\"code\">xor</code> tra due numeri interi è dato dall'operatore <code class=\"code\">^</code>. Per fare lo <code class=\"code\">xor</code> tra due stringhe, è necessario convertirle dapprima in <em>bytes</em>, per poi effettuare l'operazione byte per byte.\n",
    "<br><br>\n",
    "Una funzione in Python per fare lo <code class=\"code\">xor</code> tra due oggetti <em>bytes</em> può essere:</p>\n",
    "<pre><code class=\"code language-python\">def xor(a, b):\n",
    "    return bytes([x^y for x,y in zip(a,b)])\n",
    "</code></pre>\n",
    "<p>Per ottenere la flag di questa challenge, effettua lo xor di questi due messaggi: fai attenzione a decodificare correttamente da esadecimale a bytes!\n",
    "<br><br>\n",
    "<code class=\"code\">m1 = 158bbd7ca876c60530ee0e0bb2de20ef8af95bc60bdf</code></p>\n",
    "<p><code class=\"code\">m2 = 73e7dc1bd30ef6576f883e79edaa48dcd58e6aa82aa2</code></p></div></div><hr><div class=\"input-group\"><input placeholder=\"flag{...}\" type=\"text\" class=\"form-control\" value=\"flag{x0R_f0r_th3_w1n!}\"><button type=\"button\" class=\"btn btn-success\">Submit <svg aria-hidden=\"true\" focusable=\"false\" data-prefix=\"fas\" data-icon=\"arrow-right\" class=\"svg-inline--fa fa-arrow-right fa-w-14 fa-fw \" role=\"img\" xmlns=\"http://www.w3.org/2000/svg\" viewBox=\"0 0 448 512\"><path fill=\"currentColor\" d=\"M190.5 66.9l22.2-22.2c9.4-9.4 24.6-9.4 33.9 0L441 239c9.4 9.4 9.4 24.6 0 33.9L246.6 467.3c-9.4 9.4-24.6 9.4-33.9 0l-22.2-22.2c-9.5-9.5-9.3-25 .4-34.3L311.4 296H24c-13.3 0-24-10.7-24-24v-32c0-13.3 10.7-24 24-24h287.4L190.9 101.2c-9.8-9.3-10-24.8-.4-34.3z\"></path></svg></button></div></div></div>"
   ]
  },
  {
   "cell_type": "code",
   "execution_count": 5,
   "id": "2a1d83b9-dfd3-42b4-b460-f874ab46dad1",
   "metadata": {},
   "outputs": [
    {
     "data": {
      "text/plain": [
       "b'flag{x0R_f0r_th3_w1n!}'"
      ]
     },
     "execution_count": 5,
     "metadata": {},
     "output_type": "execute_result"
    }
   ],
   "source": [
    "def xor(a, b):\n",
    "    return bytes([x^y for x,y in zip(a,b)])\n",
    "\n",
    "m1 = bytes.fromhex('158bbd7ca876c60530ee0e0bb2de20ef8af95bc60bdf')\n",
    "m2 = bytes.fromhex('73e7dc1bd30ef6576f883e79edaa48dcd58e6aa82aa2')\n",
    "\n",
    "msg = xor(m1,m2)\n",
    "msg"
   ]
  },
  {
   "cell_type": "code",
   "execution_count": 8,
   "id": "b2bc2d0f-f07e-4135-8e8b-c65a39879a71",
   "metadata": {},
   "outputs": [
    {
     "name": "stdout",
     "output_type": "stream",
     "text": [
      "b'0n3_byt3_T0_ru1e_tH3m_4Ll'\n"
     ]
    }
   ],
   "source": [
    "def xor_with_a_byte(ct, b):\n",
    "    return bytes([x^b for x in ct])\n",
    "def printable(t):\n",
    "    p = True\n",
    "    for b in t:\n",
    "        if b < 32 or b > 127:\n",
    "            return False\n",
    "    return p\n",
    "\n",
    "ciphertext = bytes.fromhex('104e137f425954137f74107f525511457f5468134d7f146c4c')\n",
    "for k in range(1, 255):\n",
    "    plaintext = xor_with_a_byte(ciphertext, k)\n",
    "    if printable(plaintext):\n",
    "        print(plaintext)\n",
    "        break"
   ]
  },
  {
   "cell_type": "markdown",
   "id": "4120dbc2-24bd-4718-a2f7-8fe62c748ada",
   "metadata": {},
   "source": [
    "<div class=\"modal-content\"><div class=\"modal-header\"><div class=\"text-center modal-title h4\">Crypto 05 - Xor 2</div><button type=\"button\" class=\"btn-close\" aria-label=\"Close\"></button></div><div class=\"modal-body\"><div class=\"text-center\"><span class=\"badge bg-primary\"><svg aria-hidden=\"true\" focusable=\"false\" data-prefix=\"fas\" data-icon=\"globe\" class=\"svg-inline--fa fa-globe fa-w-16 fa-fw \" role=\"img\" xmlns=\"http://www.w3.org/2000/svg\" viewBox=\"0 0 496 512\"><path fill=\"currentColor\" d=\"M336.5 160C322 70.7 287.8 8 248 8s-74 62.7-88.5 152h177zM152 256c0 22.2 1.2 43.5 3.3 64h185.3c2.1-20.5 3.3-41.8 3.3-64s-1.2-43.5-3.3-64H155.3c-2.1 20.5-3.3 41.8-3.3 64zm324.7-96c-28.6-67.9-86.5-120.4-158-141.6 24.4 33.8 41.2 84.7 50 141.6h108zM177.2 18.4C105.8 39.6 47.8 92.1 19.3 160h108c8.7-56.9 25.5-107.8 49.9-141.6zM487.4 192H372.7c2.1 21 3.3 42.5 3.3 64s-1.2 43-3.3 64h114.6c5.5-20.5 8.6-41.8 8.6-64s-3.1-43.5-8.5-64zM120 256c0-21.5 1.2-43 3.3-64H8.6C3.2 212.5 0 233.8 0 256s3.2 43.5 8.6 64h114.6c-2-21-3.2-42.5-3.2-64zm39.5 96c14.5 89.3 48.7 152 88.5 152s74-62.7 88.5-152h-177zm159.3 141.6c71.4-21.2 129.4-73.7 158-141.6h-108c-8.8 56.9-25.6 107.8-50 141.6zM19.3 352c28.6 67.9 86.5 120.4 158 141.6-24.4-33.8-41.2-84.7-50-141.6h-108z\"></path></svg> 112 <svg aria-hidden=\"true\" focusable=\"false\" data-prefix=\"fas\" data-icon=\"flag\" class=\"svg-inline--fa fa-flag fa-w-16 fa-fw \" role=\"img\" xmlns=\"http://www.w3.org/2000/svg\" viewBox=\"0 0 512 512\"><path fill=\"currentColor\" d=\"M349.565 98.783C295.978 98.783 251.721 64 184.348 64c-24.955 0-47.309 4.384-68.045 12.013a55.947 55.947 0 0 0 3.586-23.562C118.117 24.015 94.806 1.206 66.338.048 34.345-1.254 8 24.296 8 56c0 19.026 9.497 35.825 24 45.945V488c0 13.255 10.745 24 24 24h16c13.255 0 24-10.745 24-24v-94.4c28.311-12.064 63.582-22.122 114.435-22.122 53.588 0 97.844 34.783 165.217 34.783 48.169 0 86.667-16.294 122.505-40.858C506.84 359.452 512 349.571 512 339.045v-243.1c0-23.393-24.269-38.87-45.485-29.016-34.338 15.948-76.454 31.854-116.95 31.854z\"></path></svg></span> <span class=\"badge bg-danger\"><svg aria-hidden=\"true\" focusable=\"false\" data-prefix=\"fas\" data-icon=\"trophy\" class=\"svg-inline--fa fa-trophy fa-w-18 fa-fw \" role=\"img\" xmlns=\"http://www.w3.org/2000/svg\" viewBox=\"0 0 576 512\"><path fill=\"currentColor\" d=\"M552 64H448V24c0-13.3-10.7-24-24-24H152c-13.3 0-24 10.7-24 24v40H24C10.7 64 0 74.7 0 88v56c0 35.7 22.5 72.4 61.9 100.7 31.5 22.7 69.8 37.1 110 41.7C203.3 338.5 240 360 240 360v72h-48c-35.3 0-64 20.7-64 56v12c0 6.6 5.4 12 12 12h296c6.6 0 12-5.4 12-12v-12c0-35.3-28.7-56-64-56h-48v-72s36.7-21.5 68.1-73.6c40.3-4.6 78.6-19 110-41.7 39.3-28.3 61.9-65 61.9-100.7V88c0-13.3-10.7-24-24-24zM99.3 192.8C74.9 175.2 64 155.6 64 144v-16h64.2c1 32.6 5.8 61.2 12.8 86.2-15.1-5.2-29.2-12.4-41.7-21.4zM512 144c0 16.1-17.7 36.1-35.3 48.8-12.5 9-26.7 16.2-41.8 21.4 7-25 11.8-53.6 12.8-86.2H512v16z\"></path></svg> 50</span></div><div class=\"text-center mt-3\"><span><svg aria-hidden=\"true\" focusable=\"false\" data-prefix=\"fas\" data-icon=\"tags\" class=\"svg-inline--fa fa-tags fa-w-20 fa-fw d-inline-block\" role=\"img\" xmlns=\"http://www.w3.org/2000/svg\" viewBox=\"0 0 640 512\"><path fill=\"currentColor\" d=\"M497.941 225.941L286.059 14.059A48 48 0 0 0 252.118 0H48C21.49 0 0 21.49 0 48v204.118a48 48 0 0 0 14.059 33.941l211.882 211.882c18.744 18.745 49.136 18.746 67.882 0l204.118-204.118c18.745-18.745 18.745-49.137 0-67.882zM112 160c-26.51 0-48-21.49-48-48s21.49-48 48-48 48 21.49 48 48-21.49 48-48 48zm513.941 133.823L421.823 497.941c-18.745 18.745-49.137 18.745-67.882 0l-.36-.36L527.64 323.522c16.999-16.999 26.36-39.6 26.36-63.64s-9.362-46.641-26.36-63.64L331.397 0h48.721a48 48 0 0 1 33.941 14.059l211.882 211.882c18.745 18.745 18.745 49.137 0 67.882z\"></path></svg></span> <span class=\"badge text-dark bg-warning\">crypto</span> </div><div><div class=\"markdown bg-light p-3 mt-3\"><p>Il metodo di cifratura utilizzato nella challenge precedente è detto <code class=\"code\">One Time Pad</code>.\n",
    "<br><br>\n",
    "Un dettaglio fondamentale per ottenere <strong>sicurezza perfetta</strong> è che la <code class=\"code\">chiave</code> sia <strong>lunga tanto quanto</strong> il messaggio.\n",
    "<br><br>\n",
    "Nel caso in cui la chiave sia molto corta (e ripetuta, per esempio) potrebbe essere possibile un attacco a forza bruta: provare tutte le chiavi candidate e vedere per quale si ottiene un risultato sensato.\n",
    "<br><br>\n",
    "In questa challenge la chiave utilizzata è lunga un solo byte. Trova il modo di decifrare il messaggio.\n",
    "<br><br>\n",
    "Nota Bene: il testo in chiaro <strong>non</strong> comincia con l'usuale <code class=\"code\">flag{</code> e <strong>non</strong> finisce con <code class=\"code\">}</code>!\n",
    "<br><br>\n",
    "<code class=\"code\">ciphertext = 104e137f425954137f74107f525511457f5468134d7f146c4c</code>\n",
    "<br><br>\n",
    "La flag è <code class=\"code\">'flag{' + plaintext + '}'</code>.</p></div></div><hr><div class=\"input-group\"><input placeholder=\"flag{...}\" type=\"text\" class=\"form-control\" value=\"flag{0n3_byt3_T0_ru1e_tH3m_4Ll}\"><button type=\"button\" class=\"btn btn-success\">Submit <svg aria-hidden=\"true\" focusable=\"false\" data-prefix=\"fas\" data-icon=\"arrow-right\" class=\"svg-inline--fa fa-arrow-right fa-w-14 fa-fw \" role=\"img\" xmlns=\"http://www.w3.org/2000/svg\" viewBox=\"0 0 448 512\"><path fill=\"currentColor\" d=\"M190.5 66.9l22.2-22.2c9.4-9.4 24.6-9.4 33.9 0L441 239c9.4 9.4 9.4 24.6 0 33.9L246.6 467.3c-9.4 9.4-24.6 9.4-33.9 0l-22.2-22.2c-9.5-9.5-9.3-25 .4-34.3L311.4 296H24c-13.3 0-24-10.7-24-24v-32c0-13.3 10.7-24 24-24h287.4L190.9 101.2c-9.8-9.3-10-24.8-.4-34.3z\"></path></svg></button></div><div role=\"alert\" class=\"fade mt-3 w-100 alert alert-success show\"><svg aria-hidden=\"true\" focusable=\"false\" data-prefix=\"fas\" data-icon=\"check-circle\" class=\"svg-inline--fa fa-check-circle fa-w-16 fa-fw \" role=\"img\" xmlns=\"http://www.w3.org/2000/svg\" viewBox=\"0 0 512 512\"><path fill=\"currentColor\" d=\"M504 256c0 136.967-111.033 248-248 248S8 392.967 8 256 119.033 8 256 8s248 111.033 248 248zM227.314 387.314l184-184c6.248-6.248 6.248-16.379 0-22.627l-22.627-22.627c-6.248-6.249-16.379-6.249-22.628 0L216 308.118l-70.059-70.059c-6.248-6.248-16.379-6.248-22.628 0l-22.627 22.627c-6.248 6.248-6.248 16.379 0 22.627l104 104c6.249 6.249 16.379 6.249 22.628.001z\"></path></svg> Valid flag</div></div></div>"
   ]
  },
  {
   "cell_type": "markdown",
   "id": "cf99f875-056d-4fb6-8569-5f39f64e9603",
   "metadata": {},
   "source": [
    "<div class=\"modal-content\"><div class=\"modal-header\"><div class=\"text-center modal-title h4\">Crypto 06 - One more Time Please</div><button type=\"button\" class=\"btn-close\" aria-label=\"Close\"></button></div><div class=\"modal-body\"><div class=\"text-center\"><span class=\"badge bg-primary\"><svg aria-hidden=\"true\" focusable=\"false\" data-prefix=\"fas\" data-icon=\"globe\" class=\"svg-inline--fa fa-globe fa-w-16 fa-fw \" role=\"img\" xmlns=\"http://www.w3.org/2000/svg\" viewBox=\"0 0 496 512\"><path fill=\"currentColor\" d=\"M336.5 160C322 70.7 287.8 8 248 8s-74 62.7-88.5 152h177zM152 256c0 22.2 1.2 43.5 3.3 64h185.3c2.1-20.5 3.3-41.8 3.3-64s-1.2-43.5-3.3-64H155.3c-2.1 20.5-3.3 41.8-3.3 64zm324.7-96c-28.6-67.9-86.5-120.4-158-141.6 24.4 33.8 41.2 84.7 50 141.6h108zM177.2 18.4C105.8 39.6 47.8 92.1 19.3 160h108c8.7-56.9 25.5-107.8 49.9-141.6zM487.4 192H372.7c2.1 21 3.3 42.5 3.3 64s-1.2 43-3.3 64h114.6c5.5-20.5 8.6-41.8 8.6-64s-3.1-43.5-8.5-64zM120 256c0-21.5 1.2-43 3.3-64H8.6C3.2 212.5 0 233.8 0 256s3.2 43.5 8.6 64h114.6c-2-21-3.2-42.5-3.2-64zm39.5 96c14.5 89.3 48.7 152 88.5 152s74-62.7 88.5-152h-177zm159.3 141.6c71.4-21.2 129.4-73.7 158-141.6h-108c-8.8 56.9-25.6 107.8-50 141.6zM19.3 352c28.6 67.9 86.5 120.4 158 141.6-24.4-33.8-41.2-84.7-50-141.6h-108z\"></path></svg> 94 <svg aria-hidden=\"true\" focusable=\"false\" data-prefix=\"fas\" data-icon=\"flag\" class=\"svg-inline--fa fa-flag fa-w-16 fa-fw \" role=\"img\" xmlns=\"http://www.w3.org/2000/svg\" viewBox=\"0 0 512 512\"><path fill=\"currentColor\" d=\"M349.565 98.783C295.978 98.783 251.721 64 184.348 64c-24.955 0-47.309 4.384-68.045 12.013a55.947 55.947 0 0 0 3.586-23.562C118.117 24.015 94.806 1.206 66.338.048 34.345-1.254 8 24.296 8 56c0 19.026 9.497 35.825 24 45.945V488c0 13.255 10.745 24 24 24h16c13.255 0 24-10.745 24-24v-94.4c28.311-12.064 63.582-22.122 114.435-22.122 53.588 0 97.844 34.783 165.217 34.783 48.169 0 86.667-16.294 122.505-40.858C506.84 359.452 512 349.571 512 339.045v-243.1c0-23.393-24.269-38.87-45.485-29.016-34.338 15.948-76.454 31.854-116.95 31.854z\"></path></svg></span> <span class=\"badge bg-danger\"><svg aria-hidden=\"true\" focusable=\"false\" data-prefix=\"fas\" data-icon=\"trophy\" class=\"svg-inline--fa fa-trophy fa-w-18 fa-fw \" role=\"img\" xmlns=\"http://www.w3.org/2000/svg\" viewBox=\"0 0 576 512\"><path fill=\"currentColor\" d=\"M552 64H448V24c0-13.3-10.7-24-24-24H152c-13.3 0-24 10.7-24 24v40H24C10.7 64 0 74.7 0 88v56c0 35.7 22.5 72.4 61.9 100.7 31.5 22.7 69.8 37.1 110 41.7C203.3 338.5 240 360 240 360v72h-48c-35.3 0-64 20.7-64 56v12c0 6.6 5.4 12 12 12h296c6.6 0 12-5.4 12-12v-12c0-35.3-28.7-56-64-56h-48v-72s36.7-21.5 68.1-73.6c40.3-4.6 78.6-19 110-41.7 39.3-28.3 61.9-65 61.9-100.7V88c0-13.3-10.7-24-24-24zM99.3 192.8C74.9 175.2 64 155.6 64 144v-16h64.2c1 32.6 5.8 61.2 12.8 86.2-15.1-5.2-29.2-12.4-41.7-21.4zM512 144c0 16.1-17.7 36.1-35.3 48.8-12.5 9-26.7 16.2-41.8 21.4 7-25 11.8-53.6 12.8-86.2H512v16z\"></path></svg> 50</span></div><div class=\"text-center mt-3\"><span><svg aria-hidden=\"true\" focusable=\"false\" data-prefix=\"fas\" data-icon=\"tags\" class=\"svg-inline--fa fa-tags fa-w-20 fa-fw d-inline-block\" role=\"img\" xmlns=\"http://www.w3.org/2000/svg\" viewBox=\"0 0 640 512\"><path fill=\"currentColor\" d=\"M497.941 225.941L286.059 14.059A48 48 0 0 0 252.118 0H48C21.49 0 0 21.49 0 48v204.118a48 48 0 0 0 14.059 33.941l211.882 211.882c18.744 18.745 49.136 18.746 67.882 0l204.118-204.118c18.745-18.745 18.745-49.137 0-67.882zM112 160c-26.51 0-48-21.49-48-48s21.49-48 48-48 48 21.49 48 48-21.49 48-48 48zm513.941 133.823L421.823 497.941c-18.745 18.745-49.137 18.745-67.882 0l-.36-.36L527.64 323.522c16.999-16.999 26.36-39.6 26.36-63.64s-9.362-46.641-26.36-63.64L331.397 0h48.721a48 48 0 0 1 33.941 14.059l211.882 211.882c18.745 18.745 18.745 49.137 0 67.882z\"></path></svg></span> <span class=\"badge text-dark bg-warning\">crypto</span> </div><div><div class=\"markdown bg-light p-3 mt-3\"><p>Utilizzando il <a href=\"https://it.wikipedia.org/wiki/Cifrario_di_Vernam\" target=\"_blank\">cifrario di Vernam</a> si ottiene <strong>segretezza perfetta</strong>.\n",
    "<br><br>\n",
    "Intuitivamente, anche attaccando a forza bruta la chiave si ottengono <em>tutti i testi in chiaro possibili</em> di quella lunghezza: non è possibile dunque distinguere quello corretto dagli altri (non si è guadagnata informazione).\n",
    "<br><br>\n",
    "Un principio fondamentale in questi metodi di cifratura (detti non a caso <code class=\"code\">One Time Pad (OTP)</code>) è quello di <strong>non riutilizzare mai</strong> una chiave più di una volta.\n",
    "<br><br>\n",
    "Nel caso del riutilizzo della chiave si introducono debolezze: conoscendo qualcosa di uno dei messaggi, è possibile decifrarli senza avere informazioni sulla chiave.\n",
    "<br><br>\n",
    "Nel caso di utilizzo dello <code class=\"code\">xor</code> come operazione, esistono alcuni tool molto comodi per questo tipo di attacco (chiamato <code class=\"code\">crib drag</code>); ad esempio <a href=\"https://github.com/CameronLonsdale/MTP\" target=\"_blank\">MTP</a>.</p></div></div><hr><div><h5 class=\"text-center\"><svg aria-hidden=\"true\" focusable=\"false\" data-prefix=\"fas\" data-icon=\"file\" class=\"svg-inline--fa fa-file fa-w-12 fa-fw \" role=\"img\" xmlns=\"http://www.w3.org/2000/svg\" viewBox=\"0 0 384 512\"><path fill=\"currentColor\" d=\"M224 136V0H24C10.7 0 0 10.7 0 24v464c0 13.3 10.7 24 24 24h336c13.3 0 24-10.7 24-24V160H248c-13.2 0-24-10.8-24-24zm160-14.1v6.1H256V0h6.1c6.4 0 12.5 2.5 17 7l97.9 98c4.5 4.5 7 10.6 7 16.9z\"></path></svg> Attachments</h5><div class=\"mt-2\"><a href=\"/api/file/8e1b5aa3-f41a-4df3-b14e-66f92a58dbee/output.txt?download\" target=\"_blank\" rel=\"noopener noreferrer\"><button type=\"button\" class=\"btn btn-primary\"><svg aria-hidden=\"true\" focusable=\"false\" data-prefix=\"fas\" data-icon=\"download\" class=\"svg-inline--fa fa-download fa-w-16 fa-fw \" role=\"img\" xmlns=\"http://www.w3.org/2000/svg\" viewBox=\"0 0 512 512\"><path fill=\"currentColor\" d=\"M216 0h80c13.3 0 24 10.7 24 24v168h87.7c17.8 0 26.7 21.5 14.1 34.1L269.7 378.3c-7.5 7.5-19.8 7.5-27.3 0L90.1 226.1c-12.6-12.6-3.7-34.1 14.1-34.1H192V24c0-13.3 10.7-24 24-24zm296 376v112c0 13.3-10.7 24-24 24H24c-13.3 0-24-10.7-24-24V376c0-13.3 10.7-24 24-24h146.7l49 49c20.1 20.1 52.5 20.1 72.6 0l49-49H488c13.3 0 24 10.7 24 24zm-124 88c0-11-9-20-20-20s-20 9-20 20 9 20 20 20 20-9 20-20zm64 0c0-11-9-20-20-20s-20 9-20 20 9 20 20 20 20-9 20-20z\"></path></svg> output.txt</button> </a></div></div><hr><div class=\"input-group\"><input placeholder=\"flag{...}\" type=\"text\" class=\"form-control\" value=\"flag{M4ny_71m3_P4D_N1gH7m4r3}\"><button type=\"button\" class=\"btn btn-success\">Submit <svg aria-hidden=\"true\" focusable=\"false\" data-prefix=\"fas\" data-icon=\"arrow-right\" class=\"svg-inline--fa fa-arrow-right fa-w-14 fa-fw \" role=\"img\" xmlns=\"http://www.w3.org/2000/svg\" viewBox=\"0 0 448 512\"><path fill=\"currentColor\" d=\"M190.5 66.9l22.2-22.2c9.4-9.4 24.6-9.4 33.9 0L441 239c9.4 9.4 9.4 24.6 0 33.9L246.6 467.3c-9.4 9.4-24.6 9.4-33.9 0l-22.2-22.2c-9.5-9.5-9.3-25 .4-34.3L311.4 296H24c-13.3 0-24-10.7-24-24v-32c0-13.3 10.7-24 24-24h287.4L190.9 101.2c-9.8-9.3-10-24.8-.4-34.3z\"></path></svg></button></div><div role=\"alert\" class=\"fade mt-3 w-100 alert alert-success show\"><svg aria-hidden=\"true\" focusable=\"false\" data-prefix=\"fas\" data-icon=\"check-circle\" class=\"svg-inline--fa fa-check-circle fa-w-16 fa-fw \" role=\"img\" xmlns=\"http://www.w3.org/2000/svg\" viewBox=\"0 0 512 512\"><path fill=\"currentColor\" d=\"M504 256c0 136.967-111.033 248-248 248S8 392.967 8 256 119.033 8 256 8s248 111.033 248 248zM227.314 387.314l184-184c6.248-6.248 6.248-16.379 0-22.627l-22.627-22.627c-6.248-6.249-16.379-6.249-22.628 0L216 308.118l-70.059-70.059c-6.248-6.248-16.379-6.248-22.628 0l-22.627 22.627c-6.248 6.248-6.248 16.379 0 22.627l104 104c6.249 6.249 16.379 6.249 22.628.001z\"></path></svg> Valid flag</div></div></div>"
   ]
  },
  {
   "cell_type": "raw",
   "id": "ffd8fd76-0a19-44e1-98ae-5ee2e54e1fbf",
   "metadata": {},
   "source": [
    "MTP\n",
    "\n",
    "{\"decryptions\": [\"IL CRITTOSISTEMA CHE STO UTILIZZANDO SEMBRA INDISTRUTTIBILE\", \"NON LEGGERAI MAI QUESTA SEGRETISSIMA FRASE\", \"LA MIA PREZIOSA FLAG: flag{M4ny_71m3_P4D_N1gH7m4r3}\", \"I MIEI AMICI CONTINUANO A DIRMI CHE NON DOVREI UTILIZZARE PIU DI UNA VOLTA LA STESSA\", \"SONO SICURO CHE NON CI SARANNO PROBLEMI, I MIEI AMICI SI SBAGLIANO DI CERTO\", \"HO AVUTO UNA BELLISSIMA IDEA PER RISOLVERE IL PROBLEMA DEL RISCALDAMENTO GLOBALE\", \"POTREMMO LASCIARE TUTTI I FRIGORIFERI APERTI PER QUALCHE ANNO\", \"QUANDO HO PARLATO DELLA MIA IDEA AI MIEI AMICI SONO SCOPPIATI A RIDERE...\", \"INVIERO SUBITO UNA LETTERA A STEPHEN HAWKING, LUI APPREZZERA SICURAMENTE LA MIA IDEA\"], \"key\": \"78b5c753b08f9bf8ea76a8ee822d227b9adaa02903eef84a35f992fd6b5b0b8548a45f6796841a3453ac594a90d5b4d9ed4b34bdbbced8221c70322916d3ca31c1256a12df06c5982d63bf1fdf302c6bb30b0f3a\"}"
   ]
  },
  {
   "cell_type": "code",
   "execution_count": null,
   "id": "cb687601-eeec-44a8-b73b-a58e907bde56",
   "metadata": {},
   "outputs": [],
   "source": []
  },
  {
   "cell_type": "markdown",
   "id": "f76ed9c2-7465-4497-9895-8717210a26b6",
   "metadata": {},
   "source": [
    "<div class=\"modal-content\"><div class=\"modal-header\"><div class=\"text-center modal-title h4\">Crypto 08 - Congruenze Modulari</div><button type=\"button\" class=\"btn-close\" aria-label=\"Close\"></button></div><div class=\"modal-body\"><div class=\"text-center\"><span class=\"badge bg-primary\"><svg aria-hidden=\"true\" focusable=\"false\" data-prefix=\"fas\" data-icon=\"globe\" class=\"svg-inline--fa fa-globe fa-w-16 fa-fw \" role=\"img\" xmlns=\"http://www.w3.org/2000/svg\" viewBox=\"0 0 496 512\"><path fill=\"currentColor\" d=\"M336.5 160C322 70.7 287.8 8 248 8s-74 62.7-88.5 152h177zM152 256c0 22.2 1.2 43.5 3.3 64h185.3c2.1-20.5 3.3-41.8 3.3-64s-1.2-43.5-3.3-64H155.3c-2.1 20.5-3.3 41.8-3.3 64zm324.7-96c-28.6-67.9-86.5-120.4-158-141.6 24.4 33.8 41.2 84.7 50 141.6h108zM177.2 18.4C105.8 39.6 47.8 92.1 19.3 160h108c8.7-56.9 25.5-107.8 49.9-141.6zM487.4 192H372.7c2.1 21 3.3 42.5 3.3 64s-1.2 43-3.3 64h114.6c5.5-20.5 8.6-41.8 8.6-64s-3.1-43.5-8.5-64zM120 256c0-21.5 1.2-43 3.3-64H8.6C3.2 212.5 0 233.8 0 256s3.2 43.5 8.6 64h114.6c-2-21-3.2-42.5-3.2-64zm39.5 96c14.5 89.3 48.7 152 88.5 152s74-62.7 88.5-152h-177zm159.3 141.6c71.4-21.2 129.4-73.7 158-141.6h-108c-8.8 56.9-25.6 107.8-50 141.6zM19.3 352c28.6 67.9 86.5 120.4 158 141.6-24.4-33.8-41.2-84.7-50-141.6h-108z\"></path></svg> 87 <svg aria-hidden=\"true\" focusable=\"false\" data-prefix=\"fas\" data-icon=\"flag\" class=\"svg-inline--fa fa-flag fa-w-16 fa-fw \" role=\"img\" xmlns=\"http://www.w3.org/2000/svg\" viewBox=\"0 0 512 512\"><path fill=\"currentColor\" d=\"M349.565 98.783C295.978 98.783 251.721 64 184.348 64c-24.955 0-47.309 4.384-68.045 12.013a55.947 55.947 0 0 0 3.586-23.562C118.117 24.015 94.806 1.206 66.338.048 34.345-1.254 8 24.296 8 56c0 19.026 9.497 35.825 24 45.945V488c0 13.255 10.745 24 24 24h16c13.255 0 24-10.745 24-24v-94.4c28.311-12.064 63.582-22.122 114.435-22.122 53.588 0 97.844 34.783 165.217 34.783 48.169 0 86.667-16.294 122.505-40.858C506.84 359.452 512 349.571 512 339.045v-243.1c0-23.393-24.269-38.87-45.485-29.016-34.338 15.948-76.454 31.854-116.95 31.854z\"></path></svg></span> <span class=\"badge bg-danger\"><svg aria-hidden=\"true\" focusable=\"false\" data-prefix=\"fas\" data-icon=\"trophy\" class=\"svg-inline--fa fa-trophy fa-w-18 fa-fw \" role=\"img\" xmlns=\"http://www.w3.org/2000/svg\" viewBox=\"0 0 576 512\"><path fill=\"currentColor\" d=\"M552 64H448V24c0-13.3-10.7-24-24-24H152c-13.3 0-24 10.7-24 24v40H24C10.7 64 0 74.7 0 88v56c0 35.7 22.5 72.4 61.9 100.7 31.5 22.7 69.8 37.1 110 41.7C203.3 338.5 240 360 240 360v72h-48c-35.3 0-64 20.7-64 56v12c0 6.6 5.4 12 12 12h296c6.6 0 12-5.4 12-12v-12c0-35.3-28.7-56-64-56h-48v-72s36.7-21.5 68.1-73.6c40.3-4.6 78.6-19 110-41.7 39.3-28.3 61.9-65 61.9-100.7V88c0-13.3-10.7-24-24-24zM99.3 192.8C74.9 175.2 64 155.6 64 144v-16h64.2c1 32.6 5.8 61.2 12.8 86.2-15.1-5.2-29.2-12.4-41.7-21.4zM512 144c0 16.1-17.7 36.1-35.3 48.8-12.5 9-26.7 16.2-41.8 21.4 7-25 11.8-53.6 12.8-86.2H512v16z\"></path></svg> 50</span></div><div class=\"text-center mt-3\"><span><svg aria-hidden=\"true\" focusable=\"false\" data-prefix=\"fas\" data-icon=\"tags\" class=\"svg-inline--fa fa-tags fa-w-20 fa-fw d-inline-block\" role=\"img\" xmlns=\"http://www.w3.org/2000/svg\" viewBox=\"0 0 640 512\"><path fill=\"currentColor\" d=\"M497.941 225.941L286.059 14.059A48 48 0 0 0 252.118 0H48C21.49 0 0 21.49 0 48v204.118a48 48 0 0 0 14.059 33.941l211.882 211.882c18.744 18.745 49.136 18.746 67.882 0l204.118-204.118c18.745-18.745 18.745-49.137 0-67.882zM112 160c-26.51 0-48-21.49-48-48s21.49-48 48-48 48 21.49 48 48-21.49 48-48 48zm513.941 133.823L421.823 497.941c-18.745 18.745-49.137 18.745-67.882 0l-.36-.36L527.64 323.522c16.999-16.999 26.36-39.6 26.36-63.64s-9.362-46.641-26.36-63.64L331.397 0h48.721a48 48 0 0 1 33.941 14.059l211.882 211.882c18.745 18.745 18.745 49.137 0 67.882z\"></path></svg></span> <span class=\"badge text-dark bg-warning\">crypto</span> </div><div><div class=\"markdown bg-light p-3 mt-3\"><p>Come ormai potrai aver intuito, la crittografia fa un ampio uso di strumenti matematici (che possono anche diventare molto astratti e complessi).\n",
    "<br><br>\n",
    "Le branche della matematica che hanno a che fare con il discreto (insiemi finiti di \"cose\") si rivelano particolarmente utili: ad esempio, si è in grado di presentare con formulazioni relativamente semplici problemi difficili da risolvere a meno di conoscere qualcosa in più (chiave), lavorando con numeri interi.\n",
    "<br><br>\n",
    "È dunque fondamentale cominciare a conoscere uno dei più semplici di questi strumenti: le <a href=\"https://it.wikipedia.org/wiki/Aritmetica_modulare\" target=\"_blank\">congruenze modulari</a>.\n",
    "<br><br>\n",
    "Puoi collegarti al servizio remoto con:</p>\n",
    "<p><code class=\"code\">nc crypto-08.challs.olicyber.it 30001</code></p></div></div><hr><div class=\"input-group\"><input placeholder=\"flag{...}\" type=\"text\" class=\"form-control\" value=\"flag{t1ck_t0ck_M4th_1s_0n_th3_Cl0cK}\"><button type=\"button\" class=\"btn btn-success\">Submit <svg aria-hidden=\"true\" focusable=\"false\" data-prefix=\"fas\" data-icon=\"arrow-right\" class=\"svg-inline--fa fa-arrow-right fa-w-14 fa-fw \" role=\"img\" xmlns=\"http://www.w3.org/2000/svg\" viewBox=\"0 0 448 512\"><path fill=\"currentColor\" d=\"M190.5 66.9l22.2-22.2c9.4-9.4 24.6-9.4 33.9 0L441 239c9.4 9.4 9.4 24.6 0 33.9L246.6 467.3c-9.4 9.4-24.6 9.4-33.9 0l-22.2-22.2c-9.5-9.5-9.3-25 .4-34.3L311.4 296H24c-13.3 0-24-10.7-24-24v-32c0-13.3 10.7-24 24-24h287.4L190.9 101.2c-9.8-9.3-10-24.8-.4-34.3z\"></path></svg></button></div><div role=\"alert\" class=\"fade mt-3 w-100 alert alert-success show\"><svg aria-hidden=\"true\" focusable=\"false\" data-prefix=\"fas\" data-icon=\"check-circle\" class=\"svg-inline--fa fa-check-circle fa-w-16 fa-fw \" role=\"img\" xmlns=\"http://www.w3.org/2000/svg\" viewBox=\"0 0 512 512\"><path fill=\"currentColor\" d=\"M504 256c0 136.967-111.033 248-248 248S8 392.967 8 256 119.033 8 256 8s248 111.033 248 248zM227.314 387.314l184-184c6.248-6.248 6.248-16.379 0-22.627l-22.627-22.627c-6.248-6.249-16.379-6.249-22.628 0L216 308.118l-70.059-70.059c-6.248-6.248-16.379-6.248-22.628 0l-22.627 22.627c-6.248 6.248-6.248 16.379 0 22.627l104 104c6.249 6.249 16.379 6.249 22.628.001z\"></path></svg> Valid flag</div></div></div>"
   ]
  },
  {
   "cell_type": "markdown",
   "id": "8bc40909-cffe-4b5f-95cd-9b6d4b6fe21c",
   "metadata": {},
   "source": [
    "<div class=\"modal-content\"><div class=\"modal-header\"><div class=\"text-center modal-title h4\">Crypto 09 - Inverso Modulare</div><button type=\"button\" class=\"btn-close\" aria-label=\"Close\"></button></div><div class=\"modal-body\"><div class=\"text-center\"><span class=\"badge bg-primary\"><svg aria-hidden=\"true\" focusable=\"false\" data-prefix=\"fas\" data-icon=\"globe\" class=\"svg-inline--fa fa-globe fa-w-16 fa-fw \" role=\"img\" xmlns=\"http://www.w3.org/2000/svg\" viewBox=\"0 0 496 512\"><path fill=\"currentColor\" d=\"M336.5 160C322 70.7 287.8 8 248 8s-74 62.7-88.5 152h177zM152 256c0 22.2 1.2 43.5 3.3 64h185.3c2.1-20.5 3.3-41.8 3.3-64s-1.2-43.5-3.3-64H155.3c-2.1 20.5-3.3 41.8-3.3 64zm324.7-96c-28.6-67.9-86.5-120.4-158-141.6 24.4 33.8 41.2 84.7 50 141.6h108zM177.2 18.4C105.8 39.6 47.8 92.1 19.3 160h108c8.7-56.9 25.5-107.8 49.9-141.6zM487.4 192H372.7c2.1 21 3.3 42.5 3.3 64s-1.2 43-3.3 64h114.6c5.5-20.5 8.6-41.8 8.6-64s-3.1-43.5-8.5-64zM120 256c0-21.5 1.2-43 3.3-64H8.6C3.2 212.5 0 233.8 0 256s3.2 43.5 8.6 64h114.6c-2-21-3.2-42.5-3.2-64zm39.5 96c14.5 89.3 48.7 152 88.5 152s74-62.7 88.5-152h-177zm159.3 141.6c71.4-21.2 129.4-73.7 158-141.6h-108c-8.8 56.9-25.6 107.8-50 141.6zM19.3 352c28.6 67.9 86.5 120.4 158 141.6-24.4-33.8-41.2-84.7-50-141.6h-108z\"></path></svg> 56 <svg aria-hidden=\"true\" focusable=\"false\" data-prefix=\"fas\" data-icon=\"flag\" class=\"svg-inline--fa fa-flag fa-w-16 fa-fw \" role=\"img\" xmlns=\"http://www.w3.org/2000/svg\" viewBox=\"0 0 512 512\"><path fill=\"currentColor\" d=\"M349.565 98.783C295.978 98.783 251.721 64 184.348 64c-24.955 0-47.309 4.384-68.045 12.013a55.947 55.947 0 0 0 3.586-23.562C118.117 24.015 94.806 1.206 66.338.048 34.345-1.254 8 24.296 8 56c0 19.026 9.497 35.825 24 45.945V488c0 13.255 10.745 24 24 24h16c13.255 0 24-10.745 24-24v-94.4c28.311-12.064 63.582-22.122 114.435-22.122 53.588 0 97.844 34.783 165.217 34.783 48.169 0 86.667-16.294 122.505-40.858C506.84 359.452 512 349.571 512 339.045v-243.1c0-23.393-24.269-38.87-45.485-29.016-34.338 15.948-76.454 31.854-116.95 31.854z\"></path></svg></span> <span class=\"badge bg-danger\"><svg aria-hidden=\"true\" focusable=\"false\" data-prefix=\"fas\" data-icon=\"trophy\" class=\"svg-inline--fa fa-trophy fa-w-18 fa-fw \" role=\"img\" xmlns=\"http://www.w3.org/2000/svg\" viewBox=\"0 0 576 512\"><path fill=\"currentColor\" d=\"M552 64H448V24c0-13.3-10.7-24-24-24H152c-13.3 0-24 10.7-24 24v40H24C10.7 64 0 74.7 0 88v56c0 35.7 22.5 72.4 61.9 100.7 31.5 22.7 69.8 37.1 110 41.7C203.3 338.5 240 360 240 360v72h-48c-35.3 0-64 20.7-64 56v12c0 6.6 5.4 12 12 12h296c6.6 0 12-5.4 12-12v-12c0-35.3-28.7-56-64-56h-48v-72s36.7-21.5 68.1-73.6c40.3-4.6 78.6-19 110-41.7 39.3-28.3 61.9-65 61.9-100.7V88c0-13.3-10.7-24-24-24zM99.3 192.8C74.9 175.2 64 155.6 64 144v-16h64.2c1 32.6 5.8 61.2 12.8 86.2-15.1-5.2-29.2-12.4-41.7-21.4zM512 144c0 16.1-17.7 36.1-35.3 48.8-12.5 9-26.7 16.2-41.8 21.4 7-25 11.8-53.6 12.8-86.2H512v16z\"></path></svg> 50</span></div><div class=\"text-center mt-3\"><span><svg aria-hidden=\"true\" focusable=\"false\" data-prefix=\"fas\" data-icon=\"tags\" class=\"svg-inline--fa fa-tags fa-w-20 fa-fw d-inline-block\" role=\"img\" xmlns=\"http://www.w3.org/2000/svg\" viewBox=\"0 0 640 512\"><path fill=\"currentColor\" d=\"M497.941 225.941L286.059 14.059A48 48 0 0 0 252.118 0H48C21.49 0 0 21.49 0 48v204.118a48 48 0 0 0 14.059 33.941l211.882 211.882c18.744 18.745 49.136 18.746 67.882 0l204.118-204.118c18.745-18.745 18.745-49.137 0-67.882zM112 160c-26.51 0-48-21.49-48-48s21.49-48 48-48 48 21.49 48 48-21.49 48-48 48zm513.941 133.823L421.823 497.941c-18.745 18.745-49.137 18.745-67.882 0l-.36-.36L527.64 323.522c16.999-16.999 26.36-39.6 26.36-63.64s-9.362-46.641-26.36-63.64L331.397 0h48.721a48 48 0 0 1 33.941 14.059l211.882 211.882c18.745 18.745 18.745 49.137 0 67.882z\"></path></svg></span> <span class=\"badge text-dark bg-warning\">crypto</span> </div><div><div class=\"markdown bg-light p-3 mt-3\"><p>L'aritmetica dei numeri interi modulo <code class=\"code\">n</code> è in molti punti differente da quella usuale sui numeri interi (o naturali, razionali, reali).\n",
    "<br><br>\n",
    "A parte il dover prendere il resto della divisione dei risultati delle tue operazioni per il modulo, una distinzione cruciale da comprendere è cosa significhi calcolare l'<a href=\"https://it.frwiki.wiki/wiki/Inverse_modulaire\" target=\"_blank\">inverso</a> di un certo intero modulo <code class=\"code\">n</code>.\n",
    "<br><br>\n",
    "Nel caso ti trovassi in difficoltà, ti consiglio di leggere il file di approfondimento di Teoria dei Numeri che puoi trovare allegato in piattaforma.\n",
    "<br><br>\n",
    "Puoi collegarti al servizio remoto con:</p>\n",
    "<p><code class=\"code\">nc crypto-09.challs.olicyber.it 30002</code></p></div></div><hr><div class=\"input-group\"><input placeholder=\"flag{...}\" type=\"text\" class=\"form-control\" value=\"flag{m3an1Ng_is_4l1_4b0uT_C0nT3xt}\"><button type=\"button\" class=\"btn btn-success\">Submit <svg aria-hidden=\"true\" focusable=\"false\" data-prefix=\"fas\" data-icon=\"arrow-right\" class=\"svg-inline--fa fa-arrow-right fa-w-14 fa-fw \" role=\"img\" xmlns=\"http://www.w3.org/2000/svg\" viewBox=\"0 0 448 512\"><path fill=\"currentColor\" d=\"M190.5 66.9l22.2-22.2c9.4-9.4 24.6-9.4 33.9 0L441 239c9.4 9.4 9.4 24.6 0 33.9L246.6 467.3c-9.4 9.4-24.6 9.4-33.9 0l-22.2-22.2c-9.5-9.5-9.3-25 .4-34.3L311.4 296H24c-13.3 0-24-10.7-24-24v-32c0-13.3 10.7-24 24-24h287.4L190.9 101.2c-9.8-9.3-10-24.8-.4-34.3z\"></path></svg></button></div><div role=\"alert\" class=\"fade mt-3 w-100 alert alert-success show\"><svg aria-hidden=\"true\" focusable=\"false\" data-prefix=\"fas\" data-icon=\"check-circle\" class=\"svg-inline--fa fa-check-circle fa-w-16 fa-fw \" role=\"img\" xmlns=\"http://www.w3.org/2000/svg\" viewBox=\"0 0 512 512\"><path fill=\"currentColor\" d=\"M504 256c0 136.967-111.033 248-248 248S8 392.967 8 256 119.033 8 256 8s248 111.033 248 248zM227.314 387.314l184-184c6.248-6.248 6.248-16.379 0-22.627l-22.627-22.627c-6.248-6.249-16.379-6.249-22.628 0L216 308.118l-70.059-70.059c-6.248-6.248-16.379-6.248-22.628 0l-22.627 22.627c-6.248 6.248-6.248 16.379 0 22.627l104 104c6.249 6.249 16.379 6.249 22.628.001z\"></path></svg> Valid flag</div></div></div>"
   ]
  },
  {
   "cell_type": "code",
   "execution_count": null,
   "id": "26df5aa9-6433-401e-9b7e-2bf59c0bdaf9",
   "metadata": {},
   "outputs": [],
   "source": [
    "def gcd(a,b):\n",
    "  \"\"\"Returns the gcd of its inputs times the sign of b if b is nonzero,\n",
    "  and times the sign of a if b is 0.\n",
    "  \"\"\"\n",
    "  while b != 0:\n",
    "      a,b = b, a % b\n",
    "  return a\n",
    "\n",
    "\n",
    "def xgcd(a,b):\n",
    "    \"\"\"Extended GCD:\n",
    "    Returns (gcd, x, y) where gcd is the greatest common divisor of a and b\n",
    "    with the sign of b if b is nonzero, and with the sign of a if b is 0.\n",
    "    The numbers x,y are such that gcd = ax+by.\"\"\"\n",
    "    prevx, x = 1, 0;  prevy, y = 0, 1\n",
    "    while b:\n",
    "        q, r = divmod(a,b)\n",
    "        x, prevx = prevx - q*x, x  \n",
    "        y, prevy = prevy - q*y, y\n",
    "        a, b = b, r\n",
    "    return a, prevx, prevy\n",
    "\n",
    "# EXPLANATION:\n",
    "# Mathematical analysis reveals that at each stage in the calculation\n",
    "# the current remainder can be expressed in the form ax + by for some\n",
    "# integers x, y.  Moreover, the x-sequence and y-sequence are\n",
    "# generated by the recursion (where q is the integer quotient of the\n",
    "# current division):\n",
    "#\n",
    "#         new x = prev x - q * x;   new y = prev y - q * y\n",
    "#\n",
    "# and where the initial values are x = 0, prev x = 1, y = 1, prev y = 0.\n",
    "# Moreover, upon termination the x and y sequences have gone one step\n",
    "# too far, (as has the remainder), so return the previous x, y values. \n",
    "\n",
    "def mgcd(a,b):\n",
    "    \"\"\"Returns (gcd, x, y, s, t) where\n",
    "    gcd is the greatest common divisor of a and b, with the sign of b \n",
    "    if b is nonzero, and with the sign of a if b is 0;\n",
    "    the numbers x,y, s, t are such that\n",
    "       gcd = xa+yb\n",
    "         0 = sa+tb\n",
    "    and abs(xt-ys) = 1\n",
    "    Otherwise put: the determinant of matrix (hence m in name)\n",
    "        x y\n",
    "        s t\n",
    "    has magnitude 1, and multiplied by column vector\n",
    "           a\n",
    "           b\n",
    "    is column vector\n",
    "           gcd\n",
    "           0\n",
    "    \"\"\"\n",
    "    prevx, x = 1, 0;  prevy, y = 0, 1\n",
    "    while b:\n",
    "        q, r = divmod(a, b)\n",
    "        x, prevx = prevx - q*x, x  \n",
    "        y, prevy = prevy - q*y, y\n",
    "        a, b = b, r\n",
    "    return a, prevx, prevy, x, y\n",
    "\n",
    "##    Change from xgcd:\n",
    "##    The coefficients for next iteration of xgcd that give 0 there,\n",
    "##    and are excluded on purpose, are just included here as the last two\n",
    "##    returned values, so only the end of the last line is differentfrom xgcd."
   ]
  },
  {
   "cell_type": "markdown",
   "id": "69ab5049-37a9-45c4-bf69-5c3b52f06c22",
   "metadata": {},
   "source": [
    "<div class=\"modal-content\"><div class=\"modal-header\"><div class=\"text-center modal-title h4\">Crypto 10 - CRT</div><button type=\"button\" class=\"btn-close\" aria-label=\"Close\"></button></div><div class=\"modal-body\"><div class=\"text-center\"><span class=\"badge bg-primary\"><svg aria-hidden=\"true\" focusable=\"false\" data-prefix=\"fas\" data-icon=\"globe\" class=\"svg-inline--fa fa-globe fa-w-16 fa-fw \" role=\"img\" xmlns=\"http://www.w3.org/2000/svg\" viewBox=\"0 0 496 512\"><path fill=\"currentColor\" d=\"M336.5 160C322 70.7 287.8 8 248 8s-74 62.7-88.5 152h177zM152 256c0 22.2 1.2 43.5 3.3 64h185.3c2.1-20.5 3.3-41.8 3.3-64s-1.2-43.5-3.3-64H155.3c-2.1 20.5-3.3 41.8-3.3 64zm324.7-96c-28.6-67.9-86.5-120.4-158-141.6 24.4 33.8 41.2 84.7 50 141.6h108zM177.2 18.4C105.8 39.6 47.8 92.1 19.3 160h108c8.7-56.9 25.5-107.8 49.9-141.6zM487.4 192H372.7c2.1 21 3.3 42.5 3.3 64s-1.2 43-3.3 64h114.6c5.5-20.5 8.6-41.8 8.6-64s-3.1-43.5-8.5-64zM120 256c0-21.5 1.2-43 3.3-64H8.6C3.2 212.5 0 233.8 0 256s3.2 43.5 8.6 64h114.6c-2-21-3.2-42.5-3.2-64zm39.5 96c14.5 89.3 48.7 152 88.5 152s74-62.7 88.5-152h-177zm159.3 141.6c71.4-21.2 129.4-73.7 158-141.6h-108c-8.8 56.9-25.6 107.8-50 141.6zM19.3 352c28.6 67.9 86.5 120.4 158 141.6-24.4-33.8-41.2-84.7-50-141.6h-108z\"></path></svg> 45 <svg aria-hidden=\"true\" focusable=\"false\" data-prefix=\"fas\" data-icon=\"flag\" class=\"svg-inline--fa fa-flag fa-w-16 fa-fw \" role=\"img\" xmlns=\"http://www.w3.org/2000/svg\" viewBox=\"0 0 512 512\"><path fill=\"currentColor\" d=\"M349.565 98.783C295.978 98.783 251.721 64 184.348 64c-24.955 0-47.309 4.384-68.045 12.013a55.947 55.947 0 0 0 3.586-23.562C118.117 24.015 94.806 1.206 66.338.048 34.345-1.254 8 24.296 8 56c0 19.026 9.497 35.825 24 45.945V488c0 13.255 10.745 24 24 24h16c13.255 0 24-10.745 24-24v-94.4c28.311-12.064 63.582-22.122 114.435-22.122 53.588 0 97.844 34.783 165.217 34.783 48.169 0 86.667-16.294 122.505-40.858C506.84 359.452 512 349.571 512 339.045v-243.1c0-23.393-24.269-38.87-45.485-29.016-34.338 15.948-76.454 31.854-116.95 31.854z\"></path></svg></span> <span class=\"badge bg-danger\"><svg aria-hidden=\"true\" focusable=\"false\" data-prefix=\"fas\" data-icon=\"trophy\" class=\"svg-inline--fa fa-trophy fa-w-18 fa-fw \" role=\"img\" xmlns=\"http://www.w3.org/2000/svg\" viewBox=\"0 0 576 512\"><path fill=\"currentColor\" d=\"M552 64H448V24c0-13.3-10.7-24-24-24H152c-13.3 0-24 10.7-24 24v40H24C10.7 64 0 74.7 0 88v56c0 35.7 22.5 72.4 61.9 100.7 31.5 22.7 69.8 37.1 110 41.7C203.3 338.5 240 360 240 360v72h-48c-35.3 0-64 20.7-64 56v12c0 6.6 5.4 12 12 12h296c6.6 0 12-5.4 12-12v-12c0-35.3-28.7-56-64-56h-48v-72s36.7-21.5 68.1-73.6c40.3-4.6 78.6-19 110-41.7 39.3-28.3 61.9-65 61.9-100.7V88c0-13.3-10.7-24-24-24zM99.3 192.8C74.9 175.2 64 155.6 64 144v-16h64.2c1 32.6 5.8 61.2 12.8 86.2-15.1-5.2-29.2-12.4-41.7-21.4zM512 144c0 16.1-17.7 36.1-35.3 48.8-12.5 9-26.7 16.2-41.8 21.4 7-25 11.8-53.6 12.8-86.2H512v16z\"></path></svg> 50</span></div><div class=\"text-center mt-3\"><span><svg aria-hidden=\"true\" focusable=\"false\" data-prefix=\"fas\" data-icon=\"tags\" class=\"svg-inline--fa fa-tags fa-w-20 fa-fw d-inline-block\" role=\"img\" xmlns=\"http://www.w3.org/2000/svg\" viewBox=\"0 0 640 512\"><path fill=\"currentColor\" d=\"M497.941 225.941L286.059 14.059A48 48 0 0 0 252.118 0H48C21.49 0 0 21.49 0 48v204.118a48 48 0 0 0 14.059 33.941l211.882 211.882c18.744 18.745 49.136 18.746 67.882 0l204.118-204.118c18.745-18.745 18.745-49.137 0-67.882zM112 160c-26.51 0-48-21.49-48-48s21.49-48 48-48 48 21.49 48 48-21.49 48-48 48zm513.941 133.823L421.823 497.941c-18.745 18.745-49.137 18.745-67.882 0l-.36-.36L527.64 323.522c16.999-16.999 26.36-39.6 26.36-63.64s-9.362-46.641-26.36-63.64L331.397 0h48.721a48 48 0 0 1 33.941 14.059l211.882 211.882c18.745 18.745 18.745 49.137 0 67.882z\"></path></svg></span> <span class=\"badge text-dark bg-warning\">crypto</span> </div><div><div class=\"markdown bg-light p-3 mt-3\"><p>In questa challenge ti verrà richiesto di fare uso del <a href=\"https://it.wikipedia.org/wiki/Teorema_cinese_del_resto\" target=\"_blank\">Teorema Cinese del Resto</a>.\n",
    "<br><br>\n",
    "Questo è un potente strumento che permette di trovare soluzioni di un sistema di equazioni modulari in cui tutti i moduli sono <em>a due a due</em> <code class=\"code\">coprimi</code>.\n",
    "<br><br>\n",
    "Puoi trovare informazioni più dettagliate nel file di approfondimento in piattaforma.\n",
    "<br><br>\n",
    "Puoi collegarti al servizio remoto con:</p>\n",
    "<p><code class=\"code\">nc crypto-10.challs.olicyber.it 30003</code></p></div></div><hr><div class=\"input-group\"><input placeholder=\"flag{...}\" type=\"text\" class=\"form-control\" value=\"flag{Ch1n3s3_m4th3m4t1c14n5_4r3_D0p3!}\"><button type=\"button\" class=\"btn btn-success\">Submit <svg aria-hidden=\"true\" focusable=\"false\" data-prefix=\"fas\" data-icon=\"arrow-right\" class=\"svg-inline--fa fa-arrow-right fa-w-14 fa-fw \" role=\"img\" xmlns=\"http://www.w3.org/2000/svg\" viewBox=\"0 0 448 512\"><path fill=\"currentColor\" d=\"M190.5 66.9l22.2-22.2c9.4-9.4 24.6-9.4 33.9 0L441 239c9.4 9.4 9.4 24.6 0 33.9L246.6 467.3c-9.4 9.4-24.6 9.4-33.9 0l-22.2-22.2c-9.5-9.5-9.3-25 .4-34.3L311.4 296H24c-13.3 0-24-10.7-24-24v-32c0-13.3 10.7-24 24-24h287.4L190.9 101.2c-9.8-9.3-10-24.8-.4-34.3z\"></path></svg></button></div><div role=\"alert\" class=\"fade mt-3 w-100 alert alert-success show\"><svg aria-hidden=\"true\" focusable=\"false\" data-prefix=\"fas\" data-icon=\"check-circle\" class=\"svg-inline--fa fa-check-circle fa-w-16 fa-fw \" role=\"img\" xmlns=\"http://www.w3.org/2000/svg\" viewBox=\"0 0 512 512\"><path fill=\"currentColor\" d=\"M504 256c0 136.967-111.033 248-248 248S8 392.967 8 256 119.033 8 256 8s248 111.033 248 248zM227.314 387.314l184-184c6.248-6.248 6.248-16.379 0-22.627l-22.627-22.627c-6.248-6.249-16.379-6.249-22.628 0L216 308.118l-70.059-70.059c-6.248-6.248-16.379-6.248-22.628 0l-22.627 22.627c-6.248 6.248-6.248 16.379 0 22.627l104 104c6.249 6.249 16.379 6.249 22.628.001z\"></path></svg> Valid flag</div></div></div>"
   ]
  },
  {
   "cell_type": "code",
   "execution_count": 1,
   "id": "8448fd41-9be1-4dc5-97c8-9bb62a34763d",
   "metadata": {},
   "outputs": [],
   "source": [
    "from functools import reduce\n",
    "def chinese_remainder(n, a):\n",
    "    sum = 0\n",
    "    prod = reduce(lambda a, b: a*b, n)\n",
    "    for n_i, a_i in zip(n, a):\n",
    "        p = prod // n_i\n",
    "        sum += a_i * mul_inv(p, n_i) * p\n",
    "    return sum % prod\n",
    " \n",
    " \n",
    "\n",
    "def mul_inv(a, b):\n",
    "    b0 = b\n",
    "    x0, x1 = 0, 1\n",
    "    if b == 1: return 1\n",
    "    while a > 1:\n",
    "        q = a // b\n",
    "        a, b = b, a%b\n",
    "        x0, x1 = x1 - q * x0, x0\n",
    "    if x1 < 0: x1 += b0\n",
    "    return x1"
   ]
  },
  {
   "cell_type": "code",
   "execution_count": null,
   "id": "4f2d554c-7ab1-4fff-b0ea-e3c2df34638b",
   "metadata": {},
   "outputs": [],
   "source": []
  },
  {
   "cell_type": "code",
   "execution_count": 20,
   "id": "81c9ea72-bd37-464c-b279-ad05abd5c464",
   "metadata": {},
   "outputs": [
    {
     "name": "stdout",
     "output_type": "stream",
     "text": [
      "Qual è il testo cifrato (in esadecimale)?\n",
      "96461a0efc9c1f3590841f1fdad41c8f61c575a5ac3ebe66607d7de82ff19970846f4f81a1ac8597c3384029f5f786f8e72c674d7bcbf002\n",
      "Che IV hai utilizzato (in esadecimale)?\n",
      "baf376637471c9ce\n",
      "32\n",
      "0e713430be418960686f4b9ddd659a8c172e31f56de938650455124cd2d7f63135f628578b22617a9dc92a2e3a295a0bf9ebd83671ec2b910b754b94b7ed5656e476a7f098a5caed3fc7ac0eab9f9933\n",
      "Che IV hai utilizzato (in esadecimale)?\n",
      "a92bdd86e61be692d38d5668142a1cc8\n",
      "Decrypting with mambo rhythm\n"
     ]
    }
   ],
   "source": [
    "from Crypto.Cipher import DES\n",
    "from Crypto.Cipher import AES\n",
    "from Crypto.Cipher import ChaCha20\n",
    "from Crypto.Util.Padding import pad\n",
    "import socket\n",
    "\n",
    "s = socket.socket(socket.AF_INET, socket.SOCK_STREAM)\n",
    "s.connect((\"crypto-07.challs.olicyber.it\", 30000))\n",
    "\n",
    "def ssend(s, msg):\n",
    "    totalsent = 0\n",
    "    while totalsent < len(msg):\n",
    "        sent = s.send(msg[totalsent:])\n",
    "        if sent == 0:\n",
    "            raise RuntimeError(\"socket connection broken\")\n",
    "        totalsent = totalsent + sent\n",
    "\n",
    "def sreceive(s):\n",
    "    chunks = []\n",
    "    bytes_recd = 0\n",
    "    while bytes_recd < len(msg):\n",
    "        chunk = s.recv(min(len(msg) - bytes_recd, 2048))\n",
    "        if chunk == b'':\n",
    "            raise RuntimeError(\"socket connection broken\")\n",
    "        chunks.append(chunk)\n",
    "        bytes_recd = bytes_recd + len(chunk)\n",
    "    return b''.join(chunks)\n",
    "\n",
    "\n",
    "data = 'La lunghezza di questa frase non è divisibile per 8'.encode('utf-8')\n",
    "key = bytearray.fromhex('d13ff41f3c54a1a1')\n",
    "cipher = DES.new(key, DES.MODE_CBC)\n",
    "print(\"Qual è il testo cifrato (in esadecimale)?\")\n",
    "ct_bytes = cipher.encrypt(pad(data, DES.block_size, 'x923'))\n",
    "print(''.join('{:02x}'.format(x) for x in ct_bytes))\n",
    "# sreceive(s)\n",
    "# s.send(''.join('{:02x}'.format(x) for x in ct_bytes))\n",
    "print('Che IV hai utilizzato (in esadecimale)?')\n",
    "print(''.join('{:02x}'.format(x) for x in cipher.iv))\n",
    "# sreceive(s)\n",
    "# s.send(''.join('{:02x}'.format(x) for x in cipher.iv))\n",
    "\n",
    "key2 = bytearray.fromhex('000102030405060708090a0b0c0d0e0f000102030405060708090a0b0c0d0e0f')\n",
    "print(str(len(key2)))\n",
    "data = b'Mi chiedo cosa significhi il numero nel nome di questo algoritmo.'\n",
    "cipher2 = AES.new(key2,AES.MODE_CFB, segment_size = 24)\n",
    "ct2_bytes = cipher2.encrypt(pad(data, AES.block_size, 'pkcs7'))\n",
    "print(''.join('{:02x}'.format(x) for x in ct2_bytes))\n",
    "# sreceive(s)\n",
    "# s.send(''.join('{:02x}'.format(x) for x in ct2_bytes))\n",
    "print('Che IV hai utilizzato (in esadecimale)?')\n",
    "print(''.join('{:02x}'.format(x) for x in cipher2.iv))\n",
    "# sreceive(s)\n",
    "# s.send(''.join('{:02x}'.format(x) for x in cipher2.iv))\n",
    "\n",
    "\n",
    "key3 = bytes.fromhex('e340799dd61c2dd111451e7f63762b80f07025e6994eb8083c0523463127dfe5')\n",
    "ct_3 = bytes.fromhex('c5c69762af7170076eb4902f2b816476d52da661b04087f0cec9c3e1')\n",
    "nonce = bytes.fromhex('4155faf38115c1c2')\n",
    "cipher3 = ChaCha20.new(key=key3, nonce=nonce)\n",
    "print(cipher3.decrypt(ct_3).decode('utf-8'))\n",
    "\n",
    "s.close()"
   ]
  },
  {
   "cell_type": "markdown",
   "id": "10dcf487-0a81-466b-8a39-9cc5ce92489f",
   "metadata": {},
   "source": [
    "<div class=\"modal-content\"><div class=\"modal-header\"><div class=\"text-center modal-title h4\">SoundOfSystem</div><button type=\"button\" class=\"btn-close\" aria-label=\"Close\"></button></div><div class=\"modal-body\"><div class=\"text-center\"><span class=\"badge bg-primary\"><svg aria-hidden=\"true\" focusable=\"false\" data-prefix=\"fas\" data-icon=\"globe\" class=\"svg-inline--fa fa-globe fa-w-16 fa-fw \" role=\"img\" xmlns=\"http://www.w3.org/2000/svg\" viewBox=\"0 0 496 512\"><path fill=\"currentColor\" d=\"M336.5 160C322 70.7 287.8 8 248 8s-74 62.7-88.5 152h177zM152 256c0 22.2 1.2 43.5 3.3 64h185.3c2.1-20.5 3.3-41.8 3.3-64s-1.2-43.5-3.3-64H155.3c-2.1 20.5-3.3 41.8-3.3 64zm324.7-96c-28.6-67.9-86.5-120.4-158-141.6 24.4 33.8 41.2 84.7 50 141.6h108zM177.2 18.4C105.8 39.6 47.8 92.1 19.3 160h108c8.7-56.9 25.5-107.8 49.9-141.6zM487.4 192H372.7c2.1 21 3.3 42.5 3.3 64s-1.2 43-3.3 64h114.6c5.5-20.5 8.6-41.8 8.6-64s-3.1-43.5-8.5-64zM120 256c0-21.5 1.2-43 3.3-64H8.6C3.2 212.5 0 233.8 0 256s3.2 43.5 8.6 64h114.6c-2-21-3.2-42.5-3.2-64zm39.5 96c14.5 89.3 48.7 152 88.5 152s74-62.7 88.5-152h-177zm159.3 141.6c71.4-21.2 129.4-73.7 158-141.6h-108c-8.8 56.9-25.6 107.8-50 141.6zM19.3 352c28.6 67.9 86.5 120.4 158 141.6-24.4-33.8-41.2-84.7-50-141.6h-108z\"></path></svg> 20 <svg aria-hidden=\"true\" focusable=\"false\" data-prefix=\"fas\" data-icon=\"flag\" class=\"svg-inline--fa fa-flag fa-w-16 fa-fw \" role=\"img\" xmlns=\"http://www.w3.org/2000/svg\" viewBox=\"0 0 512 512\"><path fill=\"currentColor\" d=\"M349.565 98.783C295.978 98.783 251.721 64 184.348 64c-24.955 0-47.309 4.384-68.045 12.013a55.947 55.947 0 0 0 3.586-23.562C118.117 24.015 94.806 1.206 66.338.048 34.345-1.254 8 24.296 8 56c0 19.026 9.497 35.825 24 45.945V488c0 13.255 10.745 24 24 24h16c13.255 0 24-10.745 24-24v-94.4c28.311-12.064 63.582-22.122 114.435-22.122 53.588 0 97.844 34.783 165.217 34.783 48.169 0 86.667-16.294 122.505-40.858C506.84 359.452 512 349.571 512 339.045v-243.1c0-23.393-24.269-38.87-45.485-29.016-34.338 15.948-76.454 31.854-116.95 31.854z\"></path></svg></span> <span class=\"badge bg-danger\"><svg aria-hidden=\"true\" focusable=\"false\" data-prefix=\"fas\" data-icon=\"trophy\" class=\"svg-inline--fa fa-trophy fa-w-18 fa-fw \" role=\"img\" xmlns=\"http://www.w3.org/2000/svg\" viewBox=\"0 0 576 512\"><path fill=\"currentColor\" d=\"M552 64H448V24c0-13.3-10.7-24-24-24H152c-13.3 0-24 10.7-24 24v40H24C10.7 64 0 74.7 0 88v56c0 35.7 22.5 72.4 61.9 100.7 31.5 22.7 69.8 37.1 110 41.7C203.3 338.5 240 360 240 360v72h-48c-35.3 0-64 20.7-64 56v12c0 6.6 5.4 12 12 12h296c6.6 0 12-5.4 12-12v-12c0-35.3-28.7-56-64-56h-48v-72s36.7-21.5 68.1-73.6c40.3-4.6 78.6-19 110-41.7 39.3-28.3 61.9-65 61.9-100.7V88c0-13.3-10.7-24-24-24zM99.3 192.8C74.9 175.2 64 155.6 64 144v-16h64.2c1 32.6 5.8 61.2 12.8 86.2-15.1-5.2-29.2-12.4-41.7-21.4zM512 144c0 16.1-17.7 36.1-35.3 48.8-12.5 9-26.7 16.2-41.8 21.4 7-25 11.8-53.6 12.8-86.2H512v16z\"></path></svg> 499</span></div><div class=\"text-center mt-3\"><span><svg aria-hidden=\"true\" focusable=\"false\" data-prefix=\"fas\" data-icon=\"tags\" class=\"svg-inline--fa fa-tags fa-w-20 fa-fw d-inline-block\" role=\"img\" xmlns=\"http://www.w3.org/2000/svg\" viewBox=\"0 0 640 512\"><path fill=\"currentColor\" d=\"M497.941 225.941L286.059 14.059A48 48 0 0 0 252.118 0H48C21.49 0 0 21.49 0 48v204.118a48 48 0 0 0 14.059 33.941l211.882 211.882c18.744 18.745 49.136 18.746 67.882 0l204.118-204.118c18.745-18.745 18.745-49.137 0-67.882zM112 160c-26.51 0-48-21.49-48-48s21.49-48 48-48 48 21.49 48 48-21.49 48-48 48zm513.941 133.823L421.823 497.941c-18.745 18.745-49.137 18.745-67.882 0l-.36-.36L527.64 323.522c16.999-16.999 26.36-39.6 26.36-63.64s-9.362-46.641-26.36-63.64L331.397 0h48.721a48 48 0 0 1 33.941 14.059l211.882 211.882c18.745 18.745 18.745 49.137 0 67.882z\"></path></svg></span> <span class=\"badge text-dark bg-warning\">crypto</span>  <span class=\"badge text-dark bg-warning\">remote</span> </div><div><div class=\"markdown bg-light p-3 mt-3\"><p>Dimmi di stampare la flag senza dirmi di stampare la flag (cit.)\n",
    "<br><br>\n",
    "Puoi collegarti al servizio remoto con:</p>\n",
    "<p><code class=\"code\">nc soundofsystem.challs.olicyber.it 15000</code></p></div></div><hr><div><h5 class=\"text-center\"><svg aria-hidden=\"true\" focusable=\"false\" data-prefix=\"fas\" data-icon=\"file\" class=\"svg-inline--fa fa-file fa-w-12 fa-fw \" role=\"img\" xmlns=\"http://www.w3.org/2000/svg\" viewBox=\"0 0 384 512\"><path fill=\"currentColor\" d=\"M224 136V0H24C10.7 0 0 10.7 0 24v464c0 13.3 10.7 24 24 24h336c13.3 0 24-10.7 24-24V160H248c-13.2 0-24-10.8-24-24zm160-14.1v6.1H256V0h6.1c6.4 0 12.5 2.5 17 7l97.9 98c4.5 4.5 7 10.6 7 16.9z\"></path></svg> Attachments</h5><div class=\"mt-2\"><a href=\"/api/file/0145991f-b5d1-4c0d-8ad6-e5940f7fd12f/challenge.py?download\" target=\"_blank\" rel=\"noopener noreferrer\"><button type=\"button\" class=\"btn btn-primary\"><svg aria-hidden=\"true\" focusable=\"false\" data-prefix=\"fas\" data-icon=\"download\" class=\"svg-inline--fa fa-download fa-w-16 fa-fw \" role=\"img\" xmlns=\"http://www.w3.org/2000/svg\" viewBox=\"0 0 512 512\"><path fill=\"currentColor\" d=\"M216 0h80c13.3 0 24 10.7 24 24v168h87.7c17.8 0 26.7 21.5 14.1 34.1L269.7 378.3c-7.5 7.5-19.8 7.5-27.3 0L90.1 226.1c-12.6-12.6-3.7-34.1 14.1-34.1H192V24c0-13.3 10.7-24 24-24zm296 376v112c0 13.3-10.7 24-24 24H24c-13.3 0-24-10.7-24-24V376c0-13.3 10.7-24 24-24h146.7l49 49c20.1 20.1 52.5 20.1 72.6 0l49-49H488c13.3 0 24 10.7 24 24zm-124 88c0-11-9-20-20-20s-20 9-20 20 9 20 20 20 20-9 20-20zm64 0c0-11-9-20-20-20s-20 9-20 20 9 20 20 20 20-9 20-20z\"></path></svg> challenge.py</button> </a></div></div><hr><div class=\"input-group\"><input placeholder=\"flag{...}\" type=\"text\" class=\"form-control\" value=\"\"><button type=\"button\" class=\"btn btn-success\">Submit <svg aria-hidden=\"true\" focusable=\"false\" data-prefix=\"fas\" data-icon=\"arrow-right\" class=\"svg-inline--fa fa-arrow-right fa-w-14 fa-fw \" role=\"img\" xmlns=\"http://www.w3.org/2000/svg\" viewBox=\"0 0 448 512\"><path fill=\"currentColor\" d=\"M190.5 66.9l22.2-22.2c9.4-9.4 24.6-9.4 33.9 0L441 239c9.4 9.4 9.4 24.6 0 33.9L246.6 467.3c-9.4 9.4-24.6 9.4-33.9 0l-22.2-22.2c-9.5-9.5-9.3-25 .4-34.3L311.4 296H24c-13.3 0-24-10.7-24-24v-32c0-13.3 10.7-24 24-24h287.4L190.9 101.2c-9.8-9.3-10-24.8-.4-34.3z\"></path></svg></button></div></div></div>"
   ]
  },
  {
   "cell_type": "code",
   "execution_count": 8,
   "id": "4f241ee8-d7f6-4467-9272-4df62babad63",
   "metadata": {},
   "outputs": [
    {
     "name": "stdout",
     "output_type": "stream",
     "text": [
      "b\"''''''''''''''''show_flag'''''''''''''''''''''''\"\n",
      "[x] Opening connection to soundofsystem.challs.olicyber.it on port 15000\n",
      "[x] Opening connection to soundofsystem.challs.olicyber.it on port 15000: Trying 168.119.178.204\n",
      "[+] Opening connection to soundofsystem.challs.olicyber.it on port 15000: Done\n",
      "b'Tell me what to do!\\n> '\n",
      "b'flag{PCBC_mode_is_not_safe!}'\n"
     ]
    }
   ],
   "source": [
    "import pwn\n",
    "\n",
    "def pad(m):\n",
    "    if len(m)%48 == 0:\n",
    "        return m\n",
    "    return m + bytes([48-len(m)%48])*(48-len(m)%48)\n",
    "\n",
    "banned_cmd = b'show_flag'\n",
    "p = pad(banned_cmd)\n",
    "same_hash = p[16:32] + p[0:16] + p[32:48]\n",
    "print(same_hash)\n",
    "r = pwn.remote(\"soundofsystem.challs.olicyber.it\", 15000)\n",
    "# .recv() riceve e ritorna al massimo 1024 bytes dalla socket\n",
    "data = r.recv(1024)\n",
    "print(data)\n",
    "r.send(same_hash)\n",
    "r.send(b'\\n')\n",
    "data = r.recv(1024)\n",
    "print(data)\n",
    "\n"
   ]
  },
  {
   "cell_type": "markdown",
   "id": "0eef1e6c-fa0e-427a-a994-c7aa88265e27",
   "metadata": {},
   "source": [
    "<div class=\"modal-content\"><div class=\"modal-header\"><div class=\"text-center modal-title h4\">Small bits of RSA</div><button type=\"button\" class=\"btn-close\" aria-label=\"Close\"></button></div><div class=\"modal-body\"><div class=\"text-center\"><span class=\"badge bg-primary\"><svg aria-hidden=\"true\" focusable=\"false\" data-prefix=\"fas\" data-icon=\"globe\" class=\"svg-inline--fa fa-globe fa-w-16 fa-fw \" role=\"img\" xmlns=\"http://www.w3.org/2000/svg\" viewBox=\"0 0 496 512\"><path fill=\"currentColor\" d=\"M336.5 160C322 70.7 287.8 8 248 8s-74 62.7-88.5 152h177zM152 256c0 22.2 1.2 43.5 3.3 64h185.3c2.1-20.5 3.3-41.8 3.3-64s-1.2-43.5-3.3-64H155.3c-2.1 20.5-3.3 41.8-3.3 64zm324.7-96c-28.6-67.9-86.5-120.4-158-141.6 24.4 33.8 41.2 84.7 50 141.6h108zM177.2 18.4C105.8 39.6 47.8 92.1 19.3 160h108c8.7-56.9 25.5-107.8 49.9-141.6zM487.4 192H372.7c2.1 21 3.3 42.5 3.3 64s-1.2 43-3.3 64h114.6c5.5-20.5 8.6-41.8 8.6-64s-3.1-43.5-8.5-64zM120 256c0-21.5 1.2-43 3.3-64H8.6C3.2 212.5 0 233.8 0 256s3.2 43.5 8.6 64h114.6c-2-21-3.2-42.5-3.2-64zm39.5 96c14.5 89.3 48.7 152 88.5 152s74-62.7 88.5-152h-177zm159.3 141.6c71.4-21.2 129.4-73.7 158-141.6h-108c-8.8 56.9-25.6 107.8-50 141.6zM19.3 352c28.6 67.9 86.5 120.4 158 141.6-24.4-33.8-41.2-84.7-50-141.6h-108z\"></path></svg> 31 <svg aria-hidden=\"true\" focusable=\"false\" data-prefix=\"fas\" data-icon=\"flag\" class=\"svg-inline--fa fa-flag fa-w-16 fa-fw \" role=\"img\" xmlns=\"http://www.w3.org/2000/svg\" viewBox=\"0 0 512 512\"><path fill=\"currentColor\" d=\"M349.565 98.783C295.978 98.783 251.721 64 184.348 64c-24.955 0-47.309 4.384-68.045 12.013a55.947 55.947 0 0 0 3.586-23.562C118.117 24.015 94.806 1.206 66.338.048 34.345-1.254 8 24.296 8 56c0 19.026 9.497 35.825 24 45.945V488c0 13.255 10.745 24 24 24h16c13.255 0 24-10.745 24-24v-94.4c28.311-12.064 63.582-22.122 114.435-22.122 53.588 0 97.844 34.783 165.217 34.783 48.169 0 86.667-16.294 122.505-40.858C506.84 359.452 512 349.571 512 339.045v-243.1c0-23.393-24.269-38.87-45.485-29.016-34.338 15.948-76.454 31.854-116.95 31.854z\"></path></svg></span> <span class=\"badge bg-danger\"><svg aria-hidden=\"true\" focusable=\"false\" data-prefix=\"fas\" data-icon=\"trophy\" class=\"svg-inline--fa fa-trophy fa-w-18 fa-fw \" role=\"img\" xmlns=\"http://www.w3.org/2000/svg\" viewBox=\"0 0 576 512\"><path fill=\"currentColor\" d=\"M552 64H448V24c0-13.3-10.7-24-24-24H152c-13.3 0-24 10.7-24 24v40H24C10.7 64 0 74.7 0 88v56c0 35.7 22.5 72.4 61.9 100.7 31.5 22.7 69.8 37.1 110 41.7C203.3 338.5 240 360 240 360v72h-48c-35.3 0-64 20.7-64 56v12c0 6.6 5.4 12 12 12h296c6.6 0 12-5.4 12-12v-12c0-35.3-28.7-56-64-56h-48v-72s36.7-21.5 68.1-73.6c40.3-4.6 78.6-19 110-41.7 39.3-28.3 61.9-65 61.9-100.7V88c0-13.3-10.7-24-24-24zM99.3 192.8C74.9 175.2 64 155.6 64 144v-16h64.2c1 32.6 5.8 61.2 12.8 86.2-15.1-5.2-29.2-12.4-41.7-21.4zM512 144c0 16.1-17.7 36.1-35.3 48.8-12.5 9-26.7 16.2-41.8 21.4 7-25 11.8-53.6 12.8-86.2H512v16z\"></path></svg> 497</span></div><div class=\"text-center mt-3\"><span><svg aria-hidden=\"true\" focusable=\"false\" data-prefix=\"fas\" data-icon=\"tags\" class=\"svg-inline--fa fa-tags fa-w-20 fa-fw d-inline-block\" role=\"img\" xmlns=\"http://www.w3.org/2000/svg\" viewBox=\"0 0 640 512\"><path fill=\"currentColor\" d=\"M497.941 225.941L286.059 14.059A48 48 0 0 0 252.118 0H48C21.49 0 0 21.49 0 48v204.118a48 48 0 0 0 14.059 33.941l211.882 211.882c18.744 18.745 49.136 18.746 67.882 0l204.118-204.118c18.745-18.745 18.745-49.137 0-67.882zM112 160c-26.51 0-48-21.49-48-48s21.49-48 48-48 48 21.49 48 48-21.49 48-48 48zm513.941 133.823L421.823 497.941c-18.745 18.745-49.137 18.745-67.882 0l-.36-.36L527.64 323.522c16.999-16.999 26.36-39.6 26.36-63.64s-9.362-46.641-26.36-63.64L331.397 0h48.721a48 48 0 0 1 33.941 14.059l211.882 211.882c18.745 18.745 18.745 49.137 0 67.882z\"></path></svg></span> <span class=\"badge text-dark bg-warning\">crypto</span> </div><div><div class=\"markdown bg-light p-3 mt-3\"><p>Ho inventato un modo molto più rapido per generare dei primi casuali!\n",
    "<br><br>\n",
    "Vuoi provare a controllare se il metodo è sicuro?</p></div></div><hr><div><h5 class=\"text-center\"><svg aria-hidden=\"true\" focusable=\"false\" data-prefix=\"fas\" data-icon=\"file\" class=\"svg-inline--fa fa-file fa-w-12 fa-fw \" role=\"img\" xmlns=\"http://www.w3.org/2000/svg\" viewBox=\"0 0 384 512\"><path fill=\"currentColor\" d=\"M224 136V0H24C10.7 0 0 10.7 0 24v464c0 13.3 10.7 24 24 24h336c13.3 0 24-10.7 24-24V160H248c-13.2 0-24-10.8-24-24zm160-14.1v6.1H256V0h6.1c6.4 0 12.5 2.5 17 7l97.9 98c4.5 4.5 7 10.6 7 16.9z\"></path></svg> Attachments</h5><div class=\"mt-2\"><a href=\"/api/file/9f33d5e1-1f80-4eed-ae2d-3b8505e88e9d/challenge.py?download\" target=\"_blank\" rel=\"noopener noreferrer\"><button type=\"button\" class=\"btn btn-primary\"><svg aria-hidden=\"true\" focusable=\"false\" data-prefix=\"fas\" data-icon=\"download\" class=\"svg-inline--fa fa-download fa-w-16 fa-fw \" role=\"img\" xmlns=\"http://www.w3.org/2000/svg\" viewBox=\"0 0 512 512\"><path fill=\"currentColor\" d=\"M216 0h80c13.3 0 24 10.7 24 24v168h87.7c17.8 0 26.7 21.5 14.1 34.1L269.7 378.3c-7.5 7.5-19.8 7.5-27.3 0L90.1 226.1c-12.6-12.6-3.7-34.1 14.1-34.1H192V24c0-13.3 10.7-24 24-24zm296 376v112c0 13.3-10.7 24-24 24H24c-13.3 0-24-10.7-24-24V376c0-13.3 10.7-24 24-24h146.7l49 49c20.1 20.1 52.5 20.1 72.6 0l49-49H488c13.3 0 24 10.7 24 24zm-124 88c0-11-9-20-20-20s-20 9-20 20 9 20 20 20 20-9 20-20zm64 0c0-11-9-20-20-20s-20 9-20 20 9 20 20 20 20-9 20-20z\"></path></svg> challenge.py</button> </a></div><div class=\"mt-2\"><a href=\"/api/file/d1894c32-cb0a-42dd-a533-aadd7693e507/output.txt?download\" target=\"_blank\" rel=\"noopener noreferrer\"><button type=\"button\" class=\"btn btn-primary\"><svg aria-hidden=\"true\" focusable=\"false\" data-prefix=\"fas\" data-icon=\"download\" class=\"svg-inline--fa fa-download fa-w-16 fa-fw \" role=\"img\" xmlns=\"http://www.w3.org/2000/svg\" viewBox=\"0 0 512 512\"><path fill=\"currentColor\" d=\"M216 0h80c13.3 0 24 10.7 24 24v168h87.7c17.8 0 26.7 21.5 14.1 34.1L269.7 378.3c-7.5 7.5-19.8 7.5-27.3 0L90.1 226.1c-12.6-12.6-3.7-34.1 14.1-34.1H192V24c0-13.3 10.7-24 24-24zm296 376v112c0 13.3-10.7 24-24 24H24c-13.3 0-24-10.7-24-24V376c0-13.3 10.7-24 24-24h146.7l49 49c20.1 20.1 52.5 20.1 72.6 0l49-49H488c13.3 0 24 10.7 24 24zm-124 88c0-11-9-20-20-20s-20 9-20 20 9 20 20 20 20-9 20-20zm64 0c0-11-9-20-20-20s-20 9-20 20 9 20 20 20 20-9 20-20z\"></path></svg> output.txt</button> </a></div></div><hr><div class=\"input-group\"><input placeholder=\"flag{...}\" type=\"text\" class=\"form-control\" value=\"flag{7h4t'5_t00_34sy_70_bru73f0rc3}\"><button type=\"button\" class=\"btn btn-success\">Submit <svg aria-hidden=\"true\" focusable=\"false\" data-prefix=\"fas\" data-icon=\"arrow-right\" class=\"svg-inline--fa fa-arrow-right fa-w-14 fa-fw \" role=\"img\" xmlns=\"http://www.w3.org/2000/svg\" viewBox=\"0 0 448 512\"><path fill=\"currentColor\" d=\"M190.5 66.9l22.2-22.2c9.4-9.4 24.6-9.4 33.9 0L441 239c9.4 9.4 9.4 24.6 0 33.9L246.6 467.3c-9.4 9.4-24.6 9.4-33.9 0l-22.2-22.2c-9.5-9.5-9.3-25 .4-34.3L311.4 296H24c-13.3 0-24-10.7-24-24v-32c0-13.3 10.7-24 24-24h287.4L190.9 101.2c-9.8-9.3-10-24.8-.4-34.3z\"></path></svg></button></div></div></div>"
   ]
  },
  {
   "cell_type": "code",
   "execution_count": 2,
   "id": "46f6c0e5-41a8-4637-b18b-e4f3b9e4ef5b",
   "metadata": {},
   "outputs": [
    {
     "name": "stdout",
     "output_type": "stream",
     "text": [
      "p: 179769313486231590772930519078902473361797697894230657273430081157732675805500963132708477322407536103309737341564729408299256688816427021716906849751565679038407003874186468989273560272718047337362619495001096068334835059459953724143867482999330199023830844831573831882615153611132015143794802912244403273729\n",
      "q: 179769313486231590772930519078902473361797697894230657273430081157732675805500963227466661666933227863709193986225309083787086711972168767214153010865257133404379951599506636775036398541860941355145769121201482233159888855979326608676787893979205769716691598642540820345363055737972253688376740782260854194177\n",
      "b\"flag{7h4t'5_t00_34sy_70_bru73f0rc3}\"\n"
     ]
    }
   ],
   "source": [
    "from Crypto.Util.number import long_to_bytes\n",
    "\n",
    "n = 32317006071311007300714876688669951960444102669715484032130345427524655138867890910231815158340075124449160771204283641281724391624155744134891299920569778021546200566154762844737460306656401306717995042112975678567115629090803517462121258655469583240022037353048521499240827843155027799956552786959990585649107658811064260488232738134166283505443407341105321057437064785365817773808838948334147486828634905280811812093005565958364262499813458296923764425988731231141215242724174842455026328368850871890939653154468015125635908962988588710751338641786413095107838684263878858986666197310881722534070178524799048876033\n",
    "ct = 31469377515162416691937486388338904542391170029557470417191010059118166159973852280781681215886744020437544389486747794993719387196211451928074096624039829297844200827040451687798829988979874696927095434787957785811028717288603998622162415714934569904339518703767021117385594485878500603345465423689931222527166269469594918992875696170151104638753829337933139136133381038573593209571963250319298406843780788832370142118230372199145031446941989147873429923880735856152181695694639957103929228029967979558575192131192323945877383086247575773271999263154643957529332148722775194663765250864924076582924094191580148533021\n",
    "real_p = -1\n",
    "\n",
    "for x in range(1024):\n",
    "    for y in range(x + 1, 1024):\n",
    "        p = 1 + 2**x + 2**y + 2**1024\n",
    "        if n % p == 0:\n",
    "            real_p = p\n",
    "            break\n",
    "    if real_p != -1:\n",
    "        break\n",
    "\n",
    "q = n // p\n",
    "print(\"p:\", p)\n",
    "print(\"q:\", q)\n",
    "phi = (p-1)*(q-1)\n",
    "d = pow(65537, -1, phi)\n",
    "m = pow(ct, d, n)\n",
    "\n",
    "print(long_to_bytes(m))"
   ]
  }
 ],
 "metadata": {
  "kernelspec": {
   "display_name": "Python 3 (ipykernel)",
   "language": "python",
   "name": "python3"
  },
  "language_info": {
   "codemirror_mode": {
    "name": "ipython",
    "version": 3
   },
   "file_extension": ".py",
   "mimetype": "text/x-python",
   "name": "python",
   "nbconvert_exporter": "python",
   "pygments_lexer": "ipython3",
   "version": "3.10.7"
  }
 },
 "nbformat": 4,
 "nbformat_minor": 5
}
